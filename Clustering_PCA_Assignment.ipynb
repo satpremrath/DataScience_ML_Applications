{
 "cells": [
  {
   "cell_type": "code",
   "execution_count": 50,
   "metadata": {},
   "outputs": [],
   "source": [
    "import numpy as np\n",
    "import pandas as pd\n",
    "import matplotlib.pyplot as plt\n",
    "import seaborn as sns\n",
    "%matplotlib inline"
   ]
  },
  {
   "cell_type": "code",
   "execution_count": null,
   "metadata": {},
   "outputs": [],
   "source": []
  },
  {
   "cell_type": "code",
   "execution_count": 51,
   "metadata": {},
   "outputs": [
    {
     "data": {
      "text/html": [
       "<div>\n",
       "<style scoped>\n",
       "    .dataframe tbody tr th:only-of-type {\n",
       "        vertical-align: middle;\n",
       "    }\n",
       "\n",
       "    .dataframe tbody tr th {\n",
       "        vertical-align: top;\n",
       "    }\n",
       "\n",
       "    .dataframe thead th {\n",
       "        text-align: right;\n",
       "    }\n",
       "</style>\n",
       "<table border=\"1\" class=\"dataframe\">\n",
       "  <thead>\n",
       "    <tr style=\"text-align: right;\">\n",
       "      <th></th>\n",
       "      <th>country</th>\n",
       "      <th>child_mort</th>\n",
       "      <th>exports</th>\n",
       "      <th>health</th>\n",
       "      <th>imports</th>\n",
       "      <th>income</th>\n",
       "      <th>inflation</th>\n",
       "      <th>life_expec</th>\n",
       "      <th>total_fer</th>\n",
       "      <th>gdpp</th>\n",
       "    </tr>\n",
       "  </thead>\n",
       "  <tbody>\n",
       "    <tr>\n",
       "      <th>0</th>\n",
       "      <td>Afghanistan</td>\n",
       "      <td>90.2</td>\n",
       "      <td>10.0</td>\n",
       "      <td>7.58</td>\n",
       "      <td>44.9</td>\n",
       "      <td>1610</td>\n",
       "      <td>9.44</td>\n",
       "      <td>56.2</td>\n",
       "      <td>5.82</td>\n",
       "      <td>553</td>\n",
       "    </tr>\n",
       "    <tr>\n",
       "      <th>1</th>\n",
       "      <td>Albania</td>\n",
       "      <td>16.6</td>\n",
       "      <td>28.0</td>\n",
       "      <td>6.55</td>\n",
       "      <td>48.6</td>\n",
       "      <td>9930</td>\n",
       "      <td>4.49</td>\n",
       "      <td>76.3</td>\n",
       "      <td>1.65</td>\n",
       "      <td>4090</td>\n",
       "    </tr>\n",
       "    <tr>\n",
       "      <th>2</th>\n",
       "      <td>Algeria</td>\n",
       "      <td>27.3</td>\n",
       "      <td>38.4</td>\n",
       "      <td>4.17</td>\n",
       "      <td>31.4</td>\n",
       "      <td>12900</td>\n",
       "      <td>16.10</td>\n",
       "      <td>76.5</td>\n",
       "      <td>2.89</td>\n",
       "      <td>4460</td>\n",
       "    </tr>\n",
       "    <tr>\n",
       "      <th>3</th>\n",
       "      <td>Angola</td>\n",
       "      <td>119.0</td>\n",
       "      <td>62.3</td>\n",
       "      <td>2.85</td>\n",
       "      <td>42.9</td>\n",
       "      <td>5900</td>\n",
       "      <td>22.40</td>\n",
       "      <td>60.1</td>\n",
       "      <td>6.16</td>\n",
       "      <td>3530</td>\n",
       "    </tr>\n",
       "    <tr>\n",
       "      <th>4</th>\n",
       "      <td>Antigua and Barbuda</td>\n",
       "      <td>10.3</td>\n",
       "      <td>45.5</td>\n",
       "      <td>6.03</td>\n",
       "      <td>58.9</td>\n",
       "      <td>19100</td>\n",
       "      <td>1.44</td>\n",
       "      <td>76.8</td>\n",
       "      <td>2.13</td>\n",
       "      <td>12200</td>\n",
       "    </tr>\n",
       "  </tbody>\n",
       "</table>\n",
       "</div>"
      ],
      "text/plain": [
       "               country  child_mort  exports  health  imports  income  \\\n",
       "0          Afghanistan        90.2     10.0    7.58     44.9    1610   \n",
       "1              Albania        16.6     28.0    6.55     48.6    9930   \n",
       "2              Algeria        27.3     38.4    4.17     31.4   12900   \n",
       "3               Angola       119.0     62.3    2.85     42.9    5900   \n",
       "4  Antigua and Barbuda        10.3     45.5    6.03     58.9   19100   \n",
       "\n",
       "   inflation  life_expec  total_fer   gdpp  \n",
       "0       9.44        56.2       5.82    553  \n",
       "1       4.49        76.3       1.65   4090  \n",
       "2      16.10        76.5       2.89   4460  \n",
       "3      22.40        60.1       6.16   3530  \n",
       "4       1.44        76.8       2.13  12200  "
      ]
     },
     "execution_count": 51,
     "metadata": {},
     "output_type": "execute_result"
    }
   ],
   "source": [
    "countries = pd.read_csv(\"C:\\\\Users\\\\SRath\\\\Desktop\\\\Assignments\\\\Principal Component Analysis (PCA)\\\\Assignment_Clustering_PCA\\\\Country-data.csv\")\n",
    "\n",
    "countries.head()"
   ]
  },
  {
   "cell_type": "code",
   "execution_count": 52,
   "metadata": {},
   "outputs": [
    {
     "data": {
      "text/plain": [
       "(167, 10)"
      ]
     },
     "execution_count": 52,
     "metadata": {},
     "output_type": "execute_result"
    }
   ],
   "source": [
    "countries.shape"
   ]
  },
  {
   "cell_type": "markdown",
   "metadata": {},
   "source": [
    "### Data consistency checks\n",
    "-  Checks for null data\n",
    "-  Checks the datatype of all the columns\n",
    "-  Calculate the percentage null columnwise in the dataset"
   ]
  },
  {
   "cell_type": "code",
   "execution_count": 53,
   "metadata": {},
   "outputs": [
    {
     "name": "stdout",
     "output_type": "stream",
     "text": [
      "<class 'pandas.core.frame.DataFrame'>\n",
      "RangeIndex: 167 entries, 0 to 166\n",
      "Data columns (total 10 columns):\n",
      "country       167 non-null object\n",
      "child_mort    167 non-null float64\n",
      "exports       167 non-null float64\n",
      "health        167 non-null float64\n",
      "imports       167 non-null float64\n",
      "income        167 non-null int64\n",
      "inflation     167 non-null float64\n",
      "life_expec    167 non-null float64\n",
      "total_fer     167 non-null float64\n",
      "gdpp          167 non-null int64\n",
      "dtypes: float64(7), int64(2), object(1)\n",
      "memory usage: 13.1+ KB\n"
     ]
    }
   ],
   "source": [
    "countries.info()"
   ]
  },
  {
   "cell_type": "code",
   "execution_count": 54,
   "metadata": {},
   "outputs": [
    {
     "data": {
      "text/plain": [
       "country       0.0\n",
       "child_mort    0.0\n",
       "exports       0.0\n",
       "health        0.0\n",
       "imports       0.0\n",
       "income        0.0\n",
       "inflation     0.0\n",
       "life_expec    0.0\n",
       "total_fer     0.0\n",
       "gdpp          0.0\n",
       "dtype: float64"
      ]
     },
     "execution_count": 54,
     "metadata": {},
     "output_type": "execute_result"
    }
   ],
   "source": [
    "round(100 * (countries.isnull().sum()/len(countries.index)),2)"
   ]
  },
  {
   "cell_type": "markdown",
   "metadata": {},
   "source": [
    "#### Null Check Conclusion: \n",
    "-  There seems to be No Null values in the dataset."
   ]
  },
  {
   "cell_type": "markdown",
   "metadata": {},
   "source": [
    "### Outlier checks"
   ]
  },
  {
   "cell_type": "code",
   "execution_count": 55,
   "metadata": {
    "scrolled": false
   },
   "outputs": [
    {
     "data": {
      "text/html": [
       "<div>\n",
       "<style scoped>\n",
       "    .dataframe tbody tr th:only-of-type {\n",
       "        vertical-align: middle;\n",
       "    }\n",
       "\n",
       "    .dataframe tbody tr th {\n",
       "        vertical-align: top;\n",
       "    }\n",
       "\n",
       "    .dataframe thead th {\n",
       "        text-align: right;\n",
       "    }\n",
       "</style>\n",
       "<table border=\"1\" class=\"dataframe\">\n",
       "  <thead>\n",
       "    <tr style=\"text-align: right;\">\n",
       "      <th></th>\n",
       "      <th>child_mort</th>\n",
       "      <th>exports</th>\n",
       "      <th>health</th>\n",
       "      <th>imports</th>\n",
       "      <th>income</th>\n",
       "      <th>inflation</th>\n",
       "      <th>life_expec</th>\n",
       "      <th>total_fer</th>\n",
       "      <th>gdpp</th>\n",
       "    </tr>\n",
       "  </thead>\n",
       "  <tbody>\n",
       "    <tr>\n",
       "      <th>count</th>\n",
       "      <td>167.000000</td>\n",
       "      <td>167.000000</td>\n",
       "      <td>167.000000</td>\n",
       "      <td>167.000000</td>\n",
       "      <td>167.000000</td>\n",
       "      <td>167.000000</td>\n",
       "      <td>167.000000</td>\n",
       "      <td>167.000000</td>\n",
       "      <td>167.000000</td>\n",
       "    </tr>\n",
       "    <tr>\n",
       "      <th>mean</th>\n",
       "      <td>38.270060</td>\n",
       "      <td>41.108976</td>\n",
       "      <td>6.815689</td>\n",
       "      <td>46.890215</td>\n",
       "      <td>17144.688623</td>\n",
       "      <td>7.781832</td>\n",
       "      <td>70.555689</td>\n",
       "      <td>2.947964</td>\n",
       "      <td>12964.155689</td>\n",
       "    </tr>\n",
       "    <tr>\n",
       "      <th>std</th>\n",
       "      <td>40.328931</td>\n",
       "      <td>27.412010</td>\n",
       "      <td>2.746837</td>\n",
       "      <td>24.209589</td>\n",
       "      <td>19278.067698</td>\n",
       "      <td>10.570704</td>\n",
       "      <td>8.893172</td>\n",
       "      <td>1.513848</td>\n",
       "      <td>18328.704809</td>\n",
       "    </tr>\n",
       "    <tr>\n",
       "      <th>min</th>\n",
       "      <td>2.600000</td>\n",
       "      <td>0.109000</td>\n",
       "      <td>1.810000</td>\n",
       "      <td>0.065900</td>\n",
       "      <td>609.000000</td>\n",
       "      <td>-4.210000</td>\n",
       "      <td>32.100000</td>\n",
       "      <td>1.150000</td>\n",
       "      <td>231.000000</td>\n",
       "    </tr>\n",
       "    <tr>\n",
       "      <th>5%</th>\n",
       "      <td>3.460000</td>\n",
       "      <td>12.120000</td>\n",
       "      <td>2.791000</td>\n",
       "      <td>18.130000</td>\n",
       "      <td>1213.000000</td>\n",
       "      <td>0.183400</td>\n",
       "      <td>55.780000</td>\n",
       "      <td>1.390000</td>\n",
       "      <td>465.900000</td>\n",
       "    </tr>\n",
       "    <tr>\n",
       "      <th>10%</th>\n",
       "      <td>4.200000</td>\n",
       "      <td>15.660000</td>\n",
       "      <td>3.726000</td>\n",
       "      <td>22.520000</td>\n",
       "      <td>1524.000000</td>\n",
       "      <td>0.587800</td>\n",
       "      <td>57.820000</td>\n",
       "      <td>1.452000</td>\n",
       "      <td>593.800000</td>\n",
       "    </tr>\n",
       "    <tr>\n",
       "      <th>25%</th>\n",
       "      <td>8.250000</td>\n",
       "      <td>23.800000</td>\n",
       "      <td>4.920000</td>\n",
       "      <td>30.200000</td>\n",
       "      <td>3355.000000</td>\n",
       "      <td>1.810000</td>\n",
       "      <td>65.300000</td>\n",
       "      <td>1.795000</td>\n",
       "      <td>1330.000000</td>\n",
       "    </tr>\n",
       "    <tr>\n",
       "      <th>50%</th>\n",
       "      <td>19.300000</td>\n",
       "      <td>35.000000</td>\n",
       "      <td>6.320000</td>\n",
       "      <td>43.300000</td>\n",
       "      <td>9960.000000</td>\n",
       "      <td>5.390000</td>\n",
       "      <td>73.100000</td>\n",
       "      <td>2.410000</td>\n",
       "      <td>4660.000000</td>\n",
       "    </tr>\n",
       "    <tr>\n",
       "      <th>75%</th>\n",
       "      <td>62.100000</td>\n",
       "      <td>51.350000</td>\n",
       "      <td>8.600000</td>\n",
       "      <td>58.750000</td>\n",
       "      <td>22800.000000</td>\n",
       "      <td>10.750000</td>\n",
       "      <td>76.800000</td>\n",
       "      <td>3.880000</td>\n",
       "      <td>14050.000000</td>\n",
       "    </tr>\n",
       "    <tr>\n",
       "      <th>90%</th>\n",
       "      <td>100.220000</td>\n",
       "      <td>70.800000</td>\n",
       "      <td>10.940000</td>\n",
       "      <td>75.420000</td>\n",
       "      <td>41220.000000</td>\n",
       "      <td>16.640000</td>\n",
       "      <td>80.400000</td>\n",
       "      <td>5.322000</td>\n",
       "      <td>41840.000000</td>\n",
       "    </tr>\n",
       "    <tr>\n",
       "      <th>95%</th>\n",
       "      <td>116.000000</td>\n",
       "      <td>80.570000</td>\n",
       "      <td>11.570000</td>\n",
       "      <td>81.140000</td>\n",
       "      <td>48290.000000</td>\n",
       "      <td>20.870000</td>\n",
       "      <td>81.400000</td>\n",
       "      <td>5.861000</td>\n",
       "      <td>48610.000000</td>\n",
       "    </tr>\n",
       "    <tr>\n",
       "      <th>99%</th>\n",
       "      <td>153.400000</td>\n",
       "      <td>160.480000</td>\n",
       "      <td>13.474000</td>\n",
       "      <td>146.080000</td>\n",
       "      <td>84374.000000</td>\n",
       "      <td>41.478000</td>\n",
       "      <td>82.370000</td>\n",
       "      <td>6.563600</td>\n",
       "      <td>79088.000000</td>\n",
       "    </tr>\n",
       "    <tr>\n",
       "      <th>max</th>\n",
       "      <td>208.000000</td>\n",
       "      <td>200.000000</td>\n",
       "      <td>17.900000</td>\n",
       "      <td>174.000000</td>\n",
       "      <td>125000.000000</td>\n",
       "      <td>104.000000</td>\n",
       "      <td>82.800000</td>\n",
       "      <td>7.490000</td>\n",
       "      <td>105000.000000</td>\n",
       "    </tr>\n",
       "  </tbody>\n",
       "</table>\n",
       "</div>"
      ],
      "text/plain": [
       "       child_mort     exports      health     imports         income  \\\n",
       "count  167.000000  167.000000  167.000000  167.000000     167.000000   \n",
       "mean    38.270060   41.108976    6.815689   46.890215   17144.688623   \n",
       "std     40.328931   27.412010    2.746837   24.209589   19278.067698   \n",
       "min      2.600000    0.109000    1.810000    0.065900     609.000000   \n",
       "5%       3.460000   12.120000    2.791000   18.130000    1213.000000   \n",
       "10%      4.200000   15.660000    3.726000   22.520000    1524.000000   \n",
       "25%      8.250000   23.800000    4.920000   30.200000    3355.000000   \n",
       "50%     19.300000   35.000000    6.320000   43.300000    9960.000000   \n",
       "75%     62.100000   51.350000    8.600000   58.750000   22800.000000   \n",
       "90%    100.220000   70.800000   10.940000   75.420000   41220.000000   \n",
       "95%    116.000000   80.570000   11.570000   81.140000   48290.000000   \n",
       "99%    153.400000  160.480000   13.474000  146.080000   84374.000000   \n",
       "max    208.000000  200.000000   17.900000  174.000000  125000.000000   \n",
       "\n",
       "        inflation  life_expec   total_fer           gdpp  \n",
       "count  167.000000  167.000000  167.000000     167.000000  \n",
       "mean     7.781832   70.555689    2.947964   12964.155689  \n",
       "std     10.570704    8.893172    1.513848   18328.704809  \n",
       "min     -4.210000   32.100000    1.150000     231.000000  \n",
       "5%       0.183400   55.780000    1.390000     465.900000  \n",
       "10%      0.587800   57.820000    1.452000     593.800000  \n",
       "25%      1.810000   65.300000    1.795000    1330.000000  \n",
       "50%      5.390000   73.100000    2.410000    4660.000000  \n",
       "75%     10.750000   76.800000    3.880000   14050.000000  \n",
       "90%     16.640000   80.400000    5.322000   41840.000000  \n",
       "95%     20.870000   81.400000    5.861000   48610.000000  \n",
       "99%     41.478000   82.370000    6.563600   79088.000000  \n",
       "max    104.000000   82.800000    7.490000  105000.000000  "
      ]
     },
     "execution_count": 55,
     "metadata": {},
     "output_type": "execute_result"
    }
   ],
   "source": [
    "outlier_chk = countries[['child_mort','exports','health','imports','income','inflation','life_expec','total_fer','gdpp']]\n",
    "\n",
    "outlier_chk.describe(percentiles = [.05,.1,.25,.50,.75,.90,.95,.99])"
   ]
  },
  {
   "cell_type": "markdown",
   "metadata": {},
   "source": [
    "### Outliers Handling:"
   ]
  },
  {
   "cell_type": "markdown",
   "metadata": {},
   "source": [
    "#### Outlier check for gdpp:\n",
    "-  We observed that there are outliers present in gdpp and we decide to remove the outliers above 95 percentile as it doesn't matter to our analysis as they don't belong to poor set of countries."
   ]
  },
  {
   "cell_type": "code",
   "execution_count": 56,
   "metadata": {},
   "outputs": [
    {
     "data": {
      "image/png": "[encoded data removed]",
      "text/plain": [
       "<Figure size 432x288 with 1 Axes>"
      ]
     },
     "metadata": {
      "needs_background": "light"
     },
     "output_type": "display_data"
    }
   ],
   "source": [
    "plt.boxplot(outlier_chk.gdpp)\n",
    "plt.show()"
   ]
  },
  {
   "cell_type": "code",
   "execution_count": 57,
   "metadata": {},
   "outputs": [],
   "source": [
    "qup = countries.gdpp.quantile(0.95)"
   ]
  },
  {
   "cell_type": "code",
   "execution_count": 58,
   "metadata": {},
   "outputs": [],
   "source": [
    "countries = countries[(countries.gdpp <= qup)]"
   ]
  },
  {
   "cell_type": "code",
   "execution_count": 59,
   "metadata": {},
   "outputs": [
    {
     "data": {
      "text/plain": [
       "(158, 10)"
      ]
     },
     "execution_count": 59,
     "metadata": {},
     "output_type": "execute_result"
    }
   ],
   "source": [
    "countries.shape"
   ]
  },
  {
   "cell_type": "code",
   "execution_count": 60,
   "metadata": {},
   "outputs": [
    {
     "data": {
      "text/html": [
       "<div>\n",
       "<style scoped>\n",
       "    .dataframe tbody tr th:only-of-type {\n",
       "        vertical-align: middle;\n",
       "    }\n",
       "\n",
       "    .dataframe tbody tr th {\n",
       "        vertical-align: top;\n",
       "    }\n",
       "\n",
       "    .dataframe thead th {\n",
       "        text-align: right;\n",
       "    }\n",
       "</style>\n",
       "<table border=\"1\" class=\"dataframe\">\n",
       "  <thead>\n",
       "    <tr style=\"text-align: right;\">\n",
       "      <th></th>\n",
       "      <th>child_mort</th>\n",
       "      <th>exports</th>\n",
       "      <th>health</th>\n",
       "      <th>imports</th>\n",
       "      <th>income</th>\n",
       "      <th>inflation</th>\n",
       "      <th>life_expec</th>\n",
       "      <th>total_fer</th>\n",
       "      <th>gdpp</th>\n",
       "    </tr>\n",
       "  </thead>\n",
       "  <tbody>\n",
       "    <tr>\n",
       "      <th>count</th>\n",
       "      <td>158.000000</td>\n",
       "      <td>158.000000</td>\n",
       "      <td>158.000000</td>\n",
       "      <td>158.000000</td>\n",
       "      <td>158.000000</td>\n",
       "      <td>158.000000</td>\n",
       "      <td>158.000000</td>\n",
       "      <td>158.000000</td>\n",
       "      <td>158.000000</td>\n",
       "    </tr>\n",
       "    <tr>\n",
       "      <th>mean</th>\n",
       "      <td>40.196203</td>\n",
       "      <td>39.447462</td>\n",
       "      <td>6.688671</td>\n",
       "      <td>46.378265</td>\n",
       "      <td>14614.955696</td>\n",
       "      <td>8.099367</td>\n",
       "      <td>69.966456</td>\n",
       "      <td>3.009620</td>\n",
       "      <td>9913.379747</td>\n",
       "    </tr>\n",
       "    <tr>\n",
       "      <th>std</th>\n",
       "      <td>40.622685</td>\n",
       "      <td>25.243334</td>\n",
       "      <td>2.683807</td>\n",
       "      <td>23.229783</td>\n",
       "      <td>15224.031790</td>\n",
       "      <td>10.759661</td>\n",
       "      <td>8.780099</td>\n",
       "      <td>1.533079</td>\n",
       "      <td>12717.283188</td>\n",
       "    </tr>\n",
       "    <tr>\n",
       "      <th>min</th>\n",
       "      <td>2.600000</td>\n",
       "      <td>0.109000</td>\n",
       "      <td>1.970000</td>\n",
       "      <td>0.065900</td>\n",
       "      <td>609.000000</td>\n",
       "      <td>-4.210000</td>\n",
       "      <td>32.100000</td>\n",
       "      <td>1.150000</td>\n",
       "      <td>231.000000</td>\n",
       "    </tr>\n",
       "    <tr>\n",
       "      <th>5%</th>\n",
       "      <td>3.885000</td>\n",
       "      <td>11.970000</td>\n",
       "      <td>2.829500</td>\n",
       "      <td>17.770000</td>\n",
       "      <td>1207.000000</td>\n",
       "      <td>0.226300</td>\n",
       "      <td>55.510000</td>\n",
       "      <td>1.387000</td>\n",
       "      <td>457.050000</td>\n",
       "    </tr>\n",
       "    <tr>\n",
       "      <th>10%</th>\n",
       "      <td>4.500000</td>\n",
       "      <td>15.210000</td>\n",
       "      <td>3.737000</td>\n",
       "      <td>22.540000</td>\n",
       "      <td>1479.000000</td>\n",
       "      <td>0.664000</td>\n",
       "      <td>57.640000</td>\n",
       "      <td>1.440000</td>\n",
       "      <td>586.900000</td>\n",
       "    </tr>\n",
       "    <tr>\n",
       "      <th>25%</th>\n",
       "      <td>10.300000</td>\n",
       "      <td>23.575000</td>\n",
       "      <td>4.872500</td>\n",
       "      <td>30.475000</td>\n",
       "      <td>3290.000000</td>\n",
       "      <td>1.935000</td>\n",
       "      <td>64.150000</td>\n",
       "      <td>1.810000</td>\n",
       "      <td>1310.000000</td>\n",
       "    </tr>\n",
       "    <tr>\n",
       "      <th>50%</th>\n",
       "      <td>20.900000</td>\n",
       "      <td>34.000000</td>\n",
       "      <td>6.105000</td>\n",
       "      <td>43.250000</td>\n",
       "      <td>9790.000000</td>\n",
       "      <td>5.460000</td>\n",
       "      <td>71.850000</td>\n",
       "      <td>2.530000</td>\n",
       "      <td>4480.000000</td>\n",
       "    </tr>\n",
       "    <tr>\n",
       "      <th>75%</th>\n",
       "      <td>62.500000</td>\n",
       "      <td>50.675000</td>\n",
       "      <td>8.250000</td>\n",
       "      <td>58.475000</td>\n",
       "      <td>20100.000000</td>\n",
       "      <td>11.175000</td>\n",
       "      <td>76.400000</td>\n",
       "      <td>4.200000</td>\n",
       "      <td>12075.000000</td>\n",
       "    </tr>\n",
       "    <tr>\n",
       "      <th>90%</th>\n",
       "      <td>103.100000</td>\n",
       "      <td>68.030000</td>\n",
       "      <td>10.560000</td>\n",
       "      <td>72.110000</td>\n",
       "      <td>36200.000000</td>\n",
       "      <td>16.850000</td>\n",
       "      <td>80.030000</td>\n",
       "      <td>5.346000</td>\n",
       "      <td>31670.000000</td>\n",
       "    </tr>\n",
       "    <tr>\n",
       "      <th>95%</th>\n",
       "      <td>116.450000</td>\n",
       "      <td>77.615000</td>\n",
       "      <td>11.345000</td>\n",
       "      <td>80.320000</td>\n",
       "      <td>41415.000000</td>\n",
       "      <td>21.125000</td>\n",
       "      <td>80.960000</td>\n",
       "      <td>5.912000</td>\n",
       "      <td>41815.000000</td>\n",
       "    </tr>\n",
       "    <tr>\n",
       "      <th>99%</th>\n",
       "      <td>154.300000</td>\n",
       "      <td>119.256000</td>\n",
       "      <td>13.573000</td>\n",
       "      <td>127.780000</td>\n",
       "      <td>73433.000000</td>\n",
       "      <td>42.081000</td>\n",
       "      <td>82.301000</td>\n",
       "      <td>6.567200</td>\n",
       "      <td>47115.000000</td>\n",
       "    </tr>\n",
       "    <tr>\n",
       "      <th>max</th>\n",
       "      <td>208.000000</td>\n",
       "      <td>200.000000</td>\n",
       "      <td>17.900000</td>\n",
       "      <td>174.000000</td>\n",
       "      <td>80600.000000</td>\n",
       "      <td>104.000000</td>\n",
       "      <td>82.800000</td>\n",
       "      <td>7.490000</td>\n",
       "      <td>48400.000000</td>\n",
       "    </tr>\n",
       "  </tbody>\n",
       "</table>\n",
       "</div>"
      ],
      "text/plain": [
       "       child_mort     exports      health     imports        income  \\\n",
       "count  158.000000  158.000000  158.000000  158.000000    158.000000   \n",
       "mean    40.196203   39.447462    6.688671   46.378265  14614.955696   \n",
       "std     40.622685   25.243334    2.683807   23.229783  15224.031790   \n",
       "min      2.600000    0.109000    1.970000    0.065900    609.000000   \n",
       "5%       3.885000   11.970000    2.829500   17.770000   1207.000000   \n",
       "10%      4.500000   15.210000    3.737000   22.540000   1479.000000   \n",
       "25%     10.300000   23.575000    4.872500   30.475000   3290.000000   \n",
       "50%     20.900000   34.000000    6.105000   43.250000   9790.000000   \n",
       "75%     62.500000   50.675000    8.250000   58.475000  20100.000000   \n",
       "90%    103.100000   68.030000   10.560000   72.110000  36200.000000   \n",
       "95%    116.450000   77.615000   11.345000   80.320000  41415.000000   \n",
       "99%    154.300000  119.256000   13.573000  127.780000  73433.000000   \n",
       "max    208.000000  200.000000   17.900000  174.000000  80600.000000   \n",
       "\n",
       "        inflation  life_expec   total_fer          gdpp  \n",
       "count  158.000000  158.000000  158.000000    158.000000  \n",
       "mean     8.099367   69.966456    3.009620   9913.379747  \n",
       "std     10.759661    8.780099    1.533079  12717.283188  \n",
       "min     -4.210000   32.100000    1.150000    231.000000  \n",
       "5%       0.226300   55.510000    1.387000    457.050000  \n",
       "10%      0.664000   57.640000    1.440000    586.900000  \n",
       "25%      1.935000   64.150000    1.810000   1310.000000  \n",
       "50%      5.460000   71.850000    2.530000   4480.000000  \n",
       "75%     11.175000   76.400000    4.200000  12075.000000  \n",
       "90%     16.850000   80.030000    5.346000  31670.000000  \n",
       "95%     21.125000   80.960000    5.912000  41815.000000  \n",
       "99%     42.081000   82.301000    6.567200  47115.000000  \n",
       "max    104.000000   82.800000    7.490000  48400.000000  "
      ]
     },
     "execution_count": 60,
     "metadata": {},
     "output_type": "execute_result"
    }
   ],
   "source": [
    "outlier_chk = countries[['child_mort','exports','health','imports','income','inflation','life_expec','total_fer','gdpp']]\n",
    "\n",
    "outlier_chk.describe(percentiles = [.05,.1,.25,.50,.75,.90,.95,.99])"
   ]
  },
  {
   "cell_type": "code",
   "execution_count": 61,
   "metadata": {},
   "outputs": [
    {
     "data": {
      "image/png": "[encoded data removed]",
      "text/plain": [
       "<Figure size 432x288 with 1 Axes>"
      ]
     },
     "metadata": {
      "needs_background": "light"
     },
     "output_type": "display_data"
    }
   ],
   "source": [
    "plt.boxplot(outlier_chk.gdpp)\n",
    "plt.show()"
   ]
  },
  {
   "cell_type": "markdown",
   "metadata": {},
   "source": [
    "#### Outlier check for income:\n",
    "-  We observed that there are outliers present in income and we decide to remove the outliers above 95 percentile as it doesn't matter to our analysis as they don't belong to poor set of countries."
   ]
  },
  {
   "cell_type": "code",
   "execution_count": 62,
   "metadata": {},
   "outputs": [
    {
     "data": {
      "image/png": "[encoded data removed]",
      "text/plain": [
       "<Figure size 432x288 with 1 Axes>"
      ]
     },
     "metadata": {
      "needs_background": "light"
     },
     "output_type": "display_data"
    }
   ],
   "source": [
    "plt.boxplot(outlier_chk.income)\n",
    "plt.show()"
   ]
  },
  {
   "cell_type": "code",
   "execution_count": 63,
   "metadata": {},
   "outputs": [],
   "source": [
    "qup = outlier_chk.income.quantile(0.95)"
   ]
  },
  {
   "cell_type": "code",
   "execution_count": 64,
   "metadata": {},
   "outputs": [],
   "source": [
    "countries = countries[(countries.income <= qup)]"
   ]
  },
  {
   "cell_type": "code",
   "execution_count": 67,
   "metadata": {},
   "outputs": [
    {
     "data": {
      "text/plain": [
       "(150, 10)"
      ]
     },
     "execution_count": 67,
     "metadata": {},
     "output_type": "execute_result"
    }
   ],
   "source": [
    "countries.shape"
   ]
  },
  {
   "cell_type": "code",
   "execution_count": 68,
   "metadata": {},
   "outputs": [
    {
     "data": {
      "text/html": [
       "<div>\n",
       "<style scoped>\n",
       "    .dataframe tbody tr th:only-of-type {\n",
       "        vertical-align: middle;\n",
       "    }\n",
       "\n",
       "    .dataframe tbody tr th {\n",
       "        vertical-align: top;\n",
       "    }\n",
       "\n",
       "    .dataframe thead th {\n",
       "        text-align: right;\n",
       "    }\n",
       "</style>\n",
       "<table border=\"1\" class=\"dataframe\">\n",
       "  <thead>\n",
       "    <tr style=\"text-align: right;\">\n",
       "      <th></th>\n",
       "      <th>child_mort</th>\n",
       "      <th>exports</th>\n",
       "      <th>health</th>\n",
       "      <th>imports</th>\n",
       "      <th>income</th>\n",
       "      <th>inflation</th>\n",
       "      <th>life_expec</th>\n",
       "      <th>total_fer</th>\n",
       "      <th>gdpp</th>\n",
       "    </tr>\n",
       "  </thead>\n",
       "  <tbody>\n",
       "    <tr>\n",
       "      <th>count</th>\n",
       "      <td>150.000000</td>\n",
       "      <td>150.000000</td>\n",
       "      <td>150.000000</td>\n",
       "      <td>150.000000</td>\n",
       "      <td>150.000000</td>\n",
       "      <td>150.000000</td>\n",
       "      <td>150.000000</td>\n",
       "      <td>150.000000</td>\n",
       "      <td>150.000000</td>\n",
       "    </tr>\n",
       "    <tr>\n",
       "      <th>mean</th>\n",
       "      <td>41.862000</td>\n",
       "      <td>37.612660</td>\n",
       "      <td>6.718400</td>\n",
       "      <td>45.959773</td>\n",
       "      <td>12269.086667</td>\n",
       "      <td>8.029687</td>\n",
       "      <td>69.532000</td>\n",
       "      <td>3.061467</td>\n",
       "      <td>8513.426667</td>\n",
       "    </tr>\n",
       "    <tr>\n",
       "      <th>std</th>\n",
       "      <td>41.022172</td>\n",
       "      <td>21.536727</td>\n",
       "      <td>2.481361</td>\n",
       "      <td>21.106109</td>\n",
       "      <td>11133.537037</td>\n",
       "      <td>10.919868</td>\n",
       "      <td>8.785332</td>\n",
       "      <td>1.550472</td>\n",
       "      <td>11183.385699</td>\n",
       "    </tr>\n",
       "    <tr>\n",
       "      <th>min</th>\n",
       "      <td>2.600000</td>\n",
       "      <td>0.109000</td>\n",
       "      <td>1.970000</td>\n",
       "      <td>0.065900</td>\n",
       "      <td>609.000000</td>\n",
       "      <td>-4.210000</td>\n",
       "      <td>32.100000</td>\n",
       "      <td>1.230000</td>\n",
       "      <td>231.000000</td>\n",
       "    </tr>\n",
       "    <tr>\n",
       "      <th>5%</th>\n",
       "      <td>3.900000</td>\n",
       "      <td>11.890000</td>\n",
       "      <td>3.147000</td>\n",
       "      <td>18.295000</td>\n",
       "      <td>1199.000000</td>\n",
       "      <td>0.274450</td>\n",
       "      <td>55.270000</td>\n",
       "      <td>1.390000</td>\n",
       "      <td>451.850000</td>\n",
       "    </tr>\n",
       "    <tr>\n",
       "      <th>10%</th>\n",
       "      <td>4.590000</td>\n",
       "      <td>15.270000</td>\n",
       "      <td>3.970000</td>\n",
       "      <td>22.580000</td>\n",
       "      <td>1429.000000</td>\n",
       "      <td>0.670000</td>\n",
       "      <td>57.480000</td>\n",
       "      <td>1.458000</td>\n",
       "      <td>573.800000</td>\n",
       "    </tr>\n",
       "    <tr>\n",
       "      <th>25%</th>\n",
       "      <td>10.450000</td>\n",
       "      <td>22.975000</td>\n",
       "      <td>5.002500</td>\n",
       "      <td>30.725000</td>\n",
       "      <td>2977.500000</td>\n",
       "      <td>2.010000</td>\n",
       "      <td>63.200000</td>\n",
       "      <td>1.815000</td>\n",
       "      <td>1295.000000</td>\n",
       "    </tr>\n",
       "    <tr>\n",
       "      <th>50%</th>\n",
       "      <td>24.100000</td>\n",
       "      <td>32.650000</td>\n",
       "      <td>6.215000</td>\n",
       "      <td>43.300000</td>\n",
       "      <td>8955.000000</td>\n",
       "      <td>5.445000</td>\n",
       "      <td>71.350000</td>\n",
       "      <td>2.585000</td>\n",
       "      <td>4115.000000</td>\n",
       "    </tr>\n",
       "    <tr>\n",
       "      <th>75%</th>\n",
       "      <td>63.375000</td>\n",
       "      <td>50.000000</td>\n",
       "      <td>8.250000</td>\n",
       "      <td>58.475000</td>\n",
       "      <td>17950.000000</td>\n",
       "      <td>10.475000</td>\n",
       "      <td>76.300000</td>\n",
       "      <td>4.322500</td>\n",
       "      <td>10700.000000</td>\n",
       "    </tr>\n",
       "    <tr>\n",
       "      <th>90%</th>\n",
       "      <td>108.100000</td>\n",
       "      <td>66.050000</td>\n",
       "      <td>10.410000</td>\n",
       "      <td>71.370000</td>\n",
       "      <td>29680.000000</td>\n",
       "      <td>16.660000</td>\n",
       "      <td>80.000000</td>\n",
       "      <td>5.364000</td>\n",
       "      <td>23750.000000</td>\n",
       "    </tr>\n",
       "    <tr>\n",
       "      <th>95%</th>\n",
       "      <td>117.650000</td>\n",
       "      <td>76.355000</td>\n",
       "      <td>11.300000</td>\n",
       "      <td>80.065000</td>\n",
       "      <td>36200.000000</td>\n",
       "      <td>21.725000</td>\n",
       "      <td>80.675000</td>\n",
       "      <td>6.024000</td>\n",
       "      <td>37505.000000</td>\n",
       "    </tr>\n",
       "    <tr>\n",
       "      <th>99%</th>\n",
       "      <td>155.100000</td>\n",
       "      <td>90.419000</td>\n",
       "      <td>12.512000</td>\n",
       "      <td>104.570000</td>\n",
       "      <td>40904.000000</td>\n",
       "      <td>42.617000</td>\n",
       "      <td>81.951000</td>\n",
       "      <td>6.570400</td>\n",
       "      <td>45367.000000</td>\n",
       "    </tr>\n",
       "    <tr>\n",
       "      <th>max</th>\n",
       "      <td>208.000000</td>\n",
       "      <td>153.000000</td>\n",
       "      <td>14.200000</td>\n",
       "      <td>154.000000</td>\n",
       "      <td>41100.000000</td>\n",
       "      <td>104.000000</td>\n",
       "      <td>82.800000</td>\n",
       "      <td>7.490000</td>\n",
       "      <td>47400.000000</td>\n",
       "    </tr>\n",
       "  </tbody>\n",
       "</table>\n",
       "</div>"
      ],
      "text/plain": [
       "       child_mort     exports      health     imports        income  \\\n",
       "count  150.000000  150.000000  150.000000  150.000000    150.000000   \n",
       "mean    41.862000   37.612660    6.718400   45.959773  12269.086667   \n",
       "std     41.022172   21.536727    2.481361   21.106109  11133.537037   \n",
       "min      2.600000    0.109000    1.970000    0.065900    609.000000   \n",
       "5%       3.900000   11.890000    3.147000   18.295000   1199.000000   \n",
       "10%      4.590000   15.270000    3.970000   22.580000   1429.000000   \n",
       "25%     10.450000   22.975000    5.002500   30.725000   2977.500000   \n",
       "50%     24.100000   32.650000    6.215000   43.300000   8955.000000   \n",
       "75%     63.375000   50.000000    8.250000   58.475000  17950.000000   \n",
       "90%    108.100000   66.050000   10.410000   71.370000  29680.000000   \n",
       "95%    117.650000   76.355000   11.300000   80.065000  36200.000000   \n",
       "99%    155.100000   90.419000   12.512000  104.570000  40904.000000   \n",
       "max    208.000000  153.000000   14.200000  154.000000  41100.000000   \n",
       "\n",
       "        inflation  life_expec   total_fer          gdpp  \n",
       "count  150.000000  150.000000  150.000000    150.000000  \n",
       "mean     8.029687   69.532000    3.061467   8513.426667  \n",
       "std     10.919868    8.785332    1.550472  11183.385699  \n",
       "min     -4.210000   32.100000    1.230000    231.000000  \n",
       "5%       0.274450   55.270000    1.390000    451.850000  \n",
       "10%      0.670000   57.480000    1.458000    573.800000  \n",
       "25%      2.010000   63.200000    1.815000   1295.000000  \n",
       "50%      5.445000   71.350000    2.585000   4115.000000  \n",
       "75%     10.475000   76.300000    4.322500  10700.000000  \n",
       "90%     16.660000   80.000000    5.364000  23750.000000  \n",
       "95%     21.725000   80.675000    6.024000  37505.000000  \n",
       "99%     42.617000   81.951000    6.570400  45367.000000  \n",
       "max    104.000000   82.800000    7.490000  47400.000000  "
      ]
     },
     "execution_count": 68,
     "metadata": {},
     "output_type": "execute_result"
    }
   ],
   "source": [
    "outlier_chk = countries[['child_mort','exports','health','imports','income','inflation','life_expec','total_fer','gdpp']]\n",
    "\n",
    "outlier_chk.describe(percentiles = [.05,.1,.25,.50,.75,.90,.95,.99])"
   ]
  },
  {
   "cell_type": "code",
   "execution_count": 70,
   "metadata": {},
   "outputs": [
    {
     "data": {
      "image/png": "[encoded data removed]",
      "text/plain": [
       "<Figure size 432x288 with 1 Axes>"
      ]
     },
     "metadata": {
      "needs_background": "light"
     },
     "output_type": "display_data"
    }
   ],
   "source": [
    "plt.boxplot(outlier_chk.income)\n",
    "plt.show()"
   ]
  },
  {
   "cell_type": "markdown",
   "metadata": {},
   "source": [
    "#### Standardization of Parameters"
   ]
  },
  {
   "cell_type": "code",
   "execution_count": null,
   "metadata": {},
   "outputs": [],
   "source": []
  },
  {
   "cell_type": "code",
   "execution_count": 72,
   "metadata": {},
   "outputs": [
    {
     "data": {
      "text/html": [
       "<div>\n",
       "<style scoped>\n",
       "    .dataframe tbody tr th:only-of-type {\n",
       "        vertical-align: middle;\n",
       "    }\n",
       "\n",
       "    .dataframe tbody tr th {\n",
       "        vertical-align: top;\n",
       "    }\n",
       "\n",
       "    .dataframe thead th {\n",
       "        text-align: right;\n",
       "    }\n",
       "</style>\n",
       "<table border=\"1\" class=\"dataframe\">\n",
       "  <thead>\n",
       "    <tr style=\"text-align: right;\">\n",
       "      <th></th>\n",
       "      <th>country</th>\n",
       "      <th>child_mort</th>\n",
       "      <th>exports</th>\n",
       "      <th>health</th>\n",
       "      <th>imports</th>\n",
       "      <th>income</th>\n",
       "      <th>inflation</th>\n",
       "      <th>life_expec</th>\n",
       "      <th>total_fer</th>\n",
       "      <th>gdpp</th>\n",
       "    </tr>\n",
       "  </thead>\n",
       "  <tbody>\n",
       "    <tr>\n",
       "      <th>0</th>\n",
       "      <td>Afghanistan</td>\n",
       "      <td>90.2</td>\n",
       "      <td>10.0</td>\n",
       "      <td>7.58</td>\n",
       "      <td>44.9</td>\n",
       "      <td>1610</td>\n",
       "      <td>9.44</td>\n",
       "      <td>56.2</td>\n",
       "      <td>5.82</td>\n",
       "      <td>553</td>\n",
       "    </tr>\n",
       "    <tr>\n",
       "      <th>1</th>\n",
       "      <td>Albania</td>\n",
       "      <td>16.6</td>\n",
       "      <td>28.0</td>\n",
       "      <td>6.55</td>\n",
       "      <td>48.6</td>\n",
       "      <td>9930</td>\n",
       "      <td>4.49</td>\n",
       "      <td>76.3</td>\n",
       "      <td>1.65</td>\n",
       "      <td>4090</td>\n",
       "    </tr>\n",
       "    <tr>\n",
       "      <th>2</th>\n",
       "      <td>Algeria</td>\n",
       "      <td>27.3</td>\n",
       "      <td>38.4</td>\n",
       "      <td>4.17</td>\n",
       "      <td>31.4</td>\n",
       "      <td>12900</td>\n",
       "      <td>16.10</td>\n",
       "      <td>76.5</td>\n",
       "      <td>2.89</td>\n",
       "      <td>4460</td>\n",
       "    </tr>\n",
       "    <tr>\n",
       "      <th>3</th>\n",
       "      <td>Angola</td>\n",
       "      <td>119.0</td>\n",
       "      <td>62.3</td>\n",
       "      <td>2.85</td>\n",
       "      <td>42.9</td>\n",
       "      <td>5900</td>\n",
       "      <td>22.40</td>\n",
       "      <td>60.1</td>\n",
       "      <td>6.16</td>\n",
       "      <td>3530</td>\n",
       "    </tr>\n",
       "    <tr>\n",
       "      <th>4</th>\n",
       "      <td>Antigua and Barbuda</td>\n",
       "      <td>10.3</td>\n",
       "      <td>45.5</td>\n",
       "      <td>6.03</td>\n",
       "      <td>58.9</td>\n",
       "      <td>19100</td>\n",
       "      <td>1.44</td>\n",
       "      <td>76.8</td>\n",
       "      <td>2.13</td>\n",
       "      <td>12200</td>\n",
       "    </tr>\n",
       "  </tbody>\n",
       "</table>\n",
       "</div>"
      ],
      "text/plain": [
       "               country  child_mort  exports  health  imports  income  \\\n",
       "0          Afghanistan        90.2     10.0    7.58     44.9    1610   \n",
       "1              Albania        16.6     28.0    6.55     48.6    9930   \n",
       "2              Algeria        27.3     38.4    4.17     31.4   12900   \n",
       "3               Angola       119.0     62.3    2.85     42.9    5900   \n",
       "4  Antigua and Barbuda        10.3     45.5    6.03     58.9   19100   \n",
       "\n",
       "   inflation  life_expec  total_fer   gdpp  \n",
       "0       9.44        56.2       5.82    553  \n",
       "1       4.49        76.3       1.65   4090  \n",
       "2      16.10        76.5       2.89   4460  \n",
       "3      22.40        60.1       6.16   3530  \n",
       "4       1.44        76.8       2.13  12200  "
      ]
     },
     "execution_count": 72,
     "metadata": {},
     "output_type": "execute_result"
    }
   ],
   "source": [
    "countries.head()"
   ]
  },
  {
   "cell_type": "code",
   "execution_count": null,
   "metadata": {},
   "outputs": [],
   "source": []
  },
  {
   "cell_type": "code",
   "execution_count": 73,
   "metadata": {},
   "outputs": [
    {
     "name": "stderr",
     "output_type": "stream",
     "text": [
      "C:\\Users\\SRath\\AppData\\Local\\Continuum\\anaconda3\\lib\\site-packages\\sklearn\\preprocessing\\data.py:625: DataConversionWarning: Data with input dtype int64, float64 were all converted to float64 by StandardScaler.\n",
      "  return self.partial_fit(X, y)\n",
      "C:\\Users\\SRath\\AppData\\Local\\Continuum\\anaconda3\\lib\\site-packages\\sklearn\\base.py:462: DataConversionWarning: Data with input dtype int64, float64 were all converted to float64 by StandardScaler.\n",
      "  return self.fit(X, **fit_params).transform(X)\n"
     ]
    },
    {
     "data": {
      "text/html": [
       "<div>\n",
       "<style scoped>\n",
       "    .dataframe tbody tr th:only-of-type {\n",
       "        vertical-align: middle;\n",
       "    }\n",
       "\n",
       "    .dataframe tbody tr th {\n",
       "        vertical-align: top;\n",
       "    }\n",
       "\n",
       "    .dataframe thead th {\n",
       "        text-align: right;\n",
       "    }\n",
       "</style>\n",
       "<table border=\"1\" class=\"dataframe\">\n",
       "  <thead>\n",
       "    <tr style=\"text-align: right;\">\n",
       "      <th></th>\n",
       "      <th>country</th>\n",
       "      <th>child_mort</th>\n",
       "      <th>exports</th>\n",
       "      <th>health</th>\n",
       "      <th>imports</th>\n",
       "      <th>income</th>\n",
       "      <th>inflation</th>\n",
       "      <th>life_expec</th>\n",
       "      <th>total_fer</th>\n",
       "      <th>gdpp</th>\n",
       "    </tr>\n",
       "  </thead>\n",
       "  <tbody>\n",
       "    <tr>\n",
       "      <th>0</th>\n",
       "      <td>Afghanistan</td>\n",
       "      <td>1.182286</td>\n",
       "      <td>-1.286415</td>\n",
       "      <td>0.348392</td>\n",
       "      <td>-0.050380</td>\n",
       "      <td>-0.960593</td>\n",
       "      <td>0.129584</td>\n",
       "      <td>-1.522613</td>\n",
       "      <td>1.785117</td>\n",
       "      <td>-0.714193</td>\n",
       "    </tr>\n",
       "    <tr>\n",
       "      <th>1</th>\n",
       "      <td>Albania</td>\n",
       "      <td>-0.617876</td>\n",
       "      <td>-0.447833</td>\n",
       "      <td>-0.068093</td>\n",
       "      <td>0.125512</td>\n",
       "      <td>-0.210798</td>\n",
       "      <td>-0.325237</td>\n",
       "      <td>0.772956</td>\n",
       "      <td>-0.913396</td>\n",
       "      <td>-0.396861</td>\n",
       "    </tr>\n",
       "    <tr>\n",
       "      <th>2</th>\n",
       "      <td>Algeria</td>\n",
       "      <td>-0.356168</td>\n",
       "      <td>0.036680</td>\n",
       "      <td>-1.030458</td>\n",
       "      <td>-0.692148</td>\n",
       "      <td>0.056858</td>\n",
       "      <td>0.741524</td>\n",
       "      <td>0.795797</td>\n",
       "      <td>-0.110960</td>\n",
       "      <td>-0.363665</td>\n",
       "    </tr>\n",
       "    <tr>\n",
       "      <th>3</th>\n",
       "      <td>Angola</td>\n",
       "      <td>1.886697</td>\n",
       "      <td>1.150130</td>\n",
       "      <td>-1.564206</td>\n",
       "      <td>-0.145457</td>\n",
       "      <td>-0.573980</td>\n",
       "      <td>1.320387</td>\n",
       "      <td>-1.077204</td>\n",
       "      <td>2.005140</td>\n",
       "      <td>-0.447103</td>\n",
       "    </tr>\n",
       "    <tr>\n",
       "      <th>4</th>\n",
       "      <td>Antigua and Barbuda</td>\n",
       "      <td>-0.771966</td>\n",
       "      <td>0.367454</td>\n",
       "      <td>-0.278358</td>\n",
       "      <td>0.615157</td>\n",
       "      <td>0.615599</td>\n",
       "      <td>-0.605480</td>\n",
       "      <td>0.830060</td>\n",
       "      <td>-0.602776</td>\n",
       "      <td>0.330752</td>\n",
       "    </tr>\n",
       "  </tbody>\n",
       "</table>\n",
       "</div>"
      ],
      "text/plain": [
       "               country  child_mort   exports    health   imports    income  \\\n",
       "0          Afghanistan    1.182286 -1.286415  0.348392 -0.050380 -0.960593   \n",
       "1              Albania   -0.617876 -0.447833 -0.068093  0.125512 -0.210798   \n",
       "2              Algeria   -0.356168  0.036680 -1.030458 -0.692148  0.056858   \n",
       "3               Angola    1.886697  1.150130 -1.564206 -0.145457 -0.573980   \n",
       "4  Antigua and Barbuda   -0.771966  0.367454 -0.278358  0.615157  0.615599   \n",
       "\n",
       "   inflation  life_expec  total_fer      gdpp  \n",
       "0   0.129584   -1.522613   1.785117 -0.714193  \n",
       "1  -0.325237    0.772956  -0.913396 -0.396861  \n",
       "2   0.741524    0.795797  -0.110960 -0.363665  \n",
       "3   1.320387   -1.077204   2.005140 -0.447103  \n",
       "4  -0.605480    0.830060  -0.602776  0.330752  "
      ]
     },
     "execution_count": 73,
     "metadata": {},
     "output_type": "execute_result"
    }
   ],
   "source": [
    "from sklearn.preprocessing  import StandardScaler\n",
    "\n",
    "standard_scaler = StandardScaler()\n",
    "\n",
    "num_vars = ['child_mort','exports','health','imports','income', 'inflation','life_expec','total_fer', 'gdpp']\n",
    "\n",
    "countries[num_vars] = standard_scaler.fit_transform(countries[num_vars])\n",
    "\n",
    "countries.head()"
   ]
  },
  {
   "cell_type": "markdown",
   "metadata": {},
   "source": [
    "#### Applying PCA on the dataset\n",
    "-  importing PCA and applying on the standardized dataset."
   ]
  },
  {
   "cell_type": "code",
   "execution_count": null,
   "metadata": {},
   "outputs": [],
   "source": []
  },
  {
   "cell_type": "code",
   "execution_count": 74,
   "metadata": {},
   "outputs": [],
   "source": [
    "from sklearn.decomposition import PCA\n",
    "\n",
    "pca = PCA(svd_solver=\"randomized\", random_state=42)"
   ]
  },
  {
   "cell_type": "code",
   "execution_count": 75,
   "metadata": {},
   "outputs": [],
   "source": [
    "# Dropping countries before applying PCA on the standardized dataset\n",
    "\n",
    "countries_norm = countries.drop('country', axis=1)"
   ]
  },
  {
   "cell_type": "code",
   "execution_count": 76,
   "metadata": {},
   "outputs": [
    {
     "data": {
      "text/plain": [
       "PCA(copy=True, iterated_power='auto', n_components=None, random_state=42,\n",
       "  svd_solver='randomized', tol=0.0, whiten=False)"
      ]
     },
     "execution_count": 76,
     "metadata": {},
     "output_type": "execute_result"
    }
   ],
   "source": [
    "pca.fit(countries_norm)"
   ]
  },
  {
   "cell_type": "code",
   "execution_count": 77,
   "metadata": {},
   "outputs": [
    {
     "data": {
      "text/plain": [
       "array([[ 0.43, -0.21, -0.18, -0.09, -0.43,  0.19, -0.43,  0.41, -0.39],\n",
       "       [ 0.03,  0.6 , -0.1 ,  0.72, -0.13, -0.16, -0.13,  0.  , -0.21],\n",
       "       [-0.21,  0.24, -0.74, -0.2 ,  0.  ,  0.46,  0.22, -0.18, -0.17],\n",
       "       [ 0.28,  0.32,  0.19,  0.04,  0.37,  0.62, -0.14,  0.29,  0.39],\n",
       "       [-0.28, -0.15,  0.51,  0.22, -0.3 ,  0.56,  0.16, -0.22, -0.34],\n",
       "       [ 0.19, -0.04, -0.01, -0.05,  0.14,  0.07, -0.61, -0.75, -0.  ],\n",
       "       [ 0.04, -0.61, -0.34,  0.61,  0.05,  0.14,  0.05, -0.01,  0.33],\n",
       "       [ 0.76,  0.04,  0.04,  0.01, -0.07, -0.02,  0.58, -0.29, -0.08],\n",
       "       [ 0.03, -0.19,  0.01,  0.1 ,  0.74, -0.02,  0.03,  0.12, -0.62]])"
      ]
     },
     "execution_count": 77,
     "metadata": {},
     "output_type": "execute_result"
    }
   ],
   "source": [
    "pca.components_.round(2)"
   ]
  },
  {
   "cell_type": "markdown",
   "metadata": {},
   "source": [
    "#### Explained variance Ratios:"
   ]
  },
  {
   "cell_type": "code",
   "execution_count": 79,
   "metadata": {},
   "outputs": [
    {
     "data": {
      "text/plain": [
       "array([0.46, 0.18, 0.13, 0.1 , 0.07, 0.03, 0.02, 0.01, 0.  ])"
      ]
     },
     "execution_count": 79,
     "metadata": {},
     "output_type": "execute_result"
    }
   ],
   "source": [
    "pca.explained_variance_ratio_.round(2)"
   ]
  },
  {
   "cell_type": "code",
   "execution_count": 80,
   "metadata": {},
   "outputs": [
    {
     "data": {
      "image/png": "[encoded data removed]",
      "text/plain": [
       "<Figure size 864x576 with 1 Axes>"
      ]
     },
     "metadata": {
      "needs_background": "light"
     },
     "output_type": "display_data"
    }
   ],
   "source": [
    "%matplotlib inline\n",
    "fig = plt.figure(figsize=(12,8))\n",
    "\n",
    "plt.plot(np.cumsum(pca.explained_variance_ratio_))\n",
    "plt.xlabel('Number of Principal Components')\n",
    "plt.ylabel('Cummulative Explained Variance')\n",
    "plt.title('SCREE PLOT')\n",
    "\n",
    "\n",
    "plt.show()"
   ]
  },
  {
   "cell_type": "markdown",
   "metadata": {},
   "source": [
    "### Observations:\n",
    "-  Based on the variance ratios and Screeplot we understand that with 3 to 4 Principal components we'll be able to explain 90-95% of data."
   ]
  },
  {
   "cell_type": "code",
   "execution_count": 81,
   "metadata": {},
   "outputs": [],
   "source": [
    "colnames = list(countries_norm.columns)"
   ]
  },
  {
   "cell_type": "code",
   "execution_count": null,
   "metadata": {},
   "outputs": [],
   "source": []
  },
  {
   "cell_type": "code",
   "execution_count": 86,
   "metadata": {},
   "outputs": [
    {
     "data": {
      "text/html": [
       "<div>\n",
       "<style scoped>\n",
       "    .dataframe tbody tr th:only-of-type {\n",
       "        vertical-align: middle;\n",
       "    }\n",
       "\n",
       "    .dataframe tbody tr th {\n",
       "        vertical-align: top;\n",
       "    }\n",
       "\n",
       "    .dataframe thead th {\n",
       "        text-align: right;\n",
       "    }\n",
       "</style>\n",
       "<table border=\"1\" class=\"dataframe\">\n",
       "  <thead>\n",
       "    <tr style=\"text-align: right;\">\n",
       "      <th></th>\n",
       "      <th>PC1</th>\n",
       "      <th>PC2</th>\n",
       "      <th>PC3</th>\n",
       "      <th>PC4</th>\n",
       "      <th>features</th>\n",
       "    </tr>\n",
       "  </thead>\n",
       "  <tbody>\n",
       "    <tr>\n",
       "      <th>0</th>\n",
       "      <td>0.427997</td>\n",
       "      <td>0.029887</td>\n",
       "      <td>-0.212648</td>\n",
       "      <td>0.282429</td>\n",
       "      <td>child_mort</td>\n",
       "    </tr>\n",
       "    <tr>\n",
       "      <th>1</th>\n",
       "      <td>-0.209960</td>\n",
       "      <td>0.604894</td>\n",
       "      <td>0.235957</td>\n",
       "      <td>0.319446</td>\n",
       "      <td>exports</td>\n",
       "    </tr>\n",
       "    <tr>\n",
       "      <th>2</th>\n",
       "      <td>-0.184840</td>\n",
       "      <td>-0.102240</td>\n",
       "      <td>-0.736232</td>\n",
       "      <td>0.192457</td>\n",
       "      <td>health</td>\n",
       "    </tr>\n",
       "    <tr>\n",
       "      <th>3</th>\n",
       "      <td>-0.094636</td>\n",
       "      <td>0.719154</td>\n",
       "      <td>-0.198449</td>\n",
       "      <td>0.042356</td>\n",
       "      <td>imports</td>\n",
       "    </tr>\n",
       "    <tr>\n",
       "      <th>4</th>\n",
       "      <td>-0.429074</td>\n",
       "      <td>-0.125619</td>\n",
       "      <td>0.003263</td>\n",
       "      <td>0.367401</td>\n",
       "      <td>income</td>\n",
       "    </tr>\n",
       "    <tr>\n",
       "      <th>5</th>\n",
       "      <td>0.191168</td>\n",
       "      <td>-0.164472</td>\n",
       "      <td>0.456814</td>\n",
       "      <td>0.620715</td>\n",
       "      <td>inflation</td>\n",
       "    </tr>\n",
       "    <tr>\n",
       "      <th>6</th>\n",
       "      <td>-0.427897</td>\n",
       "      <td>-0.133800</td>\n",
       "      <td>0.219839</td>\n",
       "      <td>-0.143403</td>\n",
       "      <td>life_expec</td>\n",
       "    </tr>\n",
       "    <tr>\n",
       "      <th>7</th>\n",
       "      <td>0.413374</td>\n",
       "      <td>0.000716</td>\n",
       "      <td>-0.177530</td>\n",
       "      <td>0.287463</td>\n",
       "      <td>total_fer</td>\n",
       "    </tr>\n",
       "    <tr>\n",
       "      <th>8</th>\n",
       "      <td>-0.393686</td>\n",
       "      <td>-0.211756</td>\n",
       "      <td>-0.170734</td>\n",
       "      <td>0.394821</td>\n",
       "      <td>gdpp</td>\n",
       "    </tr>\n",
       "  </tbody>\n",
       "</table>\n",
       "</div>"
      ],
      "text/plain": [
       "        PC1       PC2       PC3       PC4    features\n",
       "0  0.427997  0.029887 -0.212648  0.282429  child_mort\n",
       "1 -0.209960  0.604894  0.235957  0.319446     exports\n",
       "2 -0.184840 -0.102240 -0.736232  0.192457      health\n",
       "3 -0.094636  0.719154 -0.198449  0.042356     imports\n",
       "4 -0.429074 -0.125619  0.003263  0.367401      income\n",
       "5  0.191168 -0.164472  0.456814  0.620715   inflation\n",
       "6 -0.427897 -0.133800  0.219839 -0.143403  life_expec\n",
       "7  0.413374  0.000716 -0.177530  0.287463   total_fer\n",
       "8 -0.393686 -0.211756 -0.170734  0.394821        gdpp"
      ]
     },
     "execution_count": 86,
     "metadata": {},
     "output_type": "execute_result"
    }
   ],
   "source": [
    "pcs_df = pd.DataFrame({'PC1': pca.components_[0], 'PC2': pca.components_[1], 'PC3': pca.components_[2], 'PC4': pca.components_[3], 'features': colnames})\n",
    "\n",
    "\n",
    "pcs_df"
   ]
  },
  {
   "cell_type": "code",
   "execution_count": 90,
   "metadata": {},
   "outputs": [
    {
     "data": {
      "image/png": "[encoded data removed]",
      "text/plain": [
       "<Figure size 576x576 with 1 Axes>"
      ]
     },
     "metadata": {
      "needs_background": "light"
     },
     "output_type": "display_data"
    }
   ],
   "source": [
    "%matplotlib inline\n",
    "fig = plt.figure(figsize=(8,8))\n",
    "\n",
    "\n",
    "plt.scatter(pcs_df.PC1, pcs_df.PC2)\n",
    "plt.xlabel(\"Principal Component 1\")\n",
    "plt.ylabel(\"Principal Component 2\")\n",
    "\n",
    "for i, txt in enumerate(pcs_df.features):\n",
    "    plt.annotate(txt, (pcs_df.PC1[i], pcs_df.PC2[i]))\n",
    "plt.tight_layout()\n",
    "plt.show()"
   ]
  },
  {
   "cell_type": "code",
   "execution_count": 91,
   "metadata": {},
   "outputs": [
    {
     "data": {
      "image/png": "[encoded data removed]",
      "text/plain": [
       "<Figure size 576x576 with 1 Axes>"
      ]
     },
     "metadata": {
      "needs_background": "light"
     },
     "output_type": "display_data"
    }
   ],
   "source": [
    "%matplotlib inline\n",
    "fig = plt.figure(figsize=(8,8))\n",
    "\n",
    "\n",
    "plt.scatter(pcs_df.PC3, pcs_df.PC4)\n",
    "plt.xlabel(\"Principal Component 3\")\n",
    "plt.ylabel(\"Principal Component 4\")\n",
    "\n",
    "for i, txt in enumerate(pcs_df.features):\n",
    "    plt.annotate(txt, (pcs_df.PC3[i], pcs_df.PC4[i]))\n",
    "plt.tight_layout()\n",
    "plt.show()"
   ]
  },
  {
   "cell_type": "code",
   "execution_count": 95,
   "metadata": {},
   "outputs": [
    {
     "data": {
      "text/plain": [
       "(150, 4)"
      ]
     },
     "execution_count": 95,
     "metadata": {},
     "output_type": "execute_result"
    }
   ],
   "source": [
    "from sklearn.decomposition import IncrementalPCA   \n",
    "\n",
    "pca_final = IncrementalPCA(n_components= 4)\n",
    "\n",
    "\n",
    "good_pca = pca_final.fit_transform(countries_norm)\n",
    "\n",
    "\n",
    "good_pca.shape"
   ]
  },
  {
   "cell_type": "code",
   "execution_count": 96,
   "metadata": {},
   "outputs": [],
   "source": [
    "pc = np.transpose(good_pca)"
   ]
  },
  {
   "cell_type": "code",
   "execution_count": 99,
   "metadata": {},
   "outputs": [
    {
     "data": {
      "text/html": [
       "<div>\n",
       "<style scoped>\n",
       "    .dataframe tbody tr th:only-of-type {\n",
       "        vertical-align: middle;\n",
       "    }\n",
       "\n",
       "    .dataframe tbody tr th {\n",
       "        vertical-align: top;\n",
       "    }\n",
       "\n",
       "    .dataframe thead th {\n",
       "        text-align: right;\n",
       "    }\n",
       "</style>\n",
       "<table border=\"1\" class=\"dataframe\">\n",
       "  <thead>\n",
       "    <tr style=\"text-align: right;\">\n",
       "      <th></th>\n",
       "      <th>PC1</th>\n",
       "      <th>PC2</th>\n",
       "      <th>PC3</th>\n",
       "      <th>PC4</th>\n",
       "    </tr>\n",
       "  </thead>\n",
       "  <tbody>\n",
       "    <tr>\n",
       "      <th>0</th>\n",
       "      <td>-2.824567</td>\n",
       "      <td>-0.368462</td>\n",
       "      <td>1.272981</td>\n",
       "      <td>0.094172</td>\n",
       "    </tr>\n",
       "    <tr>\n",
       "      <th>1</th>\n",
       "      <td>0.692647</td>\n",
       "      <td>-0.131092</td>\n",
       "      <td>-0.347292</td>\n",
       "      <td>-1.205543</td>\n",
       "    </tr>\n",
       "    <tr>\n",
       "      <th>2</th>\n",
       "      <td>0.032081</td>\n",
       "      <td>-0.526432</td>\n",
       "      <td>-1.572665</td>\n",
       "      <td>-0.048081</td>\n",
       "    </tr>\n",
       "    <tr>\n",
       "      <th>3</th>\n",
       "      <td>-2.831370</td>\n",
       "      <td>0.909745</td>\n",
       "      <td>-1.068510</td>\n",
       "      <td>2.006737</td>\n",
       "    </tr>\n",
       "    <tr>\n",
       "      <th>4</th>\n",
       "      <td>1.527442</td>\n",
       "      <td>0.506543</td>\n",
       "      <td>-0.338746</td>\n",
       "      <td>-0.367792</td>\n",
       "    </tr>\n",
       "  </tbody>\n",
       "</table>\n",
       "</div>"
      ],
      "text/plain": [
       "        PC1       PC2       PC3       PC4\n",
       "0 -2.824567 -0.368462  1.272981  0.094172\n",
       "1  0.692647 -0.131092 -0.347292 -1.205543\n",
       "2  0.032081 -0.526432 -1.572665 -0.048081\n",
       "3 -2.831370  0.909745 -1.068510  2.006737\n",
       "4  1.527442  0.506543 -0.338746 -0.367792"
      ]
     },
     "execution_count": 99,
     "metadata": {},
     "output_type": "execute_result"
    }
   ],
   "source": [
    "good_pca_df = pd.DataFrame({'PC1': pc[0], 'PC2': pc[1], 'PC3': pc[2], 'PC4': pc[3]})\n",
    "\n",
    "\n",
    "\n",
    "\n",
    "good_pca_df.head()"
   ]
  },
  {
   "cell_type": "code",
   "execution_count": 101,
   "metadata": {},
   "outputs": [
    {
     "data": {
      "image/png": "[encoded data removed]",
      "text/plain": [
       "<Figure size 432x288 with 1 Axes>"
      ]
     },
     "metadata": {
      "needs_background": "light"
     },
     "output_type": "display_data"
    }
   ],
   "source": [
    "sns.scatterplot(x = 'PC1', y = 'PC2', data = good_pca_df)\n",
    "plt.show()"
   ]
  },
  {
   "cell_type": "markdown",
   "metadata": {},
   "source": [
    "### Hopkin's Statistics:\n",
    "-  To identify the clustering tendency of the dataset."
   ]
  },
  {
   "cell_type": "code",
   "execution_count": 103,
   "metadata": {},
   "outputs": [],
   "source": [
    "from sklearn.neighbors import NearestNeighbors\n",
    "from random import sample\n",
    "from numpy.random import uniform\n",
    "from math import isnan\n",
    "\n",
    "def hopkins(X):\n",
    "    d = X.shape[1]\n",
    "    n = len(X)\n",
    "    m = int(0.1 * n)\n",
    "    nbrs = NearestNeighbors(n_neighbors=1).fit(X.values)\n",
    "    \n",
    "    rand_x = sample(range(0,n,1),m)\n",
    "    \n",
    "    ujd = []\n",
    "    wjd = []\n",
    "    for j in range(0,m):\n",
    "        u_dist,_ = nbrs.kneighbors(uniform(np.amin(X,axis=0), np.amax(X,axis=0),d).reshape(1,-1),2,return_distance = True)\n",
    "        ujd.append(u_dist[0][1])\n",
    "        w_dist,_ = nbrs.kneighbors(X.iloc[rand_x[j]].values.reshape(1,-1),2,return_distance = True)\n",
    "        wjd.append(w_dist[0][1])\n",
    "        \n",
    "    H = sum(ujd)/(sum(ujd) + sum(wjd))\n",
    "    if isnan(H):\n",
    "        print(ujd,wjd)\n",
    "        H = 0\n",
    "        \n",
    "    return H"
   ]
  },
  {
   "cell_type": "code",
   "execution_count": 104,
   "metadata": {},
   "outputs": [
    {
     "data": {
      "text/plain": [
       "0.8320368498020679"
      ]
     },
     "execution_count": 104,
     "metadata": {},
     "output_type": "execute_result"
    }
   ],
   "source": [
    "hopkins(good_pca_df)"
   ]
  },
  {
   "cell_type": "markdown",
   "metadata": {},
   "source": [
    "#### Observation from Hopkin's Statistics:\n",
    "-  0.83 is pretty good a value (> 0.5) and shows high tendency to cluster"
   ]
  },
  {
   "cell_type": "markdown",
   "metadata": {},
   "source": [
    "#### Silhouette Score Analysis:"
   ]
  },
  {
   "cell_type": "code",
   "execution_count": null,
   "metadata": {},
   "outputs": [],
   "source": []
  },
  {
   "cell_type": "code",
   "execution_count": 108,
   "metadata": {},
   "outputs": [],
   "source": [
    "from sklearn.cluster import KMeans"
   ]
  },
  {
   "cell_type": "code",
   "execution_count": 109,
   "metadata": {},
   "outputs": [],
   "source": [
    "sil_df = good_pca_df"
   ]
  },
  {
   "cell_type": "code",
   "execution_count": 110,
   "metadata": {},
   "outputs": [],
   "source": [
    "from sklearn.metrics import silhouette_score\n",
    "sse_ = []\n",
    "for k in range(2,10):\n",
    "    kmeans = KMeans(n_clusters = k).fit(sil_df)\n",
    "    sse_.append([k, silhouette_score(sil_df, kmeans.labels_)])"
   ]
  },
  {
   "cell_type": "code",
   "execution_count": 111,
   "metadata": {},
   "outputs": [
    {
     "data": {
      "text/plain": [
       "[<matplotlib.lines.Line2D at 0x104f24a8>]"
      ]
     },
     "execution_count": 111,
     "metadata": {},
     "output_type": "execute_result"
    },
    {
     "data": {
      "image/png": "[encoded data removed]",
      "text/plain": [
       "<Figure size 432x288 with 1 Axes>"
      ]
     },
     "metadata": {
      "needs_background": "light"
     },
     "output_type": "display_data"
    }
   ],
   "source": [
    "plt.plot(pd.DataFrame(sse_)[0], pd.DataFrame(sse_)[1])"
   ]
  },
  {
   "cell_type": "code",
   "execution_count": null,
   "metadata": {},
   "outputs": [],
   "source": []
  },
  {
   "cell_type": "markdown",
   "metadata": {},
   "source": [
    "#### Observation from Silhouette Analysis:\n",
    "-  The maximum value is obtained when K = 3.\n",
    "-  We find that 3 seems to be a good number of clusters for KMeans algorithm"
   ]
  },
  {
   "cell_type": "markdown",
   "metadata": {},
   "source": [
    "#### Sum of Squared Distances: Elbow Curve"
   ]
  },
  {
   "cell_type": "code",
   "execution_count": 113,
   "metadata": {},
   "outputs": [
    {
     "data": {
      "text/plain": [
       "[<matplotlib.lines.Line2D at 0x11ff8f28>]"
      ]
     },
     "execution_count": 113,
     "metadata": {},
     "output_type": "execute_result"
    },
    {
     "data": {
      "image/png": "[encoded data removed]",
      "text/plain": [
       "<Figure size 432x288 with 1 Axes>"
      ]
     },
     "metadata": {
      "needs_background": "light"
     },
     "output_type": "display_data"
    }
   ],
   "source": [
    "ssd = []\n",
    "for num_clusters in list(range(1,21)):\n",
    "    model_clus = KMeans(n_clusters= num_clusters, max_iter=50)\n",
    "    model_clus.fit(sil_df)\n",
    "    ssd.append(model_clus.inertia_)\n",
    "\n",
    "plt.xlabel('K')\n",
    "plt.ylabel('Squared distance')\n",
    "plt.plot(ssd)"
   ]
  },
  {
   "cell_type": "markdown",
   "metadata": {},
   "source": [
    "#### Observation:\n",
    "-  As K increases, the sum of squared distances drop. \n",
    "-  Elbow of the plot is at K between 2.5 and 3"
   ]
  },
  {
   "cell_type": "markdown",
   "metadata": {},
   "source": [
    "## KMeans using K = 3"
   ]
  },
  {
   "cell_type": "code",
   "execution_count": 114,
   "metadata": {},
   "outputs": [
    {
     "data": {
      "text/plain": [
       "KMeans(algorithm='auto', copy_x=True, init='k-means++', max_iter=50,\n",
       "    n_clusters=3, n_init=10, n_jobs=None, precompute_distances='auto',\n",
       "    random_state=50, tol=0.0001, verbose=0)"
      ]
     },
     "execution_count": 114,
     "metadata": {},
     "output_type": "execute_result"
    }
   ],
   "source": [
    "model_clus = KMeans(n_clusters= 3, max_iter= 50, random_state= 50)\n",
    "\n",
    "model_clus.fit(sil_df)"
   ]
  },
  {
   "cell_type": "code",
   "execution_count": null,
   "metadata": {},
   "outputs": [],
   "source": []
  },
  {
   "cell_type": "code",
   "execution_count": 115,
   "metadata": {},
   "outputs": [],
   "source": [
    "dat4 = good_pca_df"
   ]
  },
  {
   "cell_type": "code",
   "execution_count": 116,
   "metadata": {},
   "outputs": [
    {
     "data": {
      "text/html": [
       "<div>\n",
       "<style scoped>\n",
       "    .dataframe tbody tr th:only-of-type {\n",
       "        vertical-align: middle;\n",
       "    }\n",
       "\n",
       "    .dataframe tbody tr th {\n",
       "        vertical-align: top;\n",
       "    }\n",
       "\n",
       "    .dataframe thead th {\n",
       "        text-align: right;\n",
       "    }\n",
       "</style>\n",
       "<table border=\"1\" class=\"dataframe\">\n",
       "  <thead>\n",
       "    <tr style=\"text-align: right;\">\n",
       "      <th></th>\n",
       "      <th>PC1</th>\n",
       "      <th>PC2</th>\n",
       "      <th>PC3</th>\n",
       "      <th>PC4</th>\n",
       "      <th>Cluster_ID</th>\n",
       "    </tr>\n",
       "  </thead>\n",
       "  <tbody>\n",
       "    <tr>\n",
       "      <th>0</th>\n",
       "      <td>-2.824567</td>\n",
       "      <td>-0.368462</td>\n",
       "      <td>1.272981</td>\n",
       "      <td>0.094172</td>\n",
       "      <td>1</td>\n",
       "    </tr>\n",
       "    <tr>\n",
       "      <th>1</th>\n",
       "      <td>0.692647</td>\n",
       "      <td>-0.131092</td>\n",
       "      <td>-0.347292</td>\n",
       "      <td>-1.205543</td>\n",
       "      <td>0</td>\n",
       "    </tr>\n",
       "    <tr>\n",
       "      <th>2</th>\n",
       "      <td>0.032081</td>\n",
       "      <td>-0.526432</td>\n",
       "      <td>-1.572665</td>\n",
       "      <td>-0.048081</td>\n",
       "      <td>0</td>\n",
       "    </tr>\n",
       "    <tr>\n",
       "      <th>3</th>\n",
       "      <td>-2.831370</td>\n",
       "      <td>0.909745</td>\n",
       "      <td>-1.068510</td>\n",
       "      <td>2.006737</td>\n",
       "      <td>1</td>\n",
       "    </tr>\n",
       "    <tr>\n",
       "      <th>4</th>\n",
       "      <td>1.527442</td>\n",
       "      <td>0.506543</td>\n",
       "      <td>-0.338746</td>\n",
       "      <td>-0.367792</td>\n",
       "      <td>0</td>\n",
       "    </tr>\n",
       "  </tbody>\n",
       "</table>\n",
       "</div>"
      ],
      "text/plain": [
       "        PC1       PC2       PC3       PC4  Cluster_ID\n",
       "0 -2.824567 -0.368462  1.272981  0.094172           1\n",
       "1  0.692647 -0.131092 -0.347292 -1.205543           0\n",
       "2  0.032081 -0.526432 -1.572665 -0.048081           0\n",
       "3 -2.831370  0.909745 -1.068510  2.006737           1\n",
       "4  1.527442  0.506543 -0.338746 -0.367792           0"
      ]
     },
     "execution_count": 116,
     "metadata": {},
     "output_type": "execute_result"
    }
   ],
   "source": [
    "dat4.index = pd.RangeIndex(len(dat4.index))\n",
    "dat_km = pd.concat([dat4, pd.Series(model_clus.labels_)], axis = 1)\n",
    "dat_km.columns = ['PC1','PC2','PC3','PC4','Cluster_ID']\n",
    "dat_km.head()"
   ]
  },
  {
   "cell_type": "code",
   "execution_count": 117,
   "metadata": {},
   "outputs": [
    {
     "data": {
      "text/plain": [
       "0    78\n",
       "1    50\n",
       "2    22\n",
       "Name: Cluster_ID, dtype: int64"
      ]
     },
     "execution_count": 117,
     "metadata": {},
     "output_type": "execute_result"
    }
   ],
   "source": [
    "dat_km['Cluster_ID'].value_counts()"
   ]
  },
  {
   "cell_type": "code",
   "execution_count": 118,
   "metadata": {},
   "outputs": [
    {
     "data": {
      "text/plain": [
       "<matplotlib.axes._subplots.AxesSubplot at 0x187e2dd8>"
      ]
     },
     "execution_count": 118,
     "metadata": {},
     "output_type": "execute_result"
    },
    {
     "data": {
      "image/png": "[encoded data removed]",
      "text/plain": [
       "<Figure size 432x288 with 1 Axes>"
      ]
     },
     "metadata": {
      "needs_background": "light"
     },
     "output_type": "display_data"
    }
   ],
   "source": [
    "sns.scatterplot(x = 'PC1', y = 'PC2',hue = 'Cluster_ID', legend='full', data = dat_km)"
   ]
  },
  {
   "cell_type": "code",
   "execution_count": null,
   "metadata": {},
   "outputs": [],
   "source": []
  },
  {
   "cell_type": "code",
   "execution_count": 121,
   "metadata": {},
   "outputs": [
    {
     "data": {
      "text/plain": [
       "<matplotlib.axes._subplots.AxesSubplot at 0x188a6e10>"
      ]
     },
     "execution_count": 121,
     "metadata": {},
     "output_type": "execute_result"
    },
    {
     "data": {
      "image/png": "[encoded data removed]",
      "text/plain": [
       "<Figure size 432x288 with 1 Axes>"
      ]
     },
     "metadata": {
      "needs_background": "light"
     },
     "output_type": "display_data"
    }
   ],
   "source": [
    "sns.scatterplot(x = 'PC3', y = 'PC4',hue = 'Cluster_ID', legend='full', data = dat_km)"
   ]
  },
  {
   "cell_type": "code",
   "execution_count": 136,
   "metadata": {},
   "outputs": [],
   "source": [
    "countries.reset_index(inplace= True)"
   ]
  },
  {
   "cell_type": "code",
   "execution_count": 138,
   "metadata": {},
   "outputs": [
    {
     "data": {
      "text/html": [
       "<div>\n",
       "<style scoped>\n",
       "    .dataframe tbody tr th:only-of-type {\n",
       "        vertical-align: middle;\n",
       "    }\n",
       "\n",
       "    .dataframe tbody tr th {\n",
       "        vertical-align: top;\n",
       "    }\n",
       "\n",
       "    .dataframe thead th {\n",
       "        text-align: right;\n",
       "    }\n",
       "</style>\n",
       "<table border=\"1\" class=\"dataframe\">\n",
       "  <thead>\n",
       "    <tr style=\"text-align: right;\">\n",
       "      <th></th>\n",
       "      <th>index</th>\n",
       "      <th>country</th>\n",
       "      <th>child_mort</th>\n",
       "      <th>exports</th>\n",
       "      <th>health</th>\n",
       "      <th>imports</th>\n",
       "      <th>income</th>\n",
       "      <th>inflation</th>\n",
       "      <th>life_expec</th>\n",
       "      <th>total_fer</th>\n",
       "      <th>gdpp</th>\n",
       "      <th>PC1</th>\n",
       "      <th>PC2</th>\n",
       "      <th>PC3</th>\n",
       "      <th>PC4</th>\n",
       "      <th>Cluster_ID</th>\n",
       "    </tr>\n",
       "  </thead>\n",
       "  <tbody>\n",
       "    <tr>\n",
       "      <th>0</th>\n",
       "      <td>0</td>\n",
       "      <td>Afghanistan</td>\n",
       "      <td>1.182286</td>\n",
       "      <td>-1.286415</td>\n",
       "      <td>0.348392</td>\n",
       "      <td>-0.050380</td>\n",
       "      <td>-0.960593</td>\n",
       "      <td>0.129584</td>\n",
       "      <td>-1.522613</td>\n",
       "      <td>1.785117</td>\n",
       "      <td>-0.714193</td>\n",
       "      <td>-2.824567</td>\n",
       "      <td>-0.368462</td>\n",
       "      <td>1.272981</td>\n",
       "      <td>0.094172</td>\n",
       "      <td>1</td>\n",
       "    </tr>\n",
       "    <tr>\n",
       "      <th>1</th>\n",
       "      <td>1</td>\n",
       "      <td>Albania</td>\n",
       "      <td>-0.617876</td>\n",
       "      <td>-0.447833</td>\n",
       "      <td>-0.068093</td>\n",
       "      <td>0.125512</td>\n",
       "      <td>-0.210798</td>\n",
       "      <td>-0.325237</td>\n",
       "      <td>0.772956</td>\n",
       "      <td>-0.913396</td>\n",
       "      <td>-0.396861</td>\n",
       "      <td>0.692647</td>\n",
       "      <td>-0.131092</td>\n",
       "      <td>-0.347292</td>\n",
       "      <td>-1.205543</td>\n",
       "      <td>0</td>\n",
       "    </tr>\n",
       "    <tr>\n",
       "      <th>2</th>\n",
       "      <td>2</td>\n",
       "      <td>Algeria</td>\n",
       "      <td>-0.356168</td>\n",
       "      <td>0.036680</td>\n",
       "      <td>-1.030458</td>\n",
       "      <td>-0.692148</td>\n",
       "      <td>0.056858</td>\n",
       "      <td>0.741524</td>\n",
       "      <td>0.795797</td>\n",
       "      <td>-0.110960</td>\n",
       "      <td>-0.363665</td>\n",
       "      <td>0.032081</td>\n",
       "      <td>-0.526432</td>\n",
       "      <td>-1.572665</td>\n",
       "      <td>-0.048081</td>\n",
       "      <td>0</td>\n",
       "    </tr>\n",
       "    <tr>\n",
       "      <th>3</th>\n",
       "      <td>3</td>\n",
       "      <td>Angola</td>\n",
       "      <td>1.886697</td>\n",
       "      <td>1.150130</td>\n",
       "      <td>-1.564206</td>\n",
       "      <td>-0.145457</td>\n",
       "      <td>-0.573980</td>\n",
       "      <td>1.320387</td>\n",
       "      <td>-1.077204</td>\n",
       "      <td>2.005140</td>\n",
       "      <td>-0.447103</td>\n",
       "      <td>-2.831370</td>\n",
       "      <td>0.909745</td>\n",
       "      <td>-1.068510</td>\n",
       "      <td>2.006737</td>\n",
       "      <td>1</td>\n",
       "    </tr>\n",
       "    <tr>\n",
       "      <th>4</th>\n",
       "      <td>4</td>\n",
       "      <td>Antigua and Barbuda</td>\n",
       "      <td>-0.771966</td>\n",
       "      <td>0.367454</td>\n",
       "      <td>-0.278358</td>\n",
       "      <td>0.615157</td>\n",
       "      <td>0.615599</td>\n",
       "      <td>-0.605480</td>\n",
       "      <td>0.830060</td>\n",
       "      <td>-0.602776</td>\n",
       "      <td>0.330752</td>\n",
       "      <td>1.527442</td>\n",
       "      <td>0.506543</td>\n",
       "      <td>-0.338746</td>\n",
       "      <td>-0.367792</td>\n",
       "      <td>0</td>\n",
       "    </tr>\n",
       "  </tbody>\n",
       "</table>\n",
       "</div>"
      ],
      "text/plain": [
       "   index              country  child_mort   exports    health   imports  \\\n",
       "0      0          Afghanistan    1.182286 -1.286415  0.348392 -0.050380   \n",
       "1      1              Albania   -0.617876 -0.447833 -0.068093  0.125512   \n",
       "2      2              Algeria   -0.356168  0.036680 -1.030458 -0.692148   \n",
       "3      3               Angola    1.886697  1.150130 -1.564206 -0.145457   \n",
       "4      4  Antigua and Barbuda   -0.771966  0.367454 -0.278358  0.615157   \n",
       "\n",
       "     income  inflation  life_expec  total_fer      gdpp       PC1       PC2  \\\n",
       "0 -0.960593   0.129584   -1.522613   1.785117 -0.714193 -2.824567 -0.368462   \n",
       "1 -0.210798  -0.325237    0.772956  -0.913396 -0.396861  0.692647 -0.131092   \n",
       "2  0.056858   0.741524    0.795797  -0.110960 -0.363665  0.032081 -0.526432   \n",
       "3 -0.573980   1.320387   -1.077204   2.005140 -0.447103 -2.831370  0.909745   \n",
       "4  0.615599  -0.605480    0.830060  -0.602776  0.330752  1.527442  0.506543   \n",
       "\n",
       "        PC3       PC4  Cluster_ID  \n",
       "0  1.272981  0.094172           1  \n",
       "1 -0.347292 -1.205543           0  \n",
       "2 -1.572665 -0.048081           0  \n",
       "3 -1.068510  2.006737           1  \n",
       "4 -0.338746 -0.367792           0  "
      ]
     },
     "execution_count": 138,
     "metadata": {},
     "output_type": "execute_result"
    }
   ],
   "source": [
    "dat5 = pd.concat([countries, dat_km], axis = 1)\n",
    "\n",
    "dat5.head()"
   ]
  },
  {
   "cell_type": "code",
   "execution_count": 139,
   "metadata": {},
   "outputs": [],
   "source": [
    "#countries.to_excel('mytest.xlsx')"
   ]
  },
  {
   "cell_type": "code",
   "execution_count": 140,
   "metadata": {},
   "outputs": [
    {
     "data": {
      "text/html": [
       "<div>\n",
       "<style scoped>\n",
       "    .dataframe tbody tr th:only-of-type {\n",
       "        vertical-align: middle;\n",
       "    }\n",
       "\n",
       "    .dataframe tbody tr th {\n",
       "        vertical-align: top;\n",
       "    }\n",
       "\n",
       "    .dataframe thead th {\n",
       "        text-align: right;\n",
       "    }\n",
       "</style>\n",
       "<table border=\"1\" class=\"dataframe\">\n",
       "  <thead>\n",
       "    <tr style=\"text-align: right;\">\n",
       "      <th></th>\n",
       "      <th>index</th>\n",
       "      <th>country</th>\n",
       "      <th>child_mort</th>\n",
       "      <th>exports</th>\n",
       "      <th>health</th>\n",
       "      <th>imports</th>\n",
       "      <th>income</th>\n",
       "      <th>inflation</th>\n",
       "      <th>life_expec</th>\n",
       "      <th>total_fer</th>\n",
       "      <th>gdpp</th>\n",
       "      <th>Cluster_ID</th>\n",
       "    </tr>\n",
       "  </thead>\n",
       "  <tbody>\n",
       "    <tr>\n",
       "      <th>0</th>\n",
       "      <td>0</td>\n",
       "      <td>Afghanistan</td>\n",
       "      <td>1.182286</td>\n",
       "      <td>-1.286415</td>\n",
       "      <td>0.348392</td>\n",
       "      <td>-0.050380</td>\n",
       "      <td>-0.960593</td>\n",
       "      <td>0.129584</td>\n",
       "      <td>-1.522613</td>\n",
       "      <td>1.785117</td>\n",
       "      <td>-0.714193</td>\n",
       "      <td>1</td>\n",
       "    </tr>\n",
       "    <tr>\n",
       "      <th>1</th>\n",
       "      <td>1</td>\n",
       "      <td>Albania</td>\n",
       "      <td>-0.617876</td>\n",
       "      <td>-0.447833</td>\n",
       "      <td>-0.068093</td>\n",
       "      <td>0.125512</td>\n",
       "      <td>-0.210798</td>\n",
       "      <td>-0.325237</td>\n",
       "      <td>0.772956</td>\n",
       "      <td>-0.913396</td>\n",
       "      <td>-0.396861</td>\n",
       "      <td>0</td>\n",
       "    </tr>\n",
       "    <tr>\n",
       "      <th>2</th>\n",
       "      <td>2</td>\n",
       "      <td>Algeria</td>\n",
       "      <td>-0.356168</td>\n",
       "      <td>0.036680</td>\n",
       "      <td>-1.030458</td>\n",
       "      <td>-0.692148</td>\n",
       "      <td>0.056858</td>\n",
       "      <td>0.741524</td>\n",
       "      <td>0.795797</td>\n",
       "      <td>-0.110960</td>\n",
       "      <td>-0.363665</td>\n",
       "      <td>0</td>\n",
       "    </tr>\n",
       "    <tr>\n",
       "      <th>3</th>\n",
       "      <td>3</td>\n",
       "      <td>Angola</td>\n",
       "      <td>1.886697</td>\n",
       "      <td>1.150130</td>\n",
       "      <td>-1.564206</td>\n",
       "      <td>-0.145457</td>\n",
       "      <td>-0.573980</td>\n",
       "      <td>1.320387</td>\n",
       "      <td>-1.077204</td>\n",
       "      <td>2.005140</td>\n",
       "      <td>-0.447103</td>\n",
       "      <td>1</td>\n",
       "    </tr>\n",
       "    <tr>\n",
       "      <th>4</th>\n",
       "      <td>4</td>\n",
       "      <td>Antigua and Barbuda</td>\n",
       "      <td>-0.771966</td>\n",
       "      <td>0.367454</td>\n",
       "      <td>-0.278358</td>\n",
       "      <td>0.615157</td>\n",
       "      <td>0.615599</td>\n",
       "      <td>-0.605480</td>\n",
       "      <td>0.830060</td>\n",
       "      <td>-0.602776</td>\n",
       "      <td>0.330752</td>\n",
       "      <td>0</td>\n",
       "    </tr>\n",
       "  </tbody>\n",
       "</table>\n",
       "</div>"
      ],
      "text/plain": [
       "   index              country  child_mort   exports    health   imports  \\\n",
       "0      0          Afghanistan    1.182286 -1.286415  0.348392 -0.050380   \n",
       "1      1              Albania   -0.617876 -0.447833 -0.068093  0.125512   \n",
       "2      2              Algeria   -0.356168  0.036680 -1.030458 -0.692148   \n",
       "3      3               Angola    1.886697  1.150130 -1.564206 -0.145457   \n",
       "4      4  Antigua and Barbuda   -0.771966  0.367454 -0.278358  0.615157   \n",
       "\n",
       "     income  inflation  life_expec  total_fer      gdpp  Cluster_ID  \n",
       "0 -0.960593   0.129584   -1.522613   1.785117 -0.714193           1  \n",
       "1 -0.210798  -0.325237    0.772956  -0.913396 -0.396861           0  \n",
       "2  0.056858   0.741524    0.795797  -0.110960 -0.363665           0  \n",
       "3 -0.573980   1.320387   -1.077204   2.005140 -0.447103           1  \n",
       "4  0.615599  -0.605480    0.830060  -0.602776  0.330752           0  "
      ]
     },
     "execution_count": 140,
     "metadata": {},
     "output_type": "execute_result"
    }
   ],
   "source": [
    "dat6 = dat5.drop(['PC1','PC2','PC3','PC4'], axis = 1)\n",
    "\n",
    "dat6.head()"
   ]
  },
  {
   "cell_type": "code",
   "execution_count": 160,
   "metadata": {},
   "outputs": [
    {
     "data": {
      "text/plain": [
       "(150, 12)"
      ]
     },
     "execution_count": 160,
     "metadata": {},
     "output_type": "execute_result"
    }
   ],
   "source": [
    "dat6.shape"
   ]
  },
  {
   "cell_type": "code",
   "execution_count": 161,
   "metadata": {},
   "outputs": [],
   "source": [
    "clu_chld_mort = pd.DataFrame(dat6.groupby(['Cluster_ID']).child_mort.mean())\n",
    "clu_exports = pd.DataFrame(dat6.groupby(['Cluster_ID']).exports.mean())\n",
    "clu_health = pd.DataFrame(dat6.groupby(['Cluster_ID']).health.mean())\n",
    "clu_imports = pd.DataFrame(dat6.groupby(['Cluster_ID']).imports.mean())\n",
    "clu_income = pd.DataFrame(dat6.groupby(['Cluster_ID']).income.mean())\n",
    "clu_inflation = pd.DataFrame(dat6.groupby(['Cluster_ID']).inflation.mean())\n",
    "clu_life_expec = pd.DataFrame(dat6.groupby(['Cluster_ID']).life_expec.mean())\n",
    "clu_total_fer = pd.DataFrame(dat6.groupby(['Cluster_ID']).total_fer.mean())\n",
    "clu_gdpp = pd.DataFrame(dat6.groupby(['Cluster_ID']).gdpp.mean())"
   ]
  },
  {
   "cell_type": "code",
   "execution_count": 162,
   "metadata": {},
   "outputs": [],
   "source": [
    "df_countries = pd.concat([pd.Series([0,1,2]), clu_chld_mort, clu_exports,clu_health,clu_imports,clu_income, clu_inflation,clu_life_expec, clu_total_fer,clu_gdpp], axis = 1)"
   ]
  },
  {
   "cell_type": "code",
   "execution_count": 163,
   "metadata": {},
   "outputs": [],
   "source": [
    "df_countries.columns = ['Cluster_ID', 'chld_mort', 'exports', 'health', 'imports','income', 'inflation','life_expec', 'total_fer','gdpp']"
   ]
  },
  {
   "cell_type": "code",
   "execution_count": 165,
   "metadata": {
    "scrolled": false
   },
   "outputs": [
    {
     "data": {
      "text/html": [
       "<div>\n",
       "<style scoped>\n",
       "    .dataframe tbody tr th:only-of-type {\n",
       "        vertical-align: middle;\n",
       "    }\n",
       "\n",
       "    .dataframe tbody tr th {\n",
       "        vertical-align: top;\n",
       "    }\n",
       "\n",
       "    .dataframe thead th {\n",
       "        text-align: right;\n",
       "    }\n",
       "</style>\n",
       "<table border=\"1\" class=\"dataframe\">\n",
       "  <thead>\n",
       "    <tr style=\"text-align: right;\">\n",
       "      <th></th>\n",
       "      <th>Cluster_ID</th>\n",
       "      <th>chld_mort</th>\n",
       "      <th>exports</th>\n",
       "      <th>health</th>\n",
       "      <th>imports</th>\n",
       "      <th>income</th>\n",
       "      <th>inflation</th>\n",
       "      <th>life_expec</th>\n",
       "      <th>total_fer</th>\n",
       "      <th>gdpp</th>\n",
       "    </tr>\n",
       "  </thead>\n",
       "  <tbody>\n",
       "    <tr>\n",
       "      <th>0</th>\n",
       "      <td>0</td>\n",
       "      <td>-0.497025</td>\n",
       "      <td>0.124653</td>\n",
       "      <td>-0.242795</td>\n",
       "      <td>0.039130</td>\n",
       "      <td>-0.051009</td>\n",
       "      <td>-0.051073</td>\n",
       "      <td>0.397096</td>\n",
       "      <td>-0.530099</td>\n",
       "      <td>-0.219318</td>\n",
       "    </tr>\n",
       "    <tr>\n",
       "      <th>1</th>\n",
       "      <td>1</td>\n",
       "      <td>1.172356</td>\n",
       "      <td>-0.393968</td>\n",
       "      <td>-0.056044</td>\n",
       "      <td>-0.083657</td>\n",
       "      <td>-0.758683</td>\n",
       "      <td>0.342817</td>\n",
       "      <td>-1.137734</td>\n",
       "      <td>1.210340</td>\n",
       "      <td>-0.592912</td>\n",
       "    </tr>\n",
       "    <tr>\n",
       "      <th>2</th>\n",
       "      <td>2</td>\n",
       "      <td>-0.902265</td>\n",
       "      <td>0.453430</td>\n",
       "      <td>0.988192</td>\n",
       "      <td>0.051395</td>\n",
       "      <td>1.905129</td>\n",
       "      <td>-0.598050</td>\n",
       "      <td>1.177873</td>\n",
       "      <td>-0.871333</td>\n",
       "      <td>2.125110</td>\n",
       "    </tr>\n",
       "  </tbody>\n",
       "</table>\n",
       "</div>"
      ],
      "text/plain": [
       "   Cluster_ID  chld_mort   exports    health   imports    income  inflation  \\\n",
       "0           0  -0.497025  0.124653 -0.242795  0.039130 -0.051009  -0.051073   \n",
       "1           1   1.172356 -0.393968 -0.056044 -0.083657 -0.758683   0.342817   \n",
       "2           2  -0.902265  0.453430  0.988192  0.051395  1.905129  -0.598050   \n",
       "\n",
       "   life_expec  total_fer      gdpp  \n",
       "0    0.397096  -0.530099 -0.219318  \n",
       "1   -1.137734   1.210340 -0.592912  \n",
       "2    1.177873  -0.871333  2.125110  "
      ]
     },
     "execution_count": 165,
     "metadata": {},
     "output_type": "execute_result"
    }
   ],
   "source": [
    "df_countries"
   ]
  },
  {
   "cell_type": "markdown",
   "metadata": {},
   "source": [
    "#### Observations:\n",
    "-  3rd Cluster (Cluster_ID = 2) seems to be a **GOOD Cluster** with respect to high gdpp, life_expectancy, child_income, health and average exports and imports with relatively low child_mortality.\n",
    "-  1st Cluster (Cluster_ID = 0) seems to be a **BAD Cluster** with respect to low gdpp, low life expectancy, low inflation and very low child income. It has low import and exports as well."
   ]
  },
  {
   "cell_type": "code",
   "execution_count": 166,
   "metadata": {},
   "outputs": [
    {
     "data": {
      "text/html": [
       "<div>\n",
       "<style scoped>\n",
       "    .dataframe tbody tr th:only-of-type {\n",
       "        vertical-align: middle;\n",
       "    }\n",
       "\n",
       "    .dataframe tbody tr th {\n",
       "        vertical-align: top;\n",
       "    }\n",
       "\n",
       "    .dataframe thead th {\n",
       "        text-align: right;\n",
       "    }\n",
       "</style>\n",
       "<table border=\"1\" class=\"dataframe\">\n",
       "  <thead>\n",
       "    <tr style=\"text-align: right;\">\n",
       "      <th></th>\n",
       "      <th>index</th>\n",
       "      <th>country</th>\n",
       "      <th>child_mort</th>\n",
       "      <th>exports</th>\n",
       "      <th>health</th>\n",
       "      <th>imports</th>\n",
       "      <th>income</th>\n",
       "      <th>inflation</th>\n",
       "      <th>life_expec</th>\n",
       "      <th>total_fer</th>\n",
       "      <th>gdpp</th>\n",
       "      <th>Cluster_ID</th>\n",
       "    </tr>\n",
       "  </thead>\n",
       "  <tbody>\n",
       "    <tr>\n",
       "      <th>0</th>\n",
       "      <td>0</td>\n",
       "      <td>Afghanistan</td>\n",
       "      <td>1.182286</td>\n",
       "      <td>-1.286415</td>\n",
       "      <td>0.348392</td>\n",
       "      <td>-0.050380</td>\n",
       "      <td>-0.960593</td>\n",
       "      <td>0.129584</td>\n",
       "      <td>-1.522613</td>\n",
       "      <td>1.785117</td>\n",
       "      <td>-0.714193</td>\n",
       "      <td>1</td>\n",
       "    </tr>\n",
       "    <tr>\n",
       "      <th>1</th>\n",
       "      <td>1</td>\n",
       "      <td>Albania</td>\n",
       "      <td>-0.617876</td>\n",
       "      <td>-0.447833</td>\n",
       "      <td>-0.068093</td>\n",
       "      <td>0.125512</td>\n",
       "      <td>-0.210798</td>\n",
       "      <td>-0.325237</td>\n",
       "      <td>0.772956</td>\n",
       "      <td>-0.913396</td>\n",
       "      <td>-0.396861</td>\n",
       "      <td>0</td>\n",
       "    </tr>\n",
       "    <tr>\n",
       "      <th>2</th>\n",
       "      <td>2</td>\n",
       "      <td>Algeria</td>\n",
       "      <td>-0.356168</td>\n",
       "      <td>0.036680</td>\n",
       "      <td>-1.030458</td>\n",
       "      <td>-0.692148</td>\n",
       "      <td>0.056858</td>\n",
       "      <td>0.741524</td>\n",
       "      <td>0.795797</td>\n",
       "      <td>-0.110960</td>\n",
       "      <td>-0.363665</td>\n",
       "      <td>0</td>\n",
       "    </tr>\n",
       "    <tr>\n",
       "      <th>3</th>\n",
       "      <td>3</td>\n",
       "      <td>Angola</td>\n",
       "      <td>1.886697</td>\n",
       "      <td>1.150130</td>\n",
       "      <td>-1.564206</td>\n",
       "      <td>-0.145457</td>\n",
       "      <td>-0.573980</td>\n",
       "      <td>1.320387</td>\n",
       "      <td>-1.077204</td>\n",
       "      <td>2.005140</td>\n",
       "      <td>-0.447103</td>\n",
       "      <td>1</td>\n",
       "    </tr>\n",
       "    <tr>\n",
       "      <th>4</th>\n",
       "      <td>4</td>\n",
       "      <td>Antigua and Barbuda</td>\n",
       "      <td>-0.771966</td>\n",
       "      <td>0.367454</td>\n",
       "      <td>-0.278358</td>\n",
       "      <td>0.615157</td>\n",
       "      <td>0.615599</td>\n",
       "      <td>-0.605480</td>\n",
       "      <td>0.830060</td>\n",
       "      <td>-0.602776</td>\n",
       "      <td>0.330752</td>\n",
       "      <td>0</td>\n",
       "    </tr>\n",
       "  </tbody>\n",
       "</table>\n",
       "</div>"
      ],
      "text/plain": [
       "   index              country  child_mort   exports    health   imports  \\\n",
       "0      0          Afghanistan    1.182286 -1.286415  0.348392 -0.050380   \n",
       "1      1              Albania   -0.617876 -0.447833 -0.068093  0.125512   \n",
       "2      2              Algeria   -0.356168  0.036680 -1.030458 -0.692148   \n",
       "3      3               Angola    1.886697  1.150130 -1.564206 -0.145457   \n",
       "4      4  Antigua and Barbuda   -0.771966  0.367454 -0.278358  0.615157   \n",
       "\n",
       "     income  inflation  life_expec  total_fer      gdpp  Cluster_ID  \n",
       "0 -0.960593   0.129584   -1.522613   1.785117 -0.714193           1  \n",
       "1 -0.210798  -0.325237    0.772956  -0.913396 -0.396861           0  \n",
       "2  0.056858   0.741524    0.795797  -0.110960 -0.363665           0  \n",
       "3 -0.573980   1.320387   -1.077204   2.005140 -0.447103           1  \n",
       "4  0.615599  -0.605480    0.830060  -0.602776  0.330752           0  "
      ]
     },
     "execution_count": 166,
     "metadata": {},
     "output_type": "execute_result"
    }
   ],
   "source": [
    "dat6.head()"
   ]
  },
  {
   "cell_type": "markdown",
   "metadata": {},
   "source": [
    "### Plotting Important variables which clearly segment these 3 clusters"
   ]
  },
  {
   "cell_type": "code",
   "execution_count": 217,
   "metadata": {},
   "outputs": [
    {
     "data": {
      "text/plain": [
       "<matplotlib.axes._subplots.AxesSubplot at 0x17213940>"
      ]
     },
     "execution_count": 217,
     "metadata": {},
     "output_type": "execute_result"
    },
    {
     "data": {
      "image/png": "[encoded data removed]",
      "text/plain": [
       "<Figure size 432x288 with 1 Axes>"
      ]
     },
     "metadata": {
      "needs_background": "light"
     },
     "output_type": "display_data"
    }
   ],
   "source": [
    "sns.scatterplot(x = 'gdpp',y = 'life_expec',hue = 'Cluster_ID', data = dat6)"
   ]
  },
  {
   "cell_type": "code",
   "execution_count": null,
   "metadata": {},
   "outputs": [],
   "source": []
  },
  {
   "cell_type": "code",
   "execution_count": 218,
   "metadata": {},
   "outputs": [
    {
     "data": {
      "text/plain": [
       "<matplotlib.axes._subplots.AxesSubplot at 0x179957b8>"
      ]
     },
     "execution_count": 218,
     "metadata": {},
     "output_type": "execute_result"
    },
    {
     "data": {
      "image/png": "[encoded data removed]",
      "text/plain": [
       "<Figure size 432x288 with 1 Axes>"
      ]
     },
     "metadata": {
      "needs_background": "light"
     },
     "output_type": "display_data"
    }
   ],
   "source": [
    "sns.scatterplot(x = 'gdpp',y = 'total_fer',hue = 'Cluster_ID', data = dat6)"
   ]
  },
  {
   "cell_type": "code",
   "execution_count": 226,
   "metadata": {},
   "outputs": [
    {
     "data": {
      "text/plain": [
       "<matplotlib.axes._subplots.AxesSubplot at 0x1a987550>"
      ]
     },
     "execution_count": 226,
     "metadata": {},
     "output_type": "execute_result"
    },
    {
     "data": {
      "image/png": "[encoded data removed]",
      "text/plain": [
       "<Figure size 432x288 with 1 Axes>"
      ]
     },
     "metadata": {
      "needs_background": "light"
     },
     "output_type": "display_data"
    }
   ],
   "source": [
    "sns.scatterplot(x = 'gdpp',y = 'Cluster_ID', data = dat6)"
   ]
  },
  {
   "cell_type": "code",
   "execution_count": 227,
   "metadata": {},
   "outputs": [
    {
     "data": {
      "text/plain": [
       "<matplotlib.axes._subplots.AxesSubplot at 0x1a9bca90>"
      ]
     },
     "execution_count": 227,
     "metadata": {},
     "output_type": "execute_result"
    },
    {
     "data": {
      "image/png": "[encoded data removed]",
      "text/plain": [
       "<Figure size 432x288 with 1 Axes>"
      ]
     },
     "metadata": {
      "needs_background": "light"
     },
     "output_type": "display_data"
    }
   ],
   "source": [
    "sns.scatterplot(x = 'total_fer',y = 'Cluster_ID', data = dat6)"
   ]
  },
  {
   "cell_type": "code",
   "execution_count": 223,
   "metadata": {},
   "outputs": [
    {
     "data": {
      "text/plain": [
       "<matplotlib.axes._subplots.AxesSubplot at 0x197fc438>"
      ]
     },
     "execution_count": 223,
     "metadata": {},
     "output_type": "execute_result"
    },
    {
     "data": {
      "image/png": "[encoded data removed]",
      "text/plain": [
       "<Figure size 432x288 with 1 Axes>"
      ]
     },
     "metadata": {
      "needs_background": "light"
     },
     "output_type": "display_data"
    }
   ],
   "source": [
    "sns.scatterplot(x = 'income',y = 'Cluster_ID', data = dat6)"
   ]
  },
  {
   "cell_type": "code",
   "execution_count": 224,
   "metadata": {
    "scrolled": true
   },
   "outputs": [
    {
     "data": {
      "text/plain": [
       "<matplotlib.axes._subplots.AxesSubplot at 0x1a8ec860>"
      ]
     },
     "execution_count": 224,
     "metadata": {},
     "output_type": "execute_result"
    },
    {
     "data": {
      "image/png": "[encoded data removed]",
      "text/plain": [
       "<Figure size 432x288 with 1 Axes>"
      ]
     },
     "metadata": {
      "needs_background": "light"
     },
     "output_type": "display_data"
    }
   ],
   "source": [
    "sns.scatterplot(x = 'inflation',y = 'Cluster_ID', data = dat6)"
   ]
  },
  {
   "cell_type": "code",
   "execution_count": 225,
   "metadata": {},
   "outputs": [
    {
     "data": {
      "text/plain": [
       "<matplotlib.axes._subplots.AxesSubplot at 0x1a91a048>"
      ]
     },
     "execution_count": 225,
     "metadata": {},
     "output_type": "execute_result"
    },
    {
     "data": {
      "image/png": "[encoded data removed]",
      "text/plain": [
       "<Figure size 432x288 with 1 Axes>"
      ]
     },
     "metadata": {
      "needs_background": "light"
     },
     "output_type": "display_data"
    }
   ],
   "source": [
    "sns.scatterplot(x = 'income',y = 'inflation',hue = 'Cluster_ID', data = dat6)"
   ]
  },
  {
   "cell_type": "code",
   "execution_count": null,
   "metadata": {},
   "outputs": [],
   "source": []
  },
  {
   "cell_type": "code",
   "execution_count": 170,
   "metadata": {
    "scrolled": true
   },
   "outputs": [
    {
     "data": {
      "text/html": [
       "<div>\n",
       "<style scoped>\n",
       "    .dataframe tbody tr th:only-of-type {\n",
       "        vertical-align: middle;\n",
       "    }\n",
       "\n",
       "    .dataframe tbody tr th {\n",
       "        vertical-align: top;\n",
       "    }\n",
       "\n",
       "    .dataframe thead th {\n",
       "        text-align: right;\n",
       "    }\n",
       "</style>\n",
       "<table border=\"1\" class=\"dataframe\">\n",
       "  <thead>\n",
       "    <tr style=\"text-align: right;\">\n",
       "      <th></th>\n",
       "      <th>Cluster_ID</th>\n",
       "      <th>chld_mort</th>\n",
       "      <th>exports</th>\n",
       "      <th>health</th>\n",
       "      <th>imports</th>\n",
       "      <th>income</th>\n",
       "      <th>inflation</th>\n",
       "      <th>life_expec</th>\n",
       "      <th>total_fer</th>\n",
       "      <th>gdpp</th>\n",
       "    </tr>\n",
       "  </thead>\n",
       "  <tbody>\n",
       "    <tr>\n",
       "      <th>0</th>\n",
       "      <td>0</td>\n",
       "      <td>-0.497025</td>\n",
       "      <td>0.124653</td>\n",
       "      <td>-0.242795</td>\n",
       "      <td>0.039130</td>\n",
       "      <td>-0.051009</td>\n",
       "      <td>-0.051073</td>\n",
       "      <td>0.397096</td>\n",
       "      <td>-0.530099</td>\n",
       "      <td>-0.219318</td>\n",
       "    </tr>\n",
       "    <tr>\n",
       "      <th>1</th>\n",
       "      <td>1</td>\n",
       "      <td>1.172356</td>\n",
       "      <td>-0.393968</td>\n",
       "      <td>-0.056044</td>\n",
       "      <td>-0.083657</td>\n",
       "      <td>-0.758683</td>\n",
       "      <td>0.342817</td>\n",
       "      <td>-1.137734</td>\n",
       "      <td>1.210340</td>\n",
       "      <td>-0.592912</td>\n",
       "    </tr>\n",
       "    <tr>\n",
       "      <th>2</th>\n",
       "      <td>2</td>\n",
       "      <td>-0.902265</td>\n",
       "      <td>0.453430</td>\n",
       "      <td>0.988192</td>\n",
       "      <td>0.051395</td>\n",
       "      <td>1.905129</td>\n",
       "      <td>-0.598050</td>\n",
       "      <td>1.177873</td>\n",
       "      <td>-0.871333</td>\n",
       "      <td>2.125110</td>\n",
       "    </tr>\n",
       "  </tbody>\n",
       "</table>\n",
       "</div>"
      ],
      "text/plain": [
       "   Cluster_ID  chld_mort   exports    health   imports    income  inflation  \\\n",
       "0           0  -0.497025  0.124653 -0.242795  0.039130 -0.051009  -0.051073   \n",
       "1           1   1.172356 -0.393968 -0.056044 -0.083657 -0.758683   0.342817   \n",
       "2           2  -0.902265  0.453430  0.988192  0.051395  1.905129  -0.598050   \n",
       "\n",
       "   life_expec  total_fer      gdpp  \n",
       "0    0.397096  -0.530099 -0.219318  \n",
       "1   -1.137734   1.210340 -0.592912  \n",
       "2    1.177873  -0.871333  2.125110  "
      ]
     },
     "execution_count": 170,
     "metadata": {},
     "output_type": "execute_result"
    }
   ],
   "source": [
    "df_countries"
   ]
  },
  {
   "cell_type": "markdown",
   "metadata": {},
   "source": [
    "#### Binning based on the mean values of the Cluster 0 (BAD CLUSTER )"
   ]
  },
  {
   "cell_type": "code",
   "execution_count": 171,
   "metadata": {},
   "outputs": [
    {
     "data": {
      "text/html": [
       "<div>\n",
       "<style scoped>\n",
       "    .dataframe tbody tr th:only-of-type {\n",
       "        vertical-align: middle;\n",
       "    }\n",
       "\n",
       "    .dataframe tbody tr th {\n",
       "        vertical-align: top;\n",
       "    }\n",
       "\n",
       "    .dataframe thead th {\n",
       "        text-align: right;\n",
       "    }\n",
       "</style>\n",
       "<table border=\"1\" class=\"dataframe\">\n",
       "  <thead>\n",
       "    <tr style=\"text-align: right;\">\n",
       "      <th></th>\n",
       "      <th>index</th>\n",
       "      <th>country</th>\n",
       "      <th>child_mort</th>\n",
       "      <th>exports</th>\n",
       "      <th>health</th>\n",
       "      <th>imports</th>\n",
       "      <th>income</th>\n",
       "      <th>inflation</th>\n",
       "      <th>life_expec</th>\n",
       "      <th>total_fer</th>\n",
       "      <th>gdpp</th>\n",
       "    </tr>\n",
       "  </thead>\n",
       "  <tbody>\n",
       "    <tr>\n",
       "      <th>1</th>\n",
       "      <td>1</td>\n",
       "      <td>Albania</td>\n",
       "      <td>-0.617876</td>\n",
       "      <td>-0.447833</td>\n",
       "      <td>-0.068093</td>\n",
       "      <td>0.125512</td>\n",
       "      <td>-0.210798</td>\n",
       "      <td>-0.325237</td>\n",
       "      <td>0.772956</td>\n",
       "      <td>-0.913396</td>\n",
       "      <td>-0.396861</td>\n",
       "    </tr>\n",
       "    <tr>\n",
       "      <th>18</th>\n",
       "      <td>20</td>\n",
       "      <td>Bosnia and Herzegovina</td>\n",
       "      <td>-0.855126</td>\n",
       "      <td>-0.368634</td>\n",
       "      <td>1.771721</td>\n",
       "      <td>0.253866</td>\n",
       "      <td>-0.229723</td>\n",
       "      <td>-0.609155</td>\n",
       "      <td>0.830060</td>\n",
       "      <td>-1.133419</td>\n",
       "      <td>-0.350207</td>\n",
       "    </tr>\n",
       "    <tr>\n",
       "      <th>31</th>\n",
       "      <td>34</td>\n",
       "      <td>China</td>\n",
       "      <td>-0.639889</td>\n",
       "      <td>-0.527033</td>\n",
       "      <td>-0.666538</td>\n",
       "      <td>-1.110486</td>\n",
       "      <td>-0.246845</td>\n",
       "      <td>-0.100124</td>\n",
       "      <td>0.578803</td>\n",
       "      <td>-0.952224</td>\n",
       "      <td>-0.354693</td>\n",
       "    </tr>\n",
       "    <tr>\n",
       "      <th>85</th>\n",
       "      <td>92</td>\n",
       "      <td>Macedonia, FYR</td>\n",
       "      <td>-0.769520</td>\n",
       "      <td>0.101903</td>\n",
       "      <td>0.150258</td>\n",
       "      <td>0.577127</td>\n",
       "      <td>-0.078322</td>\n",
       "      <td>-0.550350</td>\n",
       "      <td>0.510279</td>\n",
       "      <td>-1.029879</td>\n",
       "      <td>-0.356488</td>\n",
       "    </tr>\n",
       "    <tr>\n",
       "      <th>137</th>\n",
       "      <td>152</td>\n",
       "      <td>Tunisia</td>\n",
       "      <td>-0.598309</td>\n",
       "      <td>0.600394</td>\n",
       "      <td>-0.205574</td>\n",
       "      <td>0.444019</td>\n",
       "      <td>-0.168441</td>\n",
       "      <td>-0.386799</td>\n",
       "      <td>0.841480</td>\n",
       "      <td>-0.596305</td>\n",
       "      <td>-0.392375</td>\n",
       "    </tr>\n",
       "  </tbody>\n",
       "</table>\n",
       "</div>"
      ],
      "text/plain": [
       "     index                 country  child_mort   exports    health   imports  \\\n",
       "1        1                 Albania   -0.617876 -0.447833 -0.068093  0.125512   \n",
       "18      20  Bosnia and Herzegovina   -0.855126 -0.368634  1.771721  0.253866   \n",
       "31      34                   China   -0.639889 -0.527033 -0.666538 -1.110486   \n",
       "85      92          Macedonia, FYR   -0.769520  0.101903  0.150258  0.577127   \n",
       "137    152                 Tunisia   -0.598309  0.600394 -0.205574  0.444019   \n",
       "\n",
       "       income  inflation  life_expec  total_fer      gdpp  \n",
       "1   -0.210798  -0.325237    0.772956  -0.913396 -0.396861  \n",
       "18  -0.229723  -0.609155    0.830060  -1.133419 -0.350207  \n",
       "31  -0.246845  -0.100124    0.578803  -0.952224 -0.354693  \n",
       "85  -0.078322  -0.550350    0.510279  -1.029879 -0.356488  \n",
       "137 -0.168441  -0.386799    0.841480  -0.596305 -0.392375  "
      ]
     },
     "execution_count": 171,
     "metadata": {},
     "output_type": "execute_result"
    }
   ],
   "source": [
    "fin = countries[countries['gdpp'] <= -0.219318]\n",
    "fin = fin[fin['total_fer'] <= -0.530099]\n",
    "fin = fin[fin['inflation'] <= -0.051073]\n",
    "fin = fin[fin['income'] <= -0.051009]\n",
    "\n",
    "fin"
   ]
  },
  {
   "cell_type": "markdown",
   "metadata": {},
   "source": [
    "### Hierarchial Clustering on the same dataset after Outlier handling and Standardisation"
   ]
  },
  {
   "cell_type": "code",
   "execution_count": 203,
   "metadata": {},
   "outputs": [],
   "source": [
    "from scipy.cluster.hierarchy import linkage\n",
    "from scipy.cluster.hierarchy import dendrogram\n",
    "from scipy.cluster.hierarchy import cut_tree"
   ]
  },
  {
   "cell_type": "code",
   "execution_count": null,
   "metadata": {},
   "outputs": [],
   "source": []
  },
  {
   "cell_type": "code",
   "execution_count": 204,
   "metadata": {},
   "outputs": [],
   "source": [
    "mergings = linkage(good_pca_df, method = \"complete\", metric = \"euclidean\")"
   ]
  },
  {
   "cell_type": "code",
   "execution_count": 205,
   "metadata": {},
   "outputs": [
    {
     "data": {
      "image/png": "[encoded data removed]",
      "text/plain": [
       "<Figure size 432x288 with 1 Axes>"
      ]
     },
     "metadata": {
      "needs_background": "light"
     },
     "output_type": "display_data"
    },
    {
     "data": {
      "text/plain": [
       "<Figure size 5760x3600 with 0 Axes>"
      ]
     },
     "metadata": {},
     "output_type": "display_data"
    }
   ],
   "source": [
    "dendrogram(mergings)\n",
    "plt.figure(figsize=(80,50))\n",
    "plt.show()"
   ]
  },
  {
   "cell_type": "code",
   "execution_count": 207,
   "metadata": {},
   "outputs": [
    {
     "data": {
      "text/plain": [
       "(150,)"
      ]
     },
     "execution_count": 207,
     "metadata": {},
     "output_type": "execute_result"
    }
   ],
   "source": [
    "cluster_cut = pd.Series(cut_tree(mergings, n_clusters = 3).reshape(-1,))\n",
    "\n",
    "cluster_cut.shape"
   ]
  },
  {
   "cell_type": "code",
   "execution_count": null,
   "metadata": {},
   "outputs": [],
   "source": []
  },
  {
   "cell_type": "code",
   "execution_count": 208,
   "metadata": {},
   "outputs": [
    {
     "ename": "KeyError",
     "evalue": "\"['index'] not found in axis\"",
     "output_type": "error",
     "traceback": [
      "\u001b[1;31m---------------------------------------------------------------------------\u001b[0m",
      "\u001b[1;31mKeyError\u001b[0m                                  Traceback (most recent call last)",
      "\u001b[1;32m<ipython-input-208-5d7c6e7f49c0>\u001b[0m in \u001b[0;36m<module>\u001b[1;34m\u001b[0m\n\u001b[1;32m----> 1\u001b[1;33m \u001b[0mcountries\u001b[0m\u001b[1;33m.\u001b[0m\u001b[0mdrop\u001b[0m\u001b[1;33m(\u001b[0m\u001b[1;34m'index'\u001b[0m\u001b[1;33m,\u001b[0m \u001b[0maxis\u001b[0m \u001b[1;33m=\u001b[0m \u001b[1;36m1\u001b[0m\u001b[1;33m,\u001b[0m \u001b[0minplace\u001b[0m \u001b[1;33m=\u001b[0m \u001b[1;32mTrue\u001b[0m\u001b[1;33m)\u001b[0m\u001b[1;33m\u001b[0m\u001b[1;33m\u001b[0m\u001b[0m\n\u001b[0m",
      "\u001b[1;32m~\\AppData\\Local\\Continuum\\anaconda3\\lib\\site-packages\\pandas\\core\\frame.py\u001b[0m in \u001b[0;36mdrop\u001b[1;34m(self, labels, axis, index, columns, level, inplace, errors)\u001b[0m\n\u001b[0;32m   3695\u001b[0m                                            \u001b[0mindex\u001b[0m\u001b[1;33m=\u001b[0m\u001b[0mindex\u001b[0m\u001b[1;33m,\u001b[0m \u001b[0mcolumns\u001b[0m\u001b[1;33m=\u001b[0m\u001b[0mcolumns\u001b[0m\u001b[1;33m,\u001b[0m\u001b[1;33m\u001b[0m\u001b[1;33m\u001b[0m\u001b[0m\n\u001b[0;32m   3696\u001b[0m                                            \u001b[0mlevel\u001b[0m\u001b[1;33m=\u001b[0m\u001b[0mlevel\u001b[0m\u001b[1;33m,\u001b[0m \u001b[0minplace\u001b[0m\u001b[1;33m=\u001b[0m\u001b[0minplace\u001b[0m\u001b[1;33m,\u001b[0m\u001b[1;33m\u001b[0m\u001b[1;33m\u001b[0m\u001b[0m\n\u001b[1;32m-> 3697\u001b[1;33m                                            errors=errors)\n\u001b[0m\u001b[0;32m   3698\u001b[0m \u001b[1;33m\u001b[0m\u001b[0m\n\u001b[0;32m   3699\u001b[0m     @rewrite_axis_style_signature('mapper', [('copy', True),\n",
      "\u001b[1;32m~\\AppData\\Local\\Continuum\\anaconda3\\lib\\site-packages\\pandas\\core\\generic.py\u001b[0m in \u001b[0;36mdrop\u001b[1;34m(self, labels, axis, index, columns, level, inplace, errors)\u001b[0m\n\u001b[0;32m   3109\u001b[0m         \u001b[1;32mfor\u001b[0m \u001b[0maxis\u001b[0m\u001b[1;33m,\u001b[0m \u001b[0mlabels\u001b[0m \u001b[1;32min\u001b[0m \u001b[0maxes\u001b[0m\u001b[1;33m.\u001b[0m\u001b[0mitems\u001b[0m\u001b[1;33m(\u001b[0m\u001b[1;33m)\u001b[0m\u001b[1;33m:\u001b[0m\u001b[1;33m\u001b[0m\u001b[1;33m\u001b[0m\u001b[0m\n\u001b[0;32m   3110\u001b[0m             \u001b[1;32mif\u001b[0m \u001b[0mlabels\u001b[0m \u001b[1;32mis\u001b[0m \u001b[1;32mnot\u001b[0m \u001b[1;32mNone\u001b[0m\u001b[1;33m:\u001b[0m\u001b[1;33m\u001b[0m\u001b[1;33m\u001b[0m\u001b[0m\n\u001b[1;32m-> 3111\u001b[1;33m                 \u001b[0mobj\u001b[0m \u001b[1;33m=\u001b[0m \u001b[0mobj\u001b[0m\u001b[1;33m.\u001b[0m\u001b[0m_drop_axis\u001b[0m\u001b[1;33m(\u001b[0m\u001b[0mlabels\u001b[0m\u001b[1;33m,\u001b[0m \u001b[0maxis\u001b[0m\u001b[1;33m,\u001b[0m \u001b[0mlevel\u001b[0m\u001b[1;33m=\u001b[0m\u001b[0mlevel\u001b[0m\u001b[1;33m,\u001b[0m \u001b[0merrors\u001b[0m\u001b[1;33m=\u001b[0m\u001b[0merrors\u001b[0m\u001b[1;33m)\u001b[0m\u001b[1;33m\u001b[0m\u001b[1;33m\u001b[0m\u001b[0m\n\u001b[0m\u001b[0;32m   3112\u001b[0m \u001b[1;33m\u001b[0m\u001b[0m\n\u001b[0;32m   3113\u001b[0m         \u001b[1;32mif\u001b[0m \u001b[0minplace\u001b[0m\u001b[1;33m:\u001b[0m\u001b[1;33m\u001b[0m\u001b[1;33m\u001b[0m\u001b[0m\n",
      "\u001b[1;32m~\\AppData\\Local\\Continuum\\anaconda3\\lib\\site-packages\\pandas\\core\\generic.py\u001b[0m in \u001b[0;36m_drop_axis\u001b[1;34m(self, labels, axis, level, errors)\u001b[0m\n\u001b[0;32m   3141\u001b[0m                 \u001b[0mnew_axis\u001b[0m \u001b[1;33m=\u001b[0m \u001b[0maxis\u001b[0m\u001b[1;33m.\u001b[0m\u001b[0mdrop\u001b[0m\u001b[1;33m(\u001b[0m\u001b[0mlabels\u001b[0m\u001b[1;33m,\u001b[0m \u001b[0mlevel\u001b[0m\u001b[1;33m=\u001b[0m\u001b[0mlevel\u001b[0m\u001b[1;33m,\u001b[0m \u001b[0merrors\u001b[0m\u001b[1;33m=\u001b[0m\u001b[0merrors\u001b[0m\u001b[1;33m)\u001b[0m\u001b[1;33m\u001b[0m\u001b[1;33m\u001b[0m\u001b[0m\n\u001b[0;32m   3142\u001b[0m             \u001b[1;32melse\u001b[0m\u001b[1;33m:\u001b[0m\u001b[1;33m\u001b[0m\u001b[1;33m\u001b[0m\u001b[0m\n\u001b[1;32m-> 3143\u001b[1;33m                 \u001b[0mnew_axis\u001b[0m \u001b[1;33m=\u001b[0m \u001b[0maxis\u001b[0m\u001b[1;33m.\u001b[0m\u001b[0mdrop\u001b[0m\u001b[1;33m(\u001b[0m\u001b[0mlabels\u001b[0m\u001b[1;33m,\u001b[0m \u001b[0merrors\u001b[0m\u001b[1;33m=\u001b[0m\u001b[0merrors\u001b[0m\u001b[1;33m)\u001b[0m\u001b[1;33m\u001b[0m\u001b[1;33m\u001b[0m\u001b[0m\n\u001b[0m\u001b[0;32m   3144\u001b[0m             \u001b[0mresult\u001b[0m \u001b[1;33m=\u001b[0m \u001b[0mself\u001b[0m\u001b[1;33m.\u001b[0m\u001b[0mreindex\u001b[0m\u001b[1;33m(\u001b[0m\u001b[1;33m**\u001b[0m\u001b[1;33m{\u001b[0m\u001b[0maxis_name\u001b[0m\u001b[1;33m:\u001b[0m \u001b[0mnew_axis\u001b[0m\u001b[1;33m}\u001b[0m\u001b[1;33m)\u001b[0m\u001b[1;33m\u001b[0m\u001b[1;33m\u001b[0m\u001b[0m\n\u001b[0;32m   3145\u001b[0m \u001b[1;33m\u001b[0m\u001b[0m\n",
      "\u001b[1;32m~\\AppData\\Local\\Continuum\\anaconda3\\lib\\site-packages\\pandas\\core\\indexes\\base.py\u001b[0m in \u001b[0;36mdrop\u001b[1;34m(self, labels, errors)\u001b[0m\n\u001b[0;32m   4402\u001b[0m             \u001b[1;32mif\u001b[0m \u001b[0merrors\u001b[0m \u001b[1;33m!=\u001b[0m \u001b[1;34m'ignore'\u001b[0m\u001b[1;33m:\u001b[0m\u001b[1;33m\u001b[0m\u001b[1;33m\u001b[0m\u001b[0m\n\u001b[0;32m   4403\u001b[0m                 raise KeyError(\n\u001b[1;32m-> 4404\u001b[1;33m                     '{} not found in axis'.format(labels[mask]))\n\u001b[0m\u001b[0;32m   4405\u001b[0m             \u001b[0mindexer\u001b[0m \u001b[1;33m=\u001b[0m \u001b[0mindexer\u001b[0m\u001b[1;33m[\u001b[0m\u001b[1;33m~\u001b[0m\u001b[0mmask\u001b[0m\u001b[1;33m]\u001b[0m\u001b[1;33m\u001b[0m\u001b[1;33m\u001b[0m\u001b[0m\n\u001b[0;32m   4406\u001b[0m         \u001b[1;32mreturn\u001b[0m \u001b[0mself\u001b[0m\u001b[1;33m.\u001b[0m\u001b[0mdelete\u001b[0m\u001b[1;33m(\u001b[0m\u001b[0mindexer\u001b[0m\u001b[1;33m)\u001b[0m\u001b[1;33m\u001b[0m\u001b[1;33m\u001b[0m\u001b[0m\n",
      "\u001b[1;31mKeyError\u001b[0m: \"['index'] not found in axis\""
     ]
    }
   ],
   "source": [
    "countries.drop('index', axis = 1, inplace = True)"
   ]
  },
  {
   "cell_type": "code",
   "execution_count": 209,
   "metadata": {},
   "outputs": [
    {
     "data": {
      "text/plain": [
       "(150, 10)"
      ]
     },
     "execution_count": 209,
     "metadata": {},
     "output_type": "execute_result"
    }
   ],
   "source": [
    "countries.shape"
   ]
  },
  {
   "cell_type": "code",
   "execution_count": null,
   "metadata": {},
   "outputs": [],
   "source": []
  },
  {
   "cell_type": "code",
   "execution_count": 210,
   "metadata": {},
   "outputs": [
    {
     "data": {
      "text/html": [
       "<div>\n",
       "<style scoped>\n",
       "    .dataframe tbody tr th:only-of-type {\n",
       "        vertical-align: middle;\n",
       "    }\n",
       "\n",
       "    .dataframe tbody tr th {\n",
       "        vertical-align: top;\n",
       "    }\n",
       "\n",
       "    .dataframe thead th {\n",
       "        text-align: right;\n",
       "    }\n",
       "</style>\n",
       "<table border=\"1\" class=\"dataframe\">\n",
       "  <thead>\n",
       "    <tr style=\"text-align: right;\">\n",
       "      <th></th>\n",
       "      <th>country</th>\n",
       "      <th>child_mort</th>\n",
       "      <th>exports</th>\n",
       "      <th>health</th>\n",
       "      <th>imports</th>\n",
       "      <th>income</th>\n",
       "      <th>inflation</th>\n",
       "      <th>life_expec</th>\n",
       "      <th>total_fer</th>\n",
       "      <th>gdpp</th>\n",
       "      <th>hier_cluster</th>\n",
       "    </tr>\n",
       "  </thead>\n",
       "  <tbody>\n",
       "    <tr>\n",
       "      <th>0</th>\n",
       "      <td>Afghanistan</td>\n",
       "      <td>1.182286</td>\n",
       "      <td>-1.286415</td>\n",
       "      <td>0.348392</td>\n",
       "      <td>-0.050380</td>\n",
       "      <td>-0.960593</td>\n",
       "      <td>0.129584</td>\n",
       "      <td>-1.522613</td>\n",
       "      <td>1.785117</td>\n",
       "      <td>-0.714193</td>\n",
       "      <td>0</td>\n",
       "    </tr>\n",
       "    <tr>\n",
       "      <th>1</th>\n",
       "      <td>Albania</td>\n",
       "      <td>-0.617876</td>\n",
       "      <td>-0.447833</td>\n",
       "      <td>-0.068093</td>\n",
       "      <td>0.125512</td>\n",
       "      <td>-0.210798</td>\n",
       "      <td>-0.325237</td>\n",
       "      <td>0.772956</td>\n",
       "      <td>-0.913396</td>\n",
       "      <td>-0.396861</td>\n",
       "      <td>0</td>\n",
       "    </tr>\n",
       "    <tr>\n",
       "      <th>2</th>\n",
       "      <td>Algeria</td>\n",
       "      <td>-0.356168</td>\n",
       "      <td>0.036680</td>\n",
       "      <td>-1.030458</td>\n",
       "      <td>-0.692148</td>\n",
       "      <td>0.056858</td>\n",
       "      <td>0.741524</td>\n",
       "      <td>0.795797</td>\n",
       "      <td>-0.110960</td>\n",
       "      <td>-0.363665</td>\n",
       "      <td>0</td>\n",
       "    </tr>\n",
       "    <tr>\n",
       "      <th>3</th>\n",
       "      <td>Angola</td>\n",
       "      <td>1.886697</td>\n",
       "      <td>1.150130</td>\n",
       "      <td>-1.564206</td>\n",
       "      <td>-0.145457</td>\n",
       "      <td>-0.573980</td>\n",
       "      <td>1.320387</td>\n",
       "      <td>-1.077204</td>\n",
       "      <td>2.005140</td>\n",
       "      <td>-0.447103</td>\n",
       "      <td>0</td>\n",
       "    </tr>\n",
       "    <tr>\n",
       "      <th>4</th>\n",
       "      <td>Antigua and Barbuda</td>\n",
       "      <td>-0.771966</td>\n",
       "      <td>0.367454</td>\n",
       "      <td>-0.278358</td>\n",
       "      <td>0.615157</td>\n",
       "      <td>0.615599</td>\n",
       "      <td>-0.605480</td>\n",
       "      <td>0.830060</td>\n",
       "      <td>-0.602776</td>\n",
       "      <td>0.330752</td>\n",
       "      <td>0</td>\n",
       "    </tr>\n",
       "    <tr>\n",
       "      <th>5</th>\n",
       "      <td>Argentina</td>\n",
       "      <td>-0.669240</td>\n",
       "      <td>-0.871783</td>\n",
       "      <td>0.558657</td>\n",
       "      <td>-1.424239</td>\n",
       "      <td>0.579551</td>\n",
       "      <td>1.182563</td>\n",
       "      <td>0.715852</td>\n",
       "      <td>-0.447466</td>\n",
       "      <td>0.160288</td>\n",
       "      <td>0</td>\n",
       "    </tr>\n",
       "    <tr>\n",
       "      <th>6</th>\n",
       "      <td>Armenia</td>\n",
       "      <td>-0.581188</td>\n",
       "      <td>-0.783266</td>\n",
       "      <td>-0.937456</td>\n",
       "      <td>-0.031365</td>\n",
       "      <td>-0.501884</td>\n",
       "      <td>-0.023861</td>\n",
       "      <td>0.430334</td>\n",
       "      <td>-0.887511</td>\n",
       "      <td>-0.474915</td>\n",
       "      <td>0</td>\n",
       "    </tr>\n",
       "    <tr>\n",
       "      <th>7</th>\n",
       "      <td>Azerbaijan</td>\n",
       "      <td>-0.065109</td>\n",
       "      <td>0.777428</td>\n",
       "      <td>-0.339011</td>\n",
       "      <td>-1.200808</td>\n",
       "      <td>0.336228</td>\n",
       "      <td>0.530194</td>\n",
       "      <td>-0.049338</td>\n",
       "      <td>-0.738672</td>\n",
       "      <td>-0.239854</td>\n",
       "      <td>0</td>\n",
       "    </tr>\n",
       "    <tr>\n",
       "      <th>8</th>\n",
       "      <td>Bahamas</td>\n",
       "      <td>-0.686361</td>\n",
       "      <td>-0.121718</td>\n",
       "      <td>0.473742</td>\n",
       "      <td>-0.107426</td>\n",
       "      <td>0.958054</td>\n",
       "      <td>-0.773902</td>\n",
       "      <td>0.487437</td>\n",
       "      <td>-0.777500</td>\n",
       "      <td>1.748295</td>\n",
       "      <td>0</td>\n",
       "    </tr>\n",
       "    <tr>\n",
       "      <th>9</th>\n",
       "      <td>Bahrain</td>\n",
       "      <td>-0.813546</td>\n",
       "      <td>1.485563</td>\n",
       "      <td>-0.706974</td>\n",
       "      <td>0.234850</td>\n",
       "      <td>2.598231</td>\n",
       "      <td>-0.054182</td>\n",
       "      <td>0.738694</td>\n",
       "      <td>-0.583362</td>\n",
       "      <td>1.093354</td>\n",
       "      <td>0</td>\n",
       "    </tr>\n",
       "  </tbody>\n",
       "</table>\n",
       "</div>"
      ],
      "text/plain": [
       "               country  child_mort   exports    health   imports    income  \\\n",
       "0          Afghanistan    1.182286 -1.286415  0.348392 -0.050380 -0.960593   \n",
       "1              Albania   -0.617876 -0.447833 -0.068093  0.125512 -0.210798   \n",
       "2              Algeria   -0.356168  0.036680 -1.030458 -0.692148  0.056858   \n",
       "3               Angola    1.886697  1.150130 -1.564206 -0.145457 -0.573980   \n",
       "4  Antigua and Barbuda   -0.771966  0.367454 -0.278358  0.615157  0.615599   \n",
       "5            Argentina   -0.669240 -0.871783  0.558657 -1.424239  0.579551   \n",
       "6              Armenia   -0.581188 -0.783266 -0.937456 -0.031365 -0.501884   \n",
       "7           Azerbaijan   -0.065109  0.777428 -0.339011 -1.200808  0.336228   \n",
       "8              Bahamas   -0.686361 -0.121718  0.473742 -0.107426  0.958054   \n",
       "9              Bahrain   -0.813546  1.485563 -0.706974  0.234850  2.598231   \n",
       "\n",
       "   inflation  life_expec  total_fer      gdpp  hier_cluster  \n",
       "0   0.129584   -1.522613   1.785117 -0.714193             0  \n",
       "1  -0.325237    0.772956  -0.913396 -0.396861             0  \n",
       "2   0.741524    0.795797  -0.110960 -0.363665             0  \n",
       "3   1.320387   -1.077204   2.005140 -0.447103             0  \n",
       "4  -0.605480    0.830060  -0.602776  0.330752             0  \n",
       "5   1.182563    0.715852  -0.447466  0.160288             0  \n",
       "6  -0.023861    0.430334  -0.887511 -0.474915             0  \n",
       "7   0.530194   -0.049338  -0.738672 -0.239854             0  \n",
       "8  -0.773902    0.487437  -0.777500  1.748295             0  \n",
       "9  -0.054182    0.738694  -0.583362  1.093354             0  "
      ]
     },
     "execution_count": 210,
     "metadata": {},
     "output_type": "execute_result"
    }
   ],
   "source": [
    "countries_hc = pd.concat([countries, cluster_cut], axis = 1)\n",
    "\n",
    "\n",
    "countries_hc.columns = ['country', 'child_mort', 'exports', 'health', 'imports', 'income','inflation', 'life_expec', 'total_fer', 'gdpp','hier_cluster']\n",
    "\n",
    "countries_hc.head(10)"
   ]
  },
  {
   "cell_type": "code",
   "execution_count": 211,
   "metadata": {},
   "outputs": [],
   "source": [
    "clu_chld_mort = pd.DataFrame(countries_hc.groupby(['hier_cluster']).child_mort.mean())\n",
    "clu_exports = pd.DataFrame(countries_hc.groupby(['hier_cluster']).exports.mean())\n",
    "clu_health = pd.DataFrame(countries_hc.groupby(['hier_cluster']).health.mean())\n",
    "clu_imports = pd.DataFrame(countries_hc.groupby(['hier_cluster']).imports.mean())\n",
    "clu_income = pd.DataFrame(countries_hc.groupby(['hier_cluster']).income.mean())\n",
    "clu_inflation = pd.DataFrame(countries_hc.groupby(['hier_cluster']).inflation.mean())\n",
    "clu_life_expec = pd.DataFrame(countries_hc.groupby(['hier_cluster']).life_expec.mean())\n",
    "clu_total_fer = pd.DataFrame(countries_hc.groupby(['hier_cluster']).total_fer.mean())\n",
    "clu_gdpp = pd.DataFrame(countries_hc.groupby(['hier_cluster']).gdpp.mean())"
   ]
  },
  {
   "cell_type": "code",
   "execution_count": 212,
   "metadata": {},
   "outputs": [
    {
     "data": {
      "text/html": [
       "<div>\n",
       "<style scoped>\n",
       "    .dataframe tbody tr th:only-of-type {\n",
       "        vertical-align: middle;\n",
       "    }\n",
       "\n",
       "    .dataframe tbody tr th {\n",
       "        vertical-align: top;\n",
       "    }\n",
       "\n",
       "    .dataframe thead th {\n",
       "        text-align: right;\n",
       "    }\n",
       "</style>\n",
       "<table border=\"1\" class=\"dataframe\">\n",
       "  <thead>\n",
       "    <tr style=\"text-align: right;\">\n",
       "      <th></th>\n",
       "      <th>child_mort</th>\n",
       "    </tr>\n",
       "    <tr>\n",
       "      <th>hier_cluster</th>\n",
       "      <th></th>\n",
       "    </tr>\n",
       "  </thead>\n",
       "  <tbody>\n",
       "    <tr>\n",
       "      <th>0</th>\n",
       "      <td>-0.008771</td>\n",
       "    </tr>\n",
       "    <tr>\n",
       "      <th>1</th>\n",
       "      <td>-0.857572</td>\n",
       "    </tr>\n",
       "    <tr>\n",
       "      <th>2</th>\n",
       "      <td>2.155743</td>\n",
       "    </tr>\n",
       "  </tbody>\n",
       "</table>\n",
       "</div>"
      ],
      "text/plain": [
       "              child_mort\n",
       "hier_cluster            \n",
       "0              -0.008771\n",
       "1              -0.857572\n",
       "2               2.155743"
      ]
     },
     "execution_count": 212,
     "metadata": {},
     "output_type": "execute_result"
    }
   ],
   "source": [
    "clu_chld_mort"
   ]
  },
  {
   "cell_type": "code",
   "execution_count": 213,
   "metadata": {},
   "outputs": [],
   "source": [
    "df_countries_hc = pd.concat([pd.Series([0,1,2]), clu_chld_mort, clu_exports,clu_health,clu_imports,clu_income, clu_inflation,clu_life_expec, clu_total_fer,clu_gdpp], axis = 1)"
   ]
  },
  {
   "cell_type": "code",
   "execution_count": 214,
   "metadata": {},
   "outputs": [],
   "source": [
    "df_countries_hc.columns = ['Cluster_ID', 'chld_mort', 'exports', 'health', 'imports','income', 'inflation','life_expec', 'total_fer','gdpp']"
   ]
  },
  {
   "cell_type": "code",
   "execution_count": 215,
   "metadata": {
    "scrolled": false
   },
   "outputs": [
    {
     "data": {
      "text/html": [
       "<div>\n",
       "<style scoped>\n",
       "    .dataframe tbody tr th:only-of-type {\n",
       "        vertical-align: middle;\n",
       "    }\n",
       "\n",
       "    .dataframe tbody tr th {\n",
       "        vertical-align: top;\n",
       "    }\n",
       "\n",
       "    .dataframe thead th {\n",
       "        text-align: right;\n",
       "    }\n",
       "</style>\n",
       "<table border=\"1\" class=\"dataframe\">\n",
       "  <thead>\n",
       "    <tr style=\"text-align: right;\">\n",
       "      <th></th>\n",
       "      <th>Cluster_ID</th>\n",
       "      <th>chld_mort</th>\n",
       "      <th>exports</th>\n",
       "      <th>health</th>\n",
       "      <th>imports</th>\n",
       "      <th>income</th>\n",
       "      <th>inflation</th>\n",
       "      <th>life_expec</th>\n",
       "      <th>total_fer</th>\n",
       "      <th>gdpp</th>\n",
       "    </tr>\n",
       "  </thead>\n",
       "  <tbody>\n",
       "    <tr>\n",
       "      <th>0</th>\n",
       "      <td>0</td>\n",
       "      <td>-0.008771</td>\n",
       "      <td>-0.032446</td>\n",
       "      <td>-0.000774</td>\n",
       "      <td>-0.025530</td>\n",
       "      <td>-0.005427</td>\n",
       "      <td>-0.056974</td>\n",
       "      <td>-0.001340</td>\n",
       "      <td>-0.004709</td>\n",
       "      <td>-0.003882</td>\n",
       "    </tr>\n",
       "    <tr>\n",
       "      <th>1</th>\n",
       "      <td>1</td>\n",
       "      <td>-0.857572</td>\n",
       "      <td>5.375650</td>\n",
       "      <td>0.781052</td>\n",
       "      <td>5.136057</td>\n",
       "      <td>1.444700</td>\n",
       "      <td>-0.385880</td>\n",
       "      <td>1.229786</td>\n",
       "      <td>-1.101062</td>\n",
       "      <td>1.129241</td>\n",
       "    </tr>\n",
       "    <tr>\n",
       "      <th>2</th>\n",
       "      <td>2</td>\n",
       "      <td>2.155743</td>\n",
       "      <td>-0.573621</td>\n",
       "      <td>-0.666538</td>\n",
       "      <td>-1.357685</td>\n",
       "      <td>-0.641569</td>\n",
       "      <td>8.818039</td>\n",
       "      <td>-1.031521</td>\n",
       "      <td>1.798060</td>\n",
       "      <td>-0.554764</td>\n",
       "    </tr>\n",
       "  </tbody>\n",
       "</table>\n",
       "</div>"
      ],
      "text/plain": [
       "   Cluster_ID  chld_mort   exports    health   imports    income  inflation  \\\n",
       "0           0  -0.008771 -0.032446 -0.000774 -0.025530 -0.005427  -0.056974   \n",
       "1           1  -0.857572  5.375650  0.781052  5.136057  1.444700  -0.385880   \n",
       "2           2   2.155743 -0.573621 -0.666538 -1.357685 -0.641569   8.818039   \n",
       "\n",
       "   life_expec  total_fer      gdpp  \n",
       "0   -0.001340  -0.004709 -0.003882  \n",
       "1    1.229786  -1.101062  1.129241  \n",
       "2   -1.031521   1.798060 -0.554764  "
      ]
     },
     "execution_count": 215,
     "metadata": {},
     "output_type": "execute_result"
    }
   ],
   "source": [
    "df_countries_hc"
   ]
  },
  {
   "cell_type": "markdown",
   "metadata": {},
   "source": [
    "#### Observation:\n",
    "-  The Cluster 0 is the **BAD Cluster** with all the features having minimum values across all clusters"
   ]
  },
  {
   "cell_type": "markdown",
   "metadata": {},
   "source": [
    "### Comparison of Kmeans Cluster and Hierarchial Clusters"
   ]
  },
  {
   "cell_type": "code",
   "execution_count": 229,
   "metadata": {},
   "outputs": [
    {
     "data": {
      "text/html": [
       "<div>\n",
       "<style scoped>\n",
       "    .dataframe tbody tr th:only-of-type {\n",
       "        vertical-align: middle;\n",
       "    }\n",
       "\n",
       "    .dataframe tbody tr th {\n",
       "        vertical-align: top;\n",
       "    }\n",
       "\n",
       "    .dataframe thead th {\n",
       "        text-align: right;\n",
       "    }\n",
       "</style>\n",
       "<table border=\"1\" class=\"dataframe\">\n",
       "  <thead>\n",
       "    <tr style=\"text-align: right;\">\n",
       "      <th></th>\n",
       "      <th>index</th>\n",
       "      <th>country</th>\n",
       "      <th>child_mort</th>\n",
       "      <th>exports</th>\n",
       "      <th>health</th>\n",
       "      <th>imports</th>\n",
       "      <th>income</th>\n",
       "      <th>inflation</th>\n",
       "      <th>life_expec</th>\n",
       "      <th>total_fer</th>\n",
       "      <th>gdpp</th>\n",
       "      <th>km_clusters</th>\n",
       "      <th>hier_cluster</th>\n",
       "    </tr>\n",
       "  </thead>\n",
       "  <tbody>\n",
       "    <tr>\n",
       "      <th>0</th>\n",
       "      <td>0</td>\n",
       "      <td>Afghanistan</td>\n",
       "      <td>1.182286</td>\n",
       "      <td>-1.286415</td>\n",
       "      <td>0.348392</td>\n",
       "      <td>-0.050380</td>\n",
       "      <td>-0.960593</td>\n",
       "      <td>0.129584</td>\n",
       "      <td>-1.522613</td>\n",
       "      <td>1.785117</td>\n",
       "      <td>-0.714193</td>\n",
       "      <td>1</td>\n",
       "      <td>0</td>\n",
       "    </tr>\n",
       "    <tr>\n",
       "      <th>1</th>\n",
       "      <td>1</td>\n",
       "      <td>Albania</td>\n",
       "      <td>-0.617876</td>\n",
       "      <td>-0.447833</td>\n",
       "      <td>-0.068093</td>\n",
       "      <td>0.125512</td>\n",
       "      <td>-0.210798</td>\n",
       "      <td>-0.325237</td>\n",
       "      <td>0.772956</td>\n",
       "      <td>-0.913396</td>\n",
       "      <td>-0.396861</td>\n",
       "      <td>0</td>\n",
       "      <td>0</td>\n",
       "    </tr>\n",
       "    <tr>\n",
       "      <th>2</th>\n",
       "      <td>2</td>\n",
       "      <td>Algeria</td>\n",
       "      <td>-0.356168</td>\n",
       "      <td>0.036680</td>\n",
       "      <td>-1.030458</td>\n",
       "      <td>-0.692148</td>\n",
       "      <td>0.056858</td>\n",
       "      <td>0.741524</td>\n",
       "      <td>0.795797</td>\n",
       "      <td>-0.110960</td>\n",
       "      <td>-0.363665</td>\n",
       "      <td>0</td>\n",
       "      <td>0</td>\n",
       "    </tr>\n",
       "    <tr>\n",
       "      <th>3</th>\n",
       "      <td>3</td>\n",
       "      <td>Angola</td>\n",
       "      <td>1.886697</td>\n",
       "      <td>1.150130</td>\n",
       "      <td>-1.564206</td>\n",
       "      <td>-0.145457</td>\n",
       "      <td>-0.573980</td>\n",
       "      <td>1.320387</td>\n",
       "      <td>-1.077204</td>\n",
       "      <td>2.005140</td>\n",
       "      <td>-0.447103</td>\n",
       "      <td>1</td>\n",
       "      <td>0</td>\n",
       "    </tr>\n",
       "    <tr>\n",
       "      <th>4</th>\n",
       "      <td>4</td>\n",
       "      <td>Antigua and Barbuda</td>\n",
       "      <td>-0.771966</td>\n",
       "      <td>0.367454</td>\n",
       "      <td>-0.278358</td>\n",
       "      <td>0.615157</td>\n",
       "      <td>0.615599</td>\n",
       "      <td>-0.605480</td>\n",
       "      <td>0.830060</td>\n",
       "      <td>-0.602776</td>\n",
       "      <td>0.330752</td>\n",
       "      <td>0</td>\n",
       "      <td>0</td>\n",
       "    </tr>\n",
       "    <tr>\n",
       "      <th>5</th>\n",
       "      <td>5</td>\n",
       "      <td>Argentina</td>\n",
       "      <td>-0.669240</td>\n",
       "      <td>-0.871783</td>\n",
       "      <td>0.558657</td>\n",
       "      <td>-1.424239</td>\n",
       "      <td>0.579551</td>\n",
       "      <td>1.182563</td>\n",
       "      <td>0.715852</td>\n",
       "      <td>-0.447466</td>\n",
       "      <td>0.160288</td>\n",
       "      <td>0</td>\n",
       "      <td>0</td>\n",
       "    </tr>\n",
       "    <tr>\n",
       "      <th>6</th>\n",
       "      <td>6</td>\n",
       "      <td>Armenia</td>\n",
       "      <td>-0.581188</td>\n",
       "      <td>-0.783266</td>\n",
       "      <td>-0.937456</td>\n",
       "      <td>-0.031365</td>\n",
       "      <td>-0.501884</td>\n",
       "      <td>-0.023861</td>\n",
       "      <td>0.430334</td>\n",
       "      <td>-0.887511</td>\n",
       "      <td>-0.474915</td>\n",
       "      <td>0</td>\n",
       "      <td>0</td>\n",
       "    </tr>\n",
       "    <tr>\n",
       "      <th>7</th>\n",
       "      <td>9</td>\n",
       "      <td>Azerbaijan</td>\n",
       "      <td>-0.065109</td>\n",
       "      <td>0.777428</td>\n",
       "      <td>-0.339011</td>\n",
       "      <td>-1.200808</td>\n",
       "      <td>0.336228</td>\n",
       "      <td>0.530194</td>\n",
       "      <td>-0.049338</td>\n",
       "      <td>-0.738672</td>\n",
       "      <td>-0.239854</td>\n",
       "      <td>0</td>\n",
       "      <td>0</td>\n",
       "    </tr>\n",
       "    <tr>\n",
       "      <th>8</th>\n",
       "      <td>10</td>\n",
       "      <td>Bahamas</td>\n",
       "      <td>-0.686361</td>\n",
       "      <td>-0.121718</td>\n",
       "      <td>0.473742</td>\n",
       "      <td>-0.107426</td>\n",
       "      <td>0.958054</td>\n",
       "      <td>-0.773902</td>\n",
       "      <td>0.487437</td>\n",
       "      <td>-0.777500</td>\n",
       "      <td>1.748295</td>\n",
       "      <td>2</td>\n",
       "      <td>0</td>\n",
       "    </tr>\n",
       "    <tr>\n",
       "      <th>9</th>\n",
       "      <td>11</td>\n",
       "      <td>Bahrain</td>\n",
       "      <td>-0.813546</td>\n",
       "      <td>1.485563</td>\n",
       "      <td>-0.706974</td>\n",
       "      <td>0.234850</td>\n",
       "      <td>2.598231</td>\n",
       "      <td>-0.054182</td>\n",
       "      <td>0.738694</td>\n",
       "      <td>-0.583362</td>\n",
       "      <td>1.093354</td>\n",
       "      <td>2</td>\n",
       "      <td>0</td>\n",
       "    </tr>\n",
       "    <tr>\n",
       "      <th>10</th>\n",
       "      <td>12</td>\n",
       "      <td>Bangladesh</td>\n",
       "      <td>0.184370</td>\n",
       "      <td>-1.006888</td>\n",
       "      <td>-1.293288</td>\n",
       "      <td>-1.148516</td>\n",
       "      <td>-0.885794</td>\n",
       "      <td>-0.081747</td>\n",
       "      <td>0.099132</td>\n",
       "      <td>-0.473351</td>\n",
       "      <td>-0.695801</td>\n",
       "      <td>0</td>\n",
       "      <td>0</td>\n",
       "    </tr>\n",
       "    <tr>\n",
       "      <th>11</th>\n",
       "      <td>13</td>\n",
       "      <td>Barbados</td>\n",
       "      <td>-0.676577</td>\n",
       "      <td>0.087927</td>\n",
       "      <td>0.506090</td>\n",
       "      <td>0.130266</td>\n",
       "      <td>0.273145</td>\n",
       "      <td>-0.708297</td>\n",
       "      <td>0.818639</td>\n",
       "      <td>-0.829270</td>\n",
       "      <td>0.671680</td>\n",
       "      <td>0</td>\n",
       "      <td>0</td>\n",
       "    </tr>\n",
       "    <tr>\n",
       "      <th>12</th>\n",
       "      <td>14</td>\n",
       "      <td>Belarus</td>\n",
       "      <td>-0.889368</td>\n",
       "      <td>0.642323</td>\n",
       "      <td>-0.448187</td>\n",
       "      <td>0.881372</td>\n",
       "      <td>0.354252</td>\n",
       "      <td>0.649642</td>\n",
       "      <td>0.099132</td>\n",
       "      <td>-1.016936</td>\n",
       "      <td>-0.222808</td>\n",
       "      <td>0</td>\n",
       "      <td>0</td>\n",
       "    </tr>\n",
       "    <tr>\n",
       "      <th>13</th>\n",
       "      <td>15</td>\n",
       "      <td>Belgium</td>\n",
       "      <td>-0.913827</td>\n",
       "      <td>1.807019</td>\n",
       "      <td>1.609979</td>\n",
       "      <td>1.366264</td>\n",
       "      <td>2.598231</td>\n",
       "      <td>-0.565052</td>\n",
       "      <td>1.195523</td>\n",
       "      <td>-0.777500</td>\n",
       "      <td>3.219669</td>\n",
       "      <td>2</td>\n",
       "      <td>0</td>\n",
       "    </tr>\n",
       "    <tr>\n",
       "      <th>14</th>\n",
       "      <td>16</td>\n",
       "      <td>Belize</td>\n",
       "      <td>-0.564067</td>\n",
       "      <td>0.959120</td>\n",
       "      <td>-0.613972</td>\n",
       "      <td>0.548604</td>\n",
       "      <td>-0.395543</td>\n",
       "      <td>-0.633045</td>\n",
       "      <td>0.213339</td>\n",
       "      <td>-0.227443</td>\n",
       "      <td>-0.374431</td>\n",
       "      <td>0</td>\n",
       "      <td>0</td>\n",
       "    </tr>\n",
       "    <tr>\n",
       "      <th>15</th>\n",
       "      <td>17</td>\n",
       "      <td>Benin</td>\n",
       "      <td>1.691027</td>\n",
       "      <td>-0.643502</td>\n",
       "      <td>-1.058763</td>\n",
       "      <td>-0.416425</td>\n",
       "      <td>-0.941668</td>\n",
       "      <td>-0.656475</td>\n",
       "      <td>-0.883052</td>\n",
       "      <td>1.487439</td>\n",
       "      <td>-0.695801</td>\n",
       "      <td>1</td>\n",
       "      <td>0</td>\n",
       "    </tr>\n",
       "    <tr>\n",
       "      <th>16</th>\n",
       "      <td>18</td>\n",
       "      <td>Bhutan</td>\n",
       "      <td>0.020496</td>\n",
       "      <td>0.227691</td>\n",
       "      <td>-0.613972</td>\n",
       "      <td>1.176110</td>\n",
       "      <td>-0.527117</td>\n",
       "      <td>-0.187413</td>\n",
       "      <td>0.293285</td>\n",
       "      <td>-0.440994</td>\n",
       "      <td>-0.568222</td>\n",
       "      <td>0</td>\n",
       "      <td>0</td>\n",
       "    </tr>\n",
       "    <tr>\n",
       "      <th>17</th>\n",
       "      <td>19</td>\n",
       "      <td>Bolivia</td>\n",
       "      <td>0.115885</td>\n",
       "      <td>0.167127</td>\n",
       "      <td>-0.759540</td>\n",
       "      <td>-0.554287</td>\n",
       "      <td>-0.618138</td>\n",
       "      <td>0.068941</td>\n",
       "      <td>0.236181</td>\n",
       "      <td>0.089648</td>\n",
       "      <td>-0.586165</td>\n",
       "      <td>0</td>\n",
       "      <td>0</td>\n",
       "    </tr>\n",
       "    <tr>\n",
       "      <th>18</th>\n",
       "      <td>20</td>\n",
       "      <td>Bosnia and Herzegovina</td>\n",
       "      <td>-0.855126</td>\n",
       "      <td>-0.368634</td>\n",
       "      <td>1.771721</td>\n",
       "      <td>0.253866</td>\n",
       "      <td>-0.229723</td>\n",
       "      <td>-0.609155</td>\n",
       "      <td>0.830060</td>\n",
       "      <td>-1.133419</td>\n",
       "      <td>-0.350207</td>\n",
       "      <td>0</td>\n",
       "      <td>0</td>\n",
       "    </tr>\n",
       "    <tr>\n",
       "      <th>19</th>\n",
       "      <td>21</td>\n",
       "      <td>Botswana</td>\n",
       "      <td>0.260192</td>\n",
       "      <td>0.278937</td>\n",
       "      <td>0.639527</td>\n",
       "      <td>0.253866</td>\n",
       "      <td>0.092906</td>\n",
       "      <td>0.081805</td>\n",
       "      <td>-1.419827</td>\n",
       "      <td>-0.117432</td>\n",
       "      <td>-0.194098</td>\n",
       "      <td>1</td>\n",
       "      <td>0</td>\n",
       "    </tr>\n",
       "  </tbody>\n",
       "</table>\n",
       "</div>"
      ],
      "text/plain": [
       "    index                 country  child_mort   exports    health   imports  \\\n",
       "0       0             Afghanistan    1.182286 -1.286415  0.348392 -0.050380   \n",
       "1       1                 Albania   -0.617876 -0.447833 -0.068093  0.125512   \n",
       "2       2                 Algeria   -0.356168  0.036680 -1.030458 -0.692148   \n",
       "3       3                  Angola    1.886697  1.150130 -1.564206 -0.145457   \n",
       "4       4     Antigua and Barbuda   -0.771966  0.367454 -0.278358  0.615157   \n",
       "5       5               Argentina   -0.669240 -0.871783  0.558657 -1.424239   \n",
       "6       6                 Armenia   -0.581188 -0.783266 -0.937456 -0.031365   \n",
       "7       9              Azerbaijan   -0.065109  0.777428 -0.339011 -1.200808   \n",
       "8      10                 Bahamas   -0.686361 -0.121718  0.473742 -0.107426   \n",
       "9      11                 Bahrain   -0.813546  1.485563 -0.706974  0.234850   \n",
       "10     12              Bangladesh    0.184370 -1.006888 -1.293288 -1.148516   \n",
       "11     13                Barbados   -0.676577  0.087927  0.506090  0.130266   \n",
       "12     14                 Belarus   -0.889368  0.642323 -0.448187  0.881372   \n",
       "13     15                 Belgium   -0.913827  1.807019  1.609979  1.366264   \n",
       "14     16                  Belize   -0.564067  0.959120 -0.613972  0.548604   \n",
       "15     17                   Benin    1.691027 -0.643502 -1.058763 -0.416425   \n",
       "16     18                  Bhutan    0.020496  0.227691 -0.613972  1.176110   \n",
       "17     19                 Bolivia    0.115885  0.167127 -0.759540 -0.554287   \n",
       "18     20  Bosnia and Herzegovina   -0.855126 -0.368634  1.771721  0.253866   \n",
       "19     21                Botswana    0.260192  0.278937  0.639527  0.253866   \n",
       "\n",
       "      income  inflation  life_expec  total_fer      gdpp  km_clusters  \\\n",
       "0  -0.960593   0.129584   -1.522613   1.785117 -0.714193            1   \n",
       "1  -0.210798  -0.325237    0.772956  -0.913396 -0.396861            0   \n",
       "2   0.056858   0.741524    0.795797  -0.110960 -0.363665            0   \n",
       "3  -0.573980   1.320387   -1.077204   2.005140 -0.447103            1   \n",
       "4   0.615599  -0.605480    0.830060  -0.602776  0.330752            0   \n",
       "5   0.579551   1.182563    0.715852  -0.447466  0.160288            0   \n",
       "6  -0.501884  -0.023861    0.430334  -0.887511 -0.474915            0   \n",
       "7   0.336228   0.530194   -0.049338  -0.738672 -0.239854            0   \n",
       "8   0.958054  -0.773902    0.487437  -0.777500  1.748295            2   \n",
       "9   2.598231  -0.054182    0.738694  -0.583362  1.093354            2   \n",
       "10 -0.885794  -0.081747    0.099132  -0.473351 -0.695801            0   \n",
       "11  0.273145  -0.708297    0.818639  -0.829270  0.671680            0   \n",
       "12  0.354252   0.649642    0.099132  -1.016936 -0.222808            0   \n",
       "13  2.598231  -0.565052    1.195523  -0.777500  3.219669            2   \n",
       "14 -0.395543  -0.633045    0.213339  -0.227443 -0.374431            0   \n",
       "15 -0.941668  -0.656475   -0.883052   1.487439 -0.695801            1   \n",
       "16 -0.527117  -0.187413    0.293285  -0.440994 -0.568222            0   \n",
       "17 -0.618138   0.068941    0.236181   0.089648 -0.586165            0   \n",
       "18 -0.229723  -0.609155    0.830060  -1.133419 -0.350207            0   \n",
       "19  0.092906   0.081805   -1.419827  -0.117432 -0.194098            1   \n",
       "\n",
       "    hier_cluster  \n",
       "0              0  \n",
       "1              0  \n",
       "2              0  \n",
       "3              0  \n",
       "4              0  \n",
       "5              0  \n",
       "6              0  \n",
       "7              0  \n",
       "8              0  \n",
       "9              0  \n",
       "10             0  \n",
       "11             0  \n",
       "12             0  \n",
       "13             0  \n",
       "14             0  \n",
       "15             0  \n",
       "16             0  \n",
       "17             0  \n",
       "18             0  \n",
       "19             0  "
      ]
     },
     "execution_count": 229,
     "metadata": {},
     "output_type": "execute_result"
    }
   ],
   "source": [
    "new_hc_clus = countries_hc[['country', 'hier_cluster']]\n",
    "\n",
    "compare_km_hc = pd.merge(dat6, new_hc_clus, how = 'inner', on = 'country')\n",
    "\n",
    "compare_km_hc.rename(columns = {'Cluster_ID':'km_clusters'}, inplace = True)\n",
    "compare_km_hc.head(20)"
   ]
  },
  {
   "cell_type": "code",
   "execution_count": null,
   "metadata": {},
   "outputs": [],
   "source": []
  },
  {
   "cell_type": "code",
   "execution_count": 230,
   "metadata": {
    "scrolled": false
   },
   "outputs": [
    {
     "data": {
      "text/html": [
       "<div>\n",
       "<style scoped>\n",
       "    .dataframe tbody tr th:only-of-type {\n",
       "        vertical-align: middle;\n",
       "    }\n",
       "\n",
       "    .dataframe tbody tr th {\n",
       "        vertical-align: top;\n",
       "    }\n",
       "\n",
       "    .dataframe thead th {\n",
       "        text-align: right;\n",
       "    }\n",
       "</style>\n",
       "<table border=\"1\" class=\"dataframe\">\n",
       "  <thead>\n",
       "    <tr style=\"text-align: right;\">\n",
       "      <th></th>\n",
       "      <th>Cluster_ID</th>\n",
       "      <th>chld_mort</th>\n",
       "      <th>exports</th>\n",
       "      <th>health</th>\n",
       "      <th>imports</th>\n",
       "      <th>income</th>\n",
       "      <th>inflation</th>\n",
       "      <th>life_expec</th>\n",
       "      <th>total_fer</th>\n",
       "      <th>gdpp</th>\n",
       "    </tr>\n",
       "  </thead>\n",
       "  <tbody>\n",
       "    <tr>\n",
       "      <th>0</th>\n",
       "      <td>0</td>\n",
       "      <td>-0.008771</td>\n",
       "      <td>-0.032446</td>\n",
       "      <td>-0.000774</td>\n",
       "      <td>-0.025530</td>\n",
       "      <td>-0.005427</td>\n",
       "      <td>-0.056974</td>\n",
       "      <td>-0.001340</td>\n",
       "      <td>-0.004709</td>\n",
       "      <td>-0.003882</td>\n",
       "    </tr>\n",
       "    <tr>\n",
       "      <th>1</th>\n",
       "      <td>1</td>\n",
       "      <td>-0.857572</td>\n",
       "      <td>5.375650</td>\n",
       "      <td>0.781052</td>\n",
       "      <td>5.136057</td>\n",
       "      <td>1.444700</td>\n",
       "      <td>-0.385880</td>\n",
       "      <td>1.229786</td>\n",
       "      <td>-1.101062</td>\n",
       "      <td>1.129241</td>\n",
       "    </tr>\n",
       "    <tr>\n",
       "      <th>2</th>\n",
       "      <td>2</td>\n",
       "      <td>2.155743</td>\n",
       "      <td>-0.573621</td>\n",
       "      <td>-0.666538</td>\n",
       "      <td>-1.357685</td>\n",
       "      <td>-0.641569</td>\n",
       "      <td>8.818039</td>\n",
       "      <td>-1.031521</td>\n",
       "      <td>1.798060</td>\n",
       "      <td>-0.554764</td>\n",
       "    </tr>\n",
       "  </tbody>\n",
       "</table>\n",
       "</div>"
      ],
      "text/plain": [
       "   Cluster_ID  chld_mort   exports    health   imports    income  inflation  \\\n",
       "0           0  -0.008771 -0.032446 -0.000774 -0.025530 -0.005427  -0.056974   \n",
       "1           1  -0.857572  5.375650  0.781052  5.136057  1.444700  -0.385880   \n",
       "2           2   2.155743 -0.573621 -0.666538 -1.357685 -0.641569   8.818039   \n",
       "\n",
       "   life_expec  total_fer      gdpp  \n",
       "0   -0.001340  -0.004709 -0.003882  \n",
       "1    1.229786  -1.101062  1.129241  \n",
       "2   -1.031521   1.798060 -0.554764  "
      ]
     },
     "execution_count": 230,
     "metadata": {},
     "output_type": "execute_result"
    }
   ],
   "source": [
    "df_countries_hc"
   ]
  },
  {
   "cell_type": "markdown",
   "metadata": {},
   "source": [
    "#### Binning based on the mean values of the Cluster 0 (BAD CLUSTER )"
   ]
  },
  {
   "cell_type": "code",
   "execution_count": 252,
   "metadata": {},
   "outputs": [
    {
     "data": {
      "text/html": [
       "<div>\n",
       "<style scoped>\n",
       "    .dataframe tbody tr th:only-of-type {\n",
       "        vertical-align: middle;\n",
       "    }\n",
       "\n",
       "    .dataframe tbody tr th {\n",
       "        vertical-align: top;\n",
       "    }\n",
       "\n",
       "    .dataframe thead th {\n",
       "        text-align: right;\n",
       "    }\n",
       "</style>\n",
       "<table border=\"1\" class=\"dataframe\">\n",
       "  <thead>\n",
       "    <tr style=\"text-align: right;\">\n",
       "      <th></th>\n",
       "      <th>country</th>\n",
       "      <th>child_mort</th>\n",
       "      <th>exports</th>\n",
       "      <th>health</th>\n",
       "      <th>imports</th>\n",
       "      <th>income</th>\n",
       "      <th>inflation</th>\n",
       "      <th>life_expec</th>\n",
       "      <th>total_fer</th>\n",
       "      <th>gdpp</th>\n",
       "    </tr>\n",
       "  </thead>\n",
       "  <tbody>\n",
       "    <tr>\n",
       "      <th>31</th>\n",
       "      <td>China</td>\n",
       "      <td>-0.639889</td>\n",
       "      <td>-0.527033</td>\n",
       "      <td>-0.666538</td>\n",
       "      <td>-1.110486</td>\n",
       "      <td>-0.246845</td>\n",
       "      <td>-0.100124</td>\n",
       "      <td>0.578803</td>\n",
       "      <td>-0.952224</td>\n",
       "      <td>-0.354693</td>\n",
       "    </tr>\n",
       "    <tr>\n",
       "      <th>41</th>\n",
       "      <td>Dominican Republic</td>\n",
       "      <td>-0.182511</td>\n",
       "      <td>-0.694749</td>\n",
       "      <td>-0.201530</td>\n",
       "      <td>-0.601825</td>\n",
       "      <td>-0.105358</td>\n",
       "      <td>-0.237948</td>\n",
       "      <td>0.578803</td>\n",
       "      <td>-0.298627</td>\n",
       "      <td>-0.274844</td>\n",
       "    </tr>\n",
       "    <tr>\n",
       "      <th>98</th>\n",
       "      <td>Morocco</td>\n",
       "      <td>-0.204524</td>\n",
       "      <td>-0.252164</td>\n",
       "      <td>-0.613972</td>\n",
       "      <td>-0.140703</td>\n",
       "      <td>-0.525315</td>\n",
       "      <td>-0.648114</td>\n",
       "      <td>0.453175</td>\n",
       "      <td>-0.311569</td>\n",
       "      <td>-0.509905</td>\n",
       "    </tr>\n",
       "    <tr>\n",
       "      <th>109</th>\n",
       "      <td>Peru</td>\n",
       "      <td>-0.527379</td>\n",
       "      <td>-0.457151</td>\n",
       "      <td>-0.662495</td>\n",
       "      <td>-1.053440</td>\n",
       "      <td>-0.208094</td>\n",
       "      <td>-0.213140</td>\n",
       "      <td>0.955688</td>\n",
       "      <td>-0.337454</td>\n",
       "      <td>-0.313423</td>\n",
       "    </tr>\n",
       "    <tr>\n",
       "      <th>110</th>\n",
       "      <td>Philippines</td>\n",
       "      <td>-0.243658</td>\n",
       "      <td>-0.131036</td>\n",
       "      <td>-1.256896</td>\n",
       "      <td>-0.444948</td>\n",
       "      <td>-0.601016</td>\n",
       "      <td>-0.350045</td>\n",
       "      <td>-0.060758</td>\n",
       "      <td>0.063763</td>\n",
       "      <td>-0.572708</td>\n",
       "    </tr>\n",
       "    <tr>\n",
       "      <th>113</th>\n",
       "      <td>Romania</td>\n",
       "      <td>-0.742616</td>\n",
       "      <td>-0.233529</td>\n",
       "      <td>-0.460317</td>\n",
       "      <td>-0.340364</td>\n",
       "      <td>0.498444</td>\n",
       "      <td>-0.413445</td>\n",
       "      <td>0.476017</td>\n",
       "      <td>-0.952224</td>\n",
       "      <td>-0.025428</td>\n",
       "    </tr>\n",
       "  </tbody>\n",
       "</table>\n",
       "</div>"
      ],
      "text/plain": [
       "                country  child_mort   exports    health   imports    income  \\\n",
       "31                China   -0.639889 -0.527033 -0.666538 -1.110486 -0.246845   \n",
       "41   Dominican Republic   -0.182511 -0.694749 -0.201530 -0.601825 -0.105358   \n",
       "98              Morocco   -0.204524 -0.252164 -0.613972 -0.140703 -0.525315   \n",
       "109                Peru   -0.527379 -0.457151 -0.662495 -1.053440 -0.208094   \n",
       "110         Philippines   -0.243658 -0.131036 -1.256896 -0.444948 -0.601016   \n",
       "113             Romania   -0.742616 -0.233529 -0.460317 -0.340364  0.498444   \n",
       "\n",
       "     inflation  life_expec  total_fer      gdpp  \n",
       "31   -0.100124    0.578803  -0.952224 -0.354693  \n",
       "41   -0.237948    0.578803  -0.298627 -0.274844  \n",
       "98   -0.648114    0.453175  -0.311569 -0.509905  \n",
       "109  -0.213140    0.955688  -0.337454 -0.313423  \n",
       "110  -0.350045   -0.060758   0.063763 -0.572708  \n",
       "113  -0.413445    0.476017  -0.952224 -0.025428  "
      ]
     },
     "execution_count": 252,
     "metadata": {},
     "output_type": "execute_result"
    }
   ],
   "source": [
    "finhc = countries[countries['inflation'] <= -0.056974]\n",
    "finhc = finhc[finhc['imports'] <= -0.025530]\n",
    "finhc = finhc[finhc['health'] <= -0.000774]\n",
    "finhc = finhc[finhc['child_mort'] <= -0.008771]\n",
    "\n",
    "finhc"
   ]
  },
  {
   "cell_type": "code",
   "execution_count": null,
   "metadata": {},
   "outputs": [],
   "source": []
  }
 ],
 "metadata": {
  "kernelspec": {
   "display_name": "Python 3",
   "language": "python",
   "name": "python3"
  },
  "language_info": {
   "codemirror_mode": {
    "name": "ipython",
    "version": 3
   },
   "file_extension": ".py",
   "mimetype": "text/x-python",
   "name": "python",
   "nbconvert_exporter": "python",
   "pygments_lexer": "ipython3",
   "version": "3.7.1"
  }
 },
 "nbformat": 4,
 "nbformat_minor": 2
}
