{
 "cells": [
  {
   "cell_type": "markdown",
   "metadata": {},
   "source": [
    "# Linear Regression\n",
    "\n",
    "### Using Master datafile"
   ]
  },
  {
   "cell_type": "code",
   "execution_count": 96,
   "metadata": {},
   "outputs": [],
   "source": [
    "import pandas as pd\n",
    "import numpy as np\n",
    "import matplotlib.pyplot as plt\n",
    "import seaborn as sns"
   ]
  },
  {
   "cell_type": "code",
   "execution_count": 97,
   "metadata": {},
   "outputs": [],
   "source": [
    "path = \"\"\"C:\\\\Users\\\\srath\\\\Old Laptop Backup\\\\Profile data\\\\OLD LAPTOP BACKUP\\\\Assignments\\\\\n",
    "Capstone Project\\\\Hospital_Revised_FlatFiles_20161110\\\\\"\"\"\n",
    "\n",
    "path = path.replace(\"\\n\",\"\")"
   ]
  },
  {
   "cell_type": "code",
   "execution_count": null,
   "metadata": {},
   "outputs": [],
   "source": []
  },
  {
   "cell_type": "code",
   "execution_count": 98,
   "metadata": {},
   "outputs": [],
   "source": [
    "master_data = pd.read_csv(path + \"master_file.csv\")"
   ]
  },
  {
   "cell_type": "code",
   "execution_count": 99,
   "metadata": {},
   "outputs": [
    {
     "data": {
      "text/html": [
       "<div>\n",
       "<style scoped>\n",
       "    .dataframe tbody tr th:only-of-type {\n",
       "        vertical-align: middle;\n",
       "    }\n",
       "\n",
       "    .dataframe tbody tr th {\n",
       "        vertical-align: top;\n",
       "    }\n",
       "\n",
       "    .dataframe thead th {\n",
       "        text-align: right;\n",
       "    }\n",
       "</style>\n",
       "<table border=\"1\" class=\"dataframe\">\n",
       "  <thead>\n",
       "    <tr style=\"text-align: right;\">\n",
       "      <th></th>\n",
       "      <th>Unnamed: 0</th>\n",
       "      <th>Provider ID</th>\n",
       "      <th>MORT_30_AMI_score</th>\n",
       "      <th>MORT_30_CABG_score</th>\n",
       "      <th>MORT_30_COPD_score</th>\n",
       "      <th>MORT_30_HF_score</th>\n",
       "      <th>MORT_30_PN_score</th>\n",
       "      <th>MORT_30_STK_score</th>\n",
       "      <th>PSI_4_SURG_COMP_score</th>\n",
       "      <th>READM_30_AMI_score</th>\n",
       "      <th>...</th>\n",
       "      <th>OP_4_score</th>\n",
       "      <th>PC_01_score</th>\n",
       "      <th>STK_4_score</th>\n",
       "      <th>STK_5_score</th>\n",
       "      <th>STK_6_score</th>\n",
       "      <th>STK_8_score</th>\n",
       "      <th>VTE_1_score</th>\n",
       "      <th>VTE_2_score</th>\n",
       "      <th>VTE_5_score</th>\n",
       "      <th>VTE_6_score</th>\n",
       "    </tr>\n",
       "  </thead>\n",
       "  <tbody>\n",
       "    <tr>\n",
       "      <th>0</th>\n",
       "      <td>0</td>\n",
       "      <td>10001</td>\n",
       "      <td>12.5</td>\n",
       "      <td>4.2</td>\n",
       "      <td>9.3</td>\n",
       "      <td>12.4</td>\n",
       "      <td>15.5</td>\n",
       "      <td>15.4</td>\n",
       "      <td>168.26</td>\n",
       "      <td>16.5</td>\n",
       "      <td>...</td>\n",
       "      <td>NaN</td>\n",
       "      <td>0.0</td>\n",
       "      <td>67.0</td>\n",
       "      <td>98.0</td>\n",
       "      <td>99.0</td>\n",
       "      <td>87.0</td>\n",
       "      <td>97.0</td>\n",
       "      <td>99.0</td>\n",
       "      <td>90.0</td>\n",
       "      <td>0.0</td>\n",
       "    </tr>\n",
       "    <tr>\n",
       "      <th>1</th>\n",
       "      <td>1</td>\n",
       "      <td>10005</td>\n",
       "      <td>16.0</td>\n",
       "      <td>NaN</td>\n",
       "      <td>7.6</td>\n",
       "      <td>15.5</td>\n",
       "      <td>20.8</td>\n",
       "      <td>15.5</td>\n",
       "      <td>179.05</td>\n",
       "      <td>16.7</td>\n",
       "      <td>...</td>\n",
       "      <td>99.0</td>\n",
       "      <td>1.0</td>\n",
       "      <td>NaN</td>\n",
       "      <td>99.0</td>\n",
       "      <td>88.0</td>\n",
       "      <td>100.0</td>\n",
       "      <td>95.0</td>\n",
       "      <td>94.0</td>\n",
       "      <td>100.0</td>\n",
       "      <td>NaN</td>\n",
       "    </tr>\n",
       "    <tr>\n",
       "      <th>2</th>\n",
       "      <td>2</td>\n",
       "      <td>10006</td>\n",
       "      <td>16.7</td>\n",
       "      <td>4.1</td>\n",
       "      <td>7.1</td>\n",
       "      <td>15.6</td>\n",
       "      <td>18.2</td>\n",
       "      <td>17.9</td>\n",
       "      <td>198.33</td>\n",
       "      <td>16.1</td>\n",
       "      <td>...</td>\n",
       "      <td>NaN</td>\n",
       "      <td>0.0</td>\n",
       "      <td>NaN</td>\n",
       "      <td>99.0</td>\n",
       "      <td>97.0</td>\n",
       "      <td>90.0</td>\n",
       "      <td>98.0</td>\n",
       "      <td>89.0</td>\n",
       "      <td>92.0</td>\n",
       "      <td>0.0</td>\n",
       "    </tr>\n",
       "    <tr>\n",
       "      <th>3</th>\n",
       "      <td>3</td>\n",
       "      <td>10007</td>\n",
       "      <td>NaN</td>\n",
       "      <td>NaN</td>\n",
       "      <td>9.3</td>\n",
       "      <td>14.4</td>\n",
       "      <td>18.8</td>\n",
       "      <td>16.6</td>\n",
       "      <td>NaN</td>\n",
       "      <td>NaN</td>\n",
       "      <td>...</td>\n",
       "      <td>89.0</td>\n",
       "      <td>NaN</td>\n",
       "      <td>NaN</td>\n",
       "      <td>100.0</td>\n",
       "      <td>71.0</td>\n",
       "      <td>NaN</td>\n",
       "      <td>97.0</td>\n",
       "      <td>99.0</td>\n",
       "      <td>NaN</td>\n",
       "      <td>NaN</td>\n",
       "    </tr>\n",
       "    <tr>\n",
       "      <th>4</th>\n",
       "      <td>4</td>\n",
       "      <td>10008</td>\n",
       "      <td>NaN</td>\n",
       "      <td>NaN</td>\n",
       "      <td>8.2</td>\n",
       "      <td>12.7</td>\n",
       "      <td>15.7</td>\n",
       "      <td>NaN</td>\n",
       "      <td>NaN</td>\n",
       "      <td>NaN</td>\n",
       "      <td>...</td>\n",
       "      <td>NaN</td>\n",
       "      <td>NaN</td>\n",
       "      <td>NaN</td>\n",
       "      <td>NaN</td>\n",
       "      <td>NaN</td>\n",
       "      <td>NaN</td>\n",
       "      <td>99.0</td>\n",
       "      <td>NaN</td>\n",
       "      <td>NaN</td>\n",
       "      <td>NaN</td>\n",
       "    </tr>\n",
       "  </tbody>\n",
       "</table>\n",
       "<p>5 rows × 64 columns</p>\n",
       "</div>"
      ],
      "text/plain": [
       "   Unnamed: 0  Provider ID  MORT_30_AMI_score  MORT_30_CABG_score  \\\n",
       "0           0        10001               12.5                 4.2   \n",
       "1           1        10005               16.0                 NaN   \n",
       "2           2        10006               16.7                 4.1   \n",
       "3           3        10007                NaN                 NaN   \n",
       "4           4        10008                NaN                 NaN   \n",
       "\n",
       "   MORT_30_COPD_score  MORT_30_HF_score  MORT_30_PN_score  MORT_30_STK_score  \\\n",
       "0                 9.3              12.4              15.5               15.4   \n",
       "1                 7.6              15.5              20.8               15.5   \n",
       "2                 7.1              15.6              18.2               17.9   \n",
       "3                 9.3              14.4              18.8               16.6   \n",
       "4                 8.2              12.7              15.7                NaN   \n",
       "\n",
       "   PSI_4_SURG_COMP_score  READM_30_AMI_score     ...       OP_4_score  \\\n",
       "0                 168.26                16.5     ...              NaN   \n",
       "1                 179.05                16.7     ...             99.0   \n",
       "2                 198.33                16.1     ...              NaN   \n",
       "3                    NaN                 NaN     ...             89.0   \n",
       "4                    NaN                 NaN     ...              NaN   \n",
       "\n",
       "   PC_01_score  STK_4_score  STK_5_score  STK_6_score  STK_8_score  \\\n",
       "0          0.0         67.0         98.0         99.0         87.0   \n",
       "1          1.0          NaN         99.0         88.0        100.0   \n",
       "2          0.0          NaN         99.0         97.0         90.0   \n",
       "3          NaN          NaN        100.0         71.0          NaN   \n",
       "4          NaN          NaN          NaN          NaN          NaN   \n",
       "\n",
       "   VTE_1_score  VTE_2_score  VTE_5_score  VTE_6_score  \n",
       "0         97.0         99.0         90.0          0.0  \n",
       "1         95.0         94.0        100.0          NaN  \n",
       "2         98.0         89.0         92.0          0.0  \n",
       "3         97.0         99.0          NaN          NaN  \n",
       "4         99.0          NaN          NaN          NaN  \n",
       "\n",
       "[5 rows x 64 columns]"
      ]
     },
     "execution_count": 99,
     "metadata": {},
     "output_type": "execute_result"
    }
   ],
   "source": [
    "master_data.head()"
   ]
  },
  {
   "cell_type": "code",
   "execution_count": 100,
   "metadata": {},
   "outputs": [],
   "source": [
    "master_data.drop('Unnamed: 0', axis = 1, inplace = True)"
   ]
  },
  {
   "cell_type": "code",
   "execution_count": 101,
   "metadata": {},
   "outputs": [
    {
     "data": {
      "text/plain": [
       "Index(['Provider ID', 'MORT_30_AMI_score', 'MORT_30_CABG_score',\n",
       "       'MORT_30_COPD_score', 'MORT_30_HF_score', 'MORT_30_PN_score',\n",
       "       'MORT_30_STK_score', 'PSI_4_SURG_COMP_score', 'READM_30_AMI_score',\n",
       "       'READM_30_CABG_score', 'READM_30_COPD_score', 'READM_30_HF_score',\n",
       "       'READM_30_HIP_KNEE_score', 'READM_30_HOSP_WIDE_score',\n",
       "       'READM_30_PN_score', 'READM_30_STK_score', 'HAI_1_SIR', 'HAI_2_SIR',\n",
       "       'HAI_3_SIR', 'HAI_4_SIR', 'HAI_5_SIR', 'HAI_6_SIR',\n",
       "       'COMP_HIP_KNEE_score', 'PSI_90_SAFETY_score',\n",
       "       'H_CLEAN_LINEAR_SCORE_mean', 'H_COMP_1_LINEAR_SCORE_mean',\n",
       "       'H_COMP_2_LINEAR_SCORE_mean', 'H_COMP_3_LINEAR_SCORE_mean',\n",
       "       'H_COMP_4_LINEAR_SCORE_mean', 'H_COMP_5_LINEAR_SCORE_mean',\n",
       "       'H_COMP_6_LINEAR_SCORE_mean', 'H_COMP_7_LINEAR_SCORE_mean',\n",
       "       'H_HSP_RATING_LINEAR_SCORE_mean', 'H_QUIET_LINEAR_SCORE_mean',\n",
       "       'H_RECMND_LINEAR_SCORE_mean', 'OP_10', 'OP_11', 'OP_13', 'OP_14',\n",
       "       'OP_8', 'ED_1b_score', 'ED_2b_score', 'OP_18b_score', 'OP_20_score',\n",
       "       'OP_21_score', 'OP_3b_score', 'OP_5_score', 'IMM_2_score',\n",
       "       'IMM_3_OP_27_FAC_ADHPCT_score', 'OP_22_score', 'OP_23_score',\n",
       "       'OP_29_score', 'OP_30_score', 'OP_4_score', 'PC_01_score',\n",
       "       'STK_4_score', 'STK_5_score', 'STK_6_score', 'STK_8_score',\n",
       "       'VTE_1_score', 'VTE_2_score', 'VTE_5_score', 'VTE_6_score'],\n",
       "      dtype='object')"
      ]
     },
     "execution_count": 101,
     "metadata": {},
     "output_type": "execute_result"
    }
   ],
   "source": [
    "master_data.columns"
   ]
  },
  {
   "cell_type": "code",
   "execution_count": 102,
   "metadata": {},
   "outputs": [],
   "source": [
    "good_columns = round(100 * (master_data.isnull().sum()/len(master_data.index)),2) < 30.00"
   ]
  },
  {
   "cell_type": "code",
   "execution_count": 103,
   "metadata": {},
   "outputs": [
    {
     "data": {
      "text/html": [
       "<div>\n",
       "<style scoped>\n",
       "    .dataframe tbody tr th:only-of-type {\n",
       "        vertical-align: middle;\n",
       "    }\n",
       "\n",
       "    .dataframe tbody tr th {\n",
       "        vertical-align: top;\n",
       "    }\n",
       "\n",
       "    .dataframe thead th {\n",
       "        text-align: right;\n",
       "    }\n",
       "</style>\n",
       "<table border=\"1\" class=\"dataframe\">\n",
       "  <thead>\n",
       "    <tr style=\"text-align: right;\">\n",
       "      <th></th>\n",
       "      <th>Provider ID</th>\n",
       "      <th>MORT_30_COPD_score</th>\n",
       "      <th>MORT_30_HF_score</th>\n",
       "      <th>MORT_30_PN_score</th>\n",
       "      <th>READM_30_COPD_score</th>\n",
       "      <th>READM_30_HF_score</th>\n",
       "      <th>READM_30_HOSP_WIDE_score</th>\n",
       "      <th>READM_30_PN_score</th>\n",
       "      <th>H_CLEAN_LINEAR_SCORE_mean</th>\n",
       "      <th>H_COMP_1_LINEAR_SCORE_mean</th>\n",
       "      <th>...</th>\n",
       "      <th>H_QUIET_LINEAR_SCORE_mean</th>\n",
       "      <th>H_RECMND_LINEAR_SCORE_mean</th>\n",
       "      <th>OP_10</th>\n",
       "      <th>ED_1b_score</th>\n",
       "      <th>ED_2b_score</th>\n",
       "      <th>OP_18b_score</th>\n",
       "      <th>OP_20_score</th>\n",
       "      <th>IMM_2_score</th>\n",
       "      <th>IMM_3_OP_27_FAC_ADHPCT_score</th>\n",
       "      <th>VTE_1_score</th>\n",
       "    </tr>\n",
       "  </thead>\n",
       "  <tbody>\n",
       "    <tr>\n",
       "      <th>0</th>\n",
       "      <td>10001</td>\n",
       "      <td>9.3</td>\n",
       "      <td>12.4</td>\n",
       "      <td>15.5</td>\n",
       "      <td>21.1</td>\n",
       "      <td>21.4</td>\n",
       "      <td>15.4</td>\n",
       "      <td>18.7</td>\n",
       "      <td>84.0</td>\n",
       "      <td>90.0</td>\n",
       "      <td>...</td>\n",
       "      <td>88.0</td>\n",
       "      <td>90.0</td>\n",
       "      <td>6.4</td>\n",
       "      <td>269.0</td>\n",
       "      <td>68.0</td>\n",
       "      <td>196.0</td>\n",
       "      <td>65.0</td>\n",
       "      <td>97.0</td>\n",
       "      <td>81.0</td>\n",
       "      <td>97.0</td>\n",
       "    </tr>\n",
       "    <tr>\n",
       "      <th>1</th>\n",
       "      <td>10005</td>\n",
       "      <td>7.6</td>\n",
       "      <td>15.5</td>\n",
       "      <td>20.8</td>\n",
       "      <td>18.0</td>\n",
       "      <td>21.9</td>\n",
       "      <td>14.9</td>\n",
       "      <td>16.4</td>\n",
       "      <td>83.0</td>\n",
       "      <td>91.0</td>\n",
       "      <td>...</td>\n",
       "      <td>86.0</td>\n",
       "      <td>89.0</td>\n",
       "      <td>13.3</td>\n",
       "      <td>243.0</td>\n",
       "      <td>71.0</td>\n",
       "      <td>117.0</td>\n",
       "      <td>27.0</td>\n",
       "      <td>99.0</td>\n",
       "      <td>83.0</td>\n",
       "      <td>95.0</td>\n",
       "    </tr>\n",
       "    <tr>\n",
       "      <th>2</th>\n",
       "      <td>10006</td>\n",
       "      <td>7.1</td>\n",
       "      <td>15.6</td>\n",
       "      <td>18.2</td>\n",
       "      <td>19.8</td>\n",
       "      <td>20.6</td>\n",
       "      <td>15.4</td>\n",
       "      <td>17.9</td>\n",
       "      <td>83.0</td>\n",
       "      <td>91.0</td>\n",
       "      <td>...</td>\n",
       "      <td>86.0</td>\n",
       "      <td>84.0</td>\n",
       "      <td>11.8</td>\n",
       "      <td>217.0</td>\n",
       "      <td>78.0</td>\n",
       "      <td>133.0</td>\n",
       "      <td>10.0</td>\n",
       "      <td>100.0</td>\n",
       "      <td>87.0</td>\n",
       "      <td>98.0</td>\n",
       "    </tr>\n",
       "    <tr>\n",
       "      <th>3</th>\n",
       "      <td>10007</td>\n",
       "      <td>9.3</td>\n",
       "      <td>14.4</td>\n",
       "      <td>18.8</td>\n",
       "      <td>19.9</td>\n",
       "      <td>21.1</td>\n",
       "      <td>16.6</td>\n",
       "      <td>17.3</td>\n",
       "      <td>89.0</td>\n",
       "      <td>91.0</td>\n",
       "      <td>...</td>\n",
       "      <td>92.0</td>\n",
       "      <td>86.0</td>\n",
       "      <td>24.3</td>\n",
       "      <td>219.0</td>\n",
       "      <td>68.0</td>\n",
       "      <td>119.0</td>\n",
       "      <td>38.0</td>\n",
       "      <td>99.0</td>\n",
       "      <td>53.0</td>\n",
       "      <td>97.0</td>\n",
       "    </tr>\n",
       "    <tr>\n",
       "      <th>4</th>\n",
       "      <td>10008</td>\n",
       "      <td>8.2</td>\n",
       "      <td>12.7</td>\n",
       "      <td>15.7</td>\n",
       "      <td>19.2</td>\n",
       "      <td>23.1</td>\n",
       "      <td>15.7</td>\n",
       "      <td>16.0</td>\n",
       "      <td>NaN</td>\n",
       "      <td>NaN</td>\n",
       "      <td>...</td>\n",
       "      <td>NaN</td>\n",
       "      <td>NaN</td>\n",
       "      <td>3.6</td>\n",
       "      <td>180.0</td>\n",
       "      <td>56.0</td>\n",
       "      <td>98.0</td>\n",
       "      <td>27.0</td>\n",
       "      <td>95.0</td>\n",
       "      <td>43.0</td>\n",
       "      <td>99.0</td>\n",
       "    </tr>\n",
       "  </tbody>\n",
       "</table>\n",
       "<p>5 rows × 27 columns</p>\n",
       "</div>"
      ],
      "text/plain": [
       "   Provider ID  MORT_30_COPD_score  MORT_30_HF_score  MORT_30_PN_score  \\\n",
       "0        10001                 9.3              12.4              15.5   \n",
       "1        10005                 7.6              15.5              20.8   \n",
       "2        10006                 7.1              15.6              18.2   \n",
       "3        10007                 9.3              14.4              18.8   \n",
       "4        10008                 8.2              12.7              15.7   \n",
       "\n",
       "   READM_30_COPD_score  READM_30_HF_score  READM_30_HOSP_WIDE_score  \\\n",
       "0                 21.1               21.4                      15.4   \n",
       "1                 18.0               21.9                      14.9   \n",
       "2                 19.8               20.6                      15.4   \n",
       "3                 19.9               21.1                      16.6   \n",
       "4                 19.2               23.1                      15.7   \n",
       "\n",
       "   READM_30_PN_score  H_CLEAN_LINEAR_SCORE_mean  H_COMP_1_LINEAR_SCORE_mean  \\\n",
       "0               18.7                       84.0                        90.0   \n",
       "1               16.4                       83.0                        91.0   \n",
       "2               17.9                       83.0                        91.0   \n",
       "3               17.3                       89.0                        91.0   \n",
       "4               16.0                        NaN                         NaN   \n",
       "\n",
       "      ...       H_QUIET_LINEAR_SCORE_mean  H_RECMND_LINEAR_SCORE_mean  OP_10  \\\n",
       "0     ...                            88.0                        90.0    6.4   \n",
       "1     ...                            86.0                        89.0   13.3   \n",
       "2     ...                            86.0                        84.0   11.8   \n",
       "3     ...                            92.0                        86.0   24.3   \n",
       "4     ...                             NaN                         NaN    3.6   \n",
       "\n",
       "   ED_1b_score  ED_2b_score  OP_18b_score  OP_20_score  IMM_2_score  \\\n",
       "0        269.0         68.0         196.0         65.0         97.0   \n",
       "1        243.0         71.0         117.0         27.0         99.0   \n",
       "2        217.0         78.0         133.0         10.0        100.0   \n",
       "3        219.0         68.0         119.0         38.0         99.0   \n",
       "4        180.0         56.0          98.0         27.0         95.0   \n",
       "\n",
       "   IMM_3_OP_27_FAC_ADHPCT_score  VTE_1_score  \n",
       "0                          81.0         97.0  \n",
       "1                          83.0         95.0  \n",
       "2                          87.0         98.0  \n",
       "3                          53.0         97.0  \n",
       "4                          43.0         99.0  \n",
       "\n",
       "[5 rows x 27 columns]"
      ]
     },
     "execution_count": 103,
     "metadata": {},
     "output_type": "execute_result"
    }
   ],
   "source": [
    "final_master_df = master_data.loc[:, good_columns]\n",
    "\n",
    "final_master_df.head()"
   ]
  },
  {
   "cell_type": "code",
   "execution_count": 104,
   "metadata": {},
   "outputs": [
    {
     "name": "stderr",
     "output_type": "stream",
     "text": [
      "C:\\Users\\srath\\AppData\\Local\\Continuum\\anaconda3\\lib\\site-packages\\pandas\\core\\generic.py:5434: SettingWithCopyWarning: \n",
      "A value is trying to be set on a copy of a slice from a DataFrame\n",
      "\n",
      "See the caveats in the documentation: http://pandas.pydata.org/pandas-docs/stable/indexing.html#indexing-view-versus-copy\n",
      "  self._update_inplace(new_data)\n"
     ]
    }
   ],
   "source": [
    "# Imputation of null values to mean value of their columns\n",
    "final_master_df.MORT_30_COPD_score.fillna(final_master_df.MORT_30_COPD_score.mean(), inplace = True)\n",
    "\n",
    "final_master_df.MORT_30_HF_score.fillna(final_master_df.MORT_30_HF_score.mean(), inplace = True)\n",
    "\n",
    "final_master_df.MORT_30_PN_score.fillna(final_master_df.MORT_30_PN_score.mean(), inplace = True)\n",
    "\n",
    "final_master_df.READM_30_COPD_score.fillna(final_master_df.READM_30_COPD_score.mean(), inplace = True)\n",
    "\n",
    "final_master_df.READM_30_HF_score.fillna(final_master_df.READM_30_HF_score.mean(), inplace = True)\n",
    "\n",
    "final_master_df.READM_30_HOSP_WIDE_score.fillna(final_master_df.READM_30_HOSP_WIDE_score.mean(), inplace = True)\n",
    "\n",
    "final_master_df.READM_30_PN_score.fillna(final_master_df.READM_30_PN_score.mean(), inplace = True)\n",
    "\n",
    "final_master_df.H_CLEAN_LINEAR_SCORE_mean.fillna(final_master_df.H_CLEAN_LINEAR_SCORE_mean.mean(), inplace = True)\n",
    "\n",
    "final_master_df.H_COMP_1_LINEAR_SCORE_mean.fillna(final_master_df.H_COMP_1_LINEAR_SCORE_mean.mean(), inplace = True)\n",
    "\n",
    "final_master_df.H_COMP_2_LINEAR_SCORE_mean.fillna(final_master_df.H_COMP_2_LINEAR_SCORE_mean.mean(), inplace = True)\n",
    "\n",
    "final_master_df.H_COMP_3_LINEAR_SCORE_mean.fillna(final_master_df.H_COMP_3_LINEAR_SCORE_mean.mean(), inplace = True) \n",
    "\n",
    "final_master_df.H_COMP_4_LINEAR_SCORE_mean.fillna(final_master_df.H_COMP_4_LINEAR_SCORE_mean.mean(), inplace = True)\n",
    "\n",
    "final_master_df.H_COMP_5_LINEAR_SCORE_mean.fillna(final_master_df.H_COMP_5_LINEAR_SCORE_mean.mean(), inplace = True) \n",
    "\n",
    "final_master_df.H_COMP_6_LINEAR_SCORE_mean.fillna(final_master_df.H_COMP_6_LINEAR_SCORE_mean.mean(), inplace = True) \n",
    "\n",
    "final_master_df.H_COMP_7_LINEAR_SCORE_mean.fillna(final_master_df.H_COMP_7_LINEAR_SCORE_mean.mean(), inplace = True) \n",
    "\n",
    "final_master_df.H_HSP_RATING_LINEAR_SCORE_mean.fillna(final_master_df.H_HSP_RATING_LINEAR_SCORE_mean.mean(), inplace = True) \n",
    "\n",
    "final_master_df.H_QUIET_LINEAR_SCORE_mean.fillna(final_master_df.H_QUIET_LINEAR_SCORE_mean.mean(), inplace = True)\n",
    "\n",
    "final_master_df.H_RECMND_LINEAR_SCORE_mean.fillna(final_master_df.H_RECMND_LINEAR_SCORE_mean.mean(), inplace = True)\n",
    "\n",
    "final_master_df.OP_10.fillna(final_master_df.OP_10.mean(), inplace = True)\n",
    "\n",
    "final_master_df.ED_1b_score.fillna(final_master_df.ED_1b_score.mean(), inplace = True)\n",
    "\n",
    "final_master_df.ED_2b_score.fillna(final_master_df.ED_2b_score.mean(), inplace = True)\n",
    "\n",
    "final_master_df.OP_18b_score.fillna(final_master_df.OP_18b_score.mean(), inplace = True)\n",
    "\n",
    "final_master_df.OP_20_score.fillna(final_master_df.OP_20_score.mean(), inplace = True)\n",
    "\n",
    "final_master_df.IMM_2_score.fillna(final_master_df.IMM_2_score.mean(), inplace = True) \n",
    "\n",
    "final_master_df.IMM_3_OP_27_FAC_ADHPCT_score.fillna(final_master_df.IMM_3_OP_27_FAC_ADHPCT_score.mean(), inplace = True)\n",
    "\n",
    "final_master_df.VTE_1_score.fillna(final_master_df.VTE_1_score.mean(), inplace = True)\n"
   ]
  },
  {
   "cell_type": "code",
   "execution_count": 105,
   "metadata": {
    "scrolled": false
   },
   "outputs": [
    {
     "data": {
      "text/plain": [
       "0"
      ]
     },
     "execution_count": 105,
     "metadata": {},
     "output_type": "execute_result"
    }
   ],
   "source": [
    "final_master_df.isnull().sum().max()"
   ]
  },
  {
   "cell_type": "markdown",
   "metadata": {},
   "source": [
    "### Deriving New Features and their transformation"
   ]
  },
  {
   "cell_type": "code",
   "execution_count": 106,
   "metadata": {},
   "outputs": [
    {
     "data": {
      "text/html": [
       "<div>\n",
       "<style scoped>\n",
       "    .dataframe tbody tr th:only-of-type {\n",
       "        vertical-align: middle;\n",
       "    }\n",
       "\n",
       "    .dataframe tbody tr th {\n",
       "        vertical-align: top;\n",
       "    }\n",
       "\n",
       "    .dataframe thead th {\n",
       "        text-align: right;\n",
       "    }\n",
       "</style>\n",
       "<table border=\"1\" class=\"dataframe\">\n",
       "  <thead>\n",
       "    <tr style=\"text-align: right;\">\n",
       "      <th></th>\n",
       "      <th>Provider ID</th>\n",
       "      <th>Hospital Name</th>\n",
       "      <th>Address</th>\n",
       "      <th>City</th>\n",
       "      <th>State</th>\n",
       "      <th>ZIP Code</th>\n",
       "      <th>County Name</th>\n",
       "      <th>Phone Number</th>\n",
       "      <th>Hospital Type</th>\n",
       "      <th>Hospital Ownership</th>\n",
       "      <th>...</th>\n",
       "      <th>Readmission national comparison</th>\n",
       "      <th>Readmission national comparison footnote</th>\n",
       "      <th>Patient experience national comparison</th>\n",
       "      <th>Patient experience national comparison footnote</th>\n",
       "      <th>Effectiveness of care national comparison</th>\n",
       "      <th>Effectiveness of care national comparison footnote</th>\n",
       "      <th>Timeliness of care national comparison</th>\n",
       "      <th>Timeliness of care national comparison footnote</th>\n",
       "      <th>Efficient use of medical imaging national comparison</th>\n",
       "      <th>Efficient use of medical imaging national comparison footnote</th>\n",
       "    </tr>\n",
       "  </thead>\n",
       "  <tbody>\n",
       "    <tr>\n",
       "      <th>0</th>\n",
       "      <td>10001</td>\n",
       "      <td>SOUTHEAST ALABAMA MEDICAL CENTER</td>\n",
       "      <td>1108 ROSS CLARK CIRCLE</td>\n",
       "      <td>DOTHAN</td>\n",
       "      <td>AL</td>\n",
       "      <td>36301</td>\n",
       "      <td>HOUSTON</td>\n",
       "      <td>3347938701</td>\n",
       "      <td>Acute Care Hospitals</td>\n",
       "      <td>Government - Hospital District or Authority</td>\n",
       "      <td>...</td>\n",
       "      <td>Same as the National average</td>\n",
       "      <td>NaN</td>\n",
       "      <td>Below the National average</td>\n",
       "      <td>NaN</td>\n",
       "      <td>Same as the National average</td>\n",
       "      <td>NaN</td>\n",
       "      <td>Same as the National average</td>\n",
       "      <td>NaN</td>\n",
       "      <td>Same as the National average</td>\n",
       "      <td>NaN</td>\n",
       "    </tr>\n",
       "    <tr>\n",
       "      <th>1</th>\n",
       "      <td>10005</td>\n",
       "      <td>MARSHALL MEDICAL CENTER SOUTH</td>\n",
       "      <td>2505 U S HIGHWAY 431 NORTH</td>\n",
       "      <td>BOAZ</td>\n",
       "      <td>AL</td>\n",
       "      <td>35957</td>\n",
       "      <td>MARSHALL</td>\n",
       "      <td>2565938310</td>\n",
       "      <td>Acute Care Hospitals</td>\n",
       "      <td>Government - Hospital District or Authority</td>\n",
       "      <td>...</td>\n",
       "      <td>Above the National average</td>\n",
       "      <td>NaN</td>\n",
       "      <td>Same as the National average</td>\n",
       "      <td>NaN</td>\n",
       "      <td>Same as the National average</td>\n",
       "      <td>NaN</td>\n",
       "      <td>Above the National average</td>\n",
       "      <td>NaN</td>\n",
       "      <td>Below the National average</td>\n",
       "      <td>NaN</td>\n",
       "    </tr>\n",
       "    <tr>\n",
       "      <th>2</th>\n",
       "      <td>10006</td>\n",
       "      <td>ELIZA COFFEE MEMORIAL HOSPITAL</td>\n",
       "      <td>205 MARENGO STREET</td>\n",
       "      <td>FLORENCE</td>\n",
       "      <td>AL</td>\n",
       "      <td>35631</td>\n",
       "      <td>LAUDERDALE</td>\n",
       "      <td>2567688400</td>\n",
       "      <td>Acute Care Hospitals</td>\n",
       "      <td>Government - Hospital District or Authority</td>\n",
       "      <td>...</td>\n",
       "      <td>Same as the National average</td>\n",
       "      <td>NaN</td>\n",
       "      <td>Below the National average</td>\n",
       "      <td>NaN</td>\n",
       "      <td>Same as the National average</td>\n",
       "      <td>NaN</td>\n",
       "      <td>Above the National average</td>\n",
       "      <td>NaN</td>\n",
       "      <td>Same as the National average</td>\n",
       "      <td>NaN</td>\n",
       "    </tr>\n",
       "    <tr>\n",
       "      <th>3</th>\n",
       "      <td>10007</td>\n",
       "      <td>MIZELL MEMORIAL HOSPITAL</td>\n",
       "      <td>702 N MAIN ST</td>\n",
       "      <td>OPP</td>\n",
       "      <td>AL</td>\n",
       "      <td>36467</td>\n",
       "      <td>COVINGTON</td>\n",
       "      <td>3344933541</td>\n",
       "      <td>Acute Care Hospitals</td>\n",
       "      <td>Voluntary non-profit - Private</td>\n",
       "      <td>...</td>\n",
       "      <td>Below the National average</td>\n",
       "      <td>NaN</td>\n",
       "      <td>Same as the National average</td>\n",
       "      <td>NaN</td>\n",
       "      <td>Same as the National average</td>\n",
       "      <td>NaN</td>\n",
       "      <td>Above the National average</td>\n",
       "      <td>NaN</td>\n",
       "      <td>Not Available</td>\n",
       "      <td>Results are not available for this reporting p...</td>\n",
       "    </tr>\n",
       "    <tr>\n",
       "      <th>4</th>\n",
       "      <td>10008</td>\n",
       "      <td>CRENSHAW COMMUNITY HOSPITAL</td>\n",
       "      <td>101 HOSPITAL CIRCLE</td>\n",
       "      <td>LUVERNE</td>\n",
       "      <td>AL</td>\n",
       "      <td>36049</td>\n",
       "      <td>CRENSHAW</td>\n",
       "      <td>3343353374</td>\n",
       "      <td>Acute Care Hospitals</td>\n",
       "      <td>Proprietary</td>\n",
       "      <td>...</td>\n",
       "      <td>Same as the National average</td>\n",
       "      <td>NaN</td>\n",
       "      <td>Not Available</td>\n",
       "      <td>Results are not available for this reporting p...</td>\n",
       "      <td>Same as the National average</td>\n",
       "      <td>NaN</td>\n",
       "      <td>Above the National average</td>\n",
       "      <td>NaN</td>\n",
       "      <td>Not Available</td>\n",
       "      <td>Results are not available for this reporting p...</td>\n",
       "    </tr>\n",
       "  </tbody>\n",
       "</table>\n",
       "<p>5 rows × 28 columns</p>\n",
       "</div>"
      ],
      "text/plain": [
       "   Provider ID                     Hospital Name                     Address  \\\n",
       "0        10001  SOUTHEAST ALABAMA MEDICAL CENTER      1108 ROSS CLARK CIRCLE   \n",
       "1        10005     MARSHALL MEDICAL CENTER SOUTH  2505 U S HIGHWAY 431 NORTH   \n",
       "2        10006    ELIZA COFFEE MEMORIAL HOSPITAL          205 MARENGO STREET   \n",
       "3        10007          MIZELL MEMORIAL HOSPITAL               702 N MAIN ST   \n",
       "4        10008       CRENSHAW COMMUNITY HOSPITAL         101 HOSPITAL CIRCLE   \n",
       "\n",
       "       City State  ZIP Code County Name  Phone Number         Hospital Type  \\\n",
       "0    DOTHAN    AL     36301     HOUSTON    3347938701  Acute Care Hospitals   \n",
       "1      BOAZ    AL     35957    MARSHALL    2565938310  Acute Care Hospitals   \n",
       "2  FLORENCE    AL     35631  LAUDERDALE    2567688400  Acute Care Hospitals   \n",
       "3       OPP    AL     36467   COVINGTON    3344933541  Acute Care Hospitals   \n",
       "4   LUVERNE    AL     36049    CRENSHAW    3343353374  Acute Care Hospitals   \n",
       "\n",
       "                            Hospital Ownership  \\\n",
       "0  Government - Hospital District or Authority   \n",
       "1  Government - Hospital District or Authority   \n",
       "2  Government - Hospital District or Authority   \n",
       "3               Voluntary non-profit - Private   \n",
       "4                                  Proprietary   \n",
       "\n",
       "                               ...                               \\\n",
       "0                              ...                                \n",
       "1                              ...                                \n",
       "2                              ...                                \n",
       "3                              ...                                \n",
       "4                              ...                                \n",
       "\n",
       "  Readmission national comparison Readmission national comparison footnote  \\\n",
       "0    Same as the National average                                      NaN   \n",
       "1      Above the National average                                      NaN   \n",
       "2    Same as the National average                                      NaN   \n",
       "3      Below the National average                                      NaN   \n",
       "4    Same as the National average                                      NaN   \n",
       "\n",
       "  Patient experience national comparison  \\\n",
       "0             Below the National average   \n",
       "1           Same as the National average   \n",
       "2             Below the National average   \n",
       "3           Same as the National average   \n",
       "4                          Not Available   \n",
       "\n",
       "     Patient experience national comparison footnote  \\\n",
       "0                                                NaN   \n",
       "1                                                NaN   \n",
       "2                                                NaN   \n",
       "3                                                NaN   \n",
       "4  Results are not available for this reporting p...   \n",
       "\n",
       "  Effectiveness of care national comparison  \\\n",
       "0              Same as the National average   \n",
       "1              Same as the National average   \n",
       "2              Same as the National average   \n",
       "3              Same as the National average   \n",
       "4              Same as the National average   \n",
       "\n",
       "  Effectiveness of care national comparison footnote  \\\n",
       "0                                                NaN   \n",
       "1                                                NaN   \n",
       "2                                                NaN   \n",
       "3                                                NaN   \n",
       "4                                                NaN   \n",
       "\n",
       "  Timeliness of care national comparison  \\\n",
       "0           Same as the National average   \n",
       "1             Above the National average   \n",
       "2             Above the National average   \n",
       "3             Above the National average   \n",
       "4             Above the National average   \n",
       "\n",
       "  Timeliness of care national comparison footnote  \\\n",
       "0                                             NaN   \n",
       "1                                             NaN   \n",
       "2                                             NaN   \n",
       "3                                             NaN   \n",
       "4                                             NaN   \n",
       "\n",
       "  Efficient use of medical imaging national comparison  \\\n",
       "0                       Same as the National average     \n",
       "1                         Below the National average     \n",
       "2                       Same as the National average     \n",
       "3                                      Not Available     \n",
       "4                                      Not Available     \n",
       "\n",
       "  Efficient use of medical imaging national comparison footnote  \n",
       "0                                                NaN             \n",
       "1                                                NaN             \n",
       "2                                                NaN             \n",
       "3  Results are not available for this reporting p...             \n",
       "4  Results are not available for this reporting p...             \n",
       "\n",
       "[5 rows x 28 columns]"
      ]
     },
     "execution_count": 106,
     "metadata": {},
     "output_type": "execute_result"
    }
   ],
   "source": [
    "hospital_ratings = pd.read_csv(path + \"Hospital General Information.csv\", encoding = \"ISO-8859-1\")\n",
    "\n",
    "hospital_ratings.head()"
   ]
  },
  {
   "cell_type": "code",
   "execution_count": 107,
   "metadata": {},
   "outputs": [],
   "source": [
    "ratings_df = hospital_ratings[['Provider ID', 'Hospital Type','Hospital Ownership','Hospital overall rating']]"
   ]
  },
  {
   "cell_type": "code",
   "execution_count": 108,
   "metadata": {},
   "outputs": [],
   "source": [
    "ratings_df.columns = ratings_df.columns.str.replace(' ','_')"
   ]
  },
  {
   "cell_type": "code",
   "execution_count": 109,
   "metadata": {
    "scrolled": true
   },
   "outputs": [
    {
     "data": {
      "text/plain": [
       "Voluntary non-profit - Private                 2027\n",
       "Proprietary                                     799\n",
       "Government - Hospital District or Authority     567\n",
       "Voluntary non-profit - Other                    477\n",
       "Government - Local                              412\n",
       "Voluntary non-profit - Church                   349\n",
       "Government - State                               67\n",
       "Physician                                        66\n",
       "Government - Federal                             46\n",
       "Tribal                                            8\n",
       "Name: Hospital_Ownership, dtype: int64"
      ]
     },
     "execution_count": 109,
     "metadata": {},
     "output_type": "execute_result"
    }
   ],
   "source": [
    "ratings_df.Hospital_Ownership.astype('category').value_counts()"
   ]
  },
  {
   "cell_type": "code",
   "execution_count": 110,
   "metadata": {},
   "outputs": [],
   "source": [
    "def get_owner(x):\n",
    "    if (x == 'Voluntary non-profit - Private'):\n",
    "        return 'private_non_profit'\n",
    "    elif(x == 'Proprietary'):\n",
    "        return 'private'\n",
    "    elif(x == 'Government - Hospital District or Authority'):\n",
    "        return 'government'\n",
    "    elif(x == 'Voluntary non-profit - Other'):\n",
    "        return 'private_non_profit'\n",
    "    elif(x == 'Government - Local'):\n",
    "        return 'government'\n",
    "    elif(x == 'Voluntary non-profit - Church'):\n",
    "         return 'private_non_profit'\n",
    "    elif(x == 'Government - State'):\n",
    "         return 'government'\n",
    "    elif(x == 'Physician'):\n",
    "         return 'private'\n",
    "    elif(x == 'Government - Federal'):\n",
    "         return 'government'\n",
    "    elif(x == 'Tribal'):\n",
    "         return 'government'\n",
    "    else:\n",
    "         return np.nan"
   ]
  },
  {
   "cell_type": "code",
   "execution_count": 111,
   "metadata": {},
   "outputs": [
    {
     "name": "stderr",
     "output_type": "stream",
     "text": [
      "C:\\Users\\srath\\AppData\\Local\\Continuum\\anaconda3\\lib\\site-packages\\ipykernel_launcher.py:1: SettingWithCopyWarning: \n",
      "A value is trying to be set on a copy of a slice from a DataFrame.\n",
      "Try using .loc[row_indexer,col_indexer] = value instead\n",
      "\n",
      "See the caveats in the documentation: http://pandas.pydata.org/pandas-docs/stable/indexing.html#indexing-view-versus-copy\n",
      "  \"\"\"Entry point for launching an IPython kernel.\n"
     ]
    }
   ],
   "source": [
    "ratings_df['Hospital_Ownership'] = ratings_df['Hospital_Ownership'].apply(get_owner)"
   ]
  },
  {
   "cell_type": "code",
   "execution_count": 112,
   "metadata": {},
   "outputs": [
    {
     "data": {
      "text/html": [
       "<div>\n",
       "<style scoped>\n",
       "    .dataframe tbody tr th:only-of-type {\n",
       "        vertical-align: middle;\n",
       "    }\n",
       "\n",
       "    .dataframe tbody tr th {\n",
       "        vertical-align: top;\n",
       "    }\n",
       "\n",
       "    .dataframe thead th {\n",
       "        text-align: right;\n",
       "    }\n",
       "</style>\n",
       "<table border=\"1\" class=\"dataframe\">\n",
       "  <thead>\n",
       "    <tr style=\"text-align: right;\">\n",
       "      <th></th>\n",
       "      <th>Provider_ID</th>\n",
       "      <th>Hospital_Type</th>\n",
       "      <th>Hospital_Ownership</th>\n",
       "      <th>Hospital_overall_rating</th>\n",
       "    </tr>\n",
       "  </thead>\n",
       "  <tbody>\n",
       "    <tr>\n",
       "      <th>0</th>\n",
       "      <td>10001</td>\n",
       "      <td>Acute Care Hospitals</td>\n",
       "      <td>government</td>\n",
       "      <td>3</td>\n",
       "    </tr>\n",
       "    <tr>\n",
       "      <th>1</th>\n",
       "      <td>10005</td>\n",
       "      <td>Acute Care Hospitals</td>\n",
       "      <td>government</td>\n",
       "      <td>3</td>\n",
       "    </tr>\n",
       "    <tr>\n",
       "      <th>2</th>\n",
       "      <td>10006</td>\n",
       "      <td>Acute Care Hospitals</td>\n",
       "      <td>government</td>\n",
       "      <td>2</td>\n",
       "    </tr>\n",
       "    <tr>\n",
       "      <th>3</th>\n",
       "      <td>10007</td>\n",
       "      <td>Acute Care Hospitals</td>\n",
       "      <td>private_non_profit</td>\n",
       "      <td>3</td>\n",
       "    </tr>\n",
       "    <tr>\n",
       "      <th>4</th>\n",
       "      <td>10008</td>\n",
       "      <td>Acute Care Hospitals</td>\n",
       "      <td>private</td>\n",
       "      <td>3</td>\n",
       "    </tr>\n",
       "  </tbody>\n",
       "</table>\n",
       "</div>"
      ],
      "text/plain": [
       "   Provider_ID         Hospital_Type  Hospital_Ownership  \\\n",
       "0        10001  Acute Care Hospitals          government   \n",
       "1        10005  Acute Care Hospitals          government   \n",
       "2        10006  Acute Care Hospitals          government   \n",
       "3        10007  Acute Care Hospitals  private_non_profit   \n",
       "4        10008  Acute Care Hospitals             private   \n",
       "\n",
       "  Hospital_overall_rating  \n",
       "0                       3  \n",
       "1                       3  \n",
       "2                       2  \n",
       "3                       3  \n",
       "4                       3  "
      ]
     },
     "execution_count": 112,
     "metadata": {},
     "output_type": "execute_result"
    }
   ],
   "source": [
    "ratings_df.head()"
   ]
  },
  {
   "cell_type": "code",
   "execution_count": 113,
   "metadata": {},
   "outputs": [
    {
     "data": {
      "text/plain": [
       "Acute Care Hospitals         3382\n",
       "Critical Access Hospitals    1337\n",
       "Childrens                      99\n",
       "Name: Hospital_Type, dtype: int64"
      ]
     },
     "execution_count": 113,
     "metadata": {},
     "output_type": "execute_result"
    }
   ],
   "source": [
    "ratings_df.Hospital_Type.astype('category').value_counts()"
   ]
  },
  {
   "cell_type": "code",
   "execution_count": 114,
   "metadata": {},
   "outputs": [
    {
     "data": {
      "text/html": [
       "<div>\n",
       "<style scoped>\n",
       "    .dataframe tbody tr th:only-of-type {\n",
       "        vertical-align: middle;\n",
       "    }\n",
       "\n",
       "    .dataframe tbody tr th {\n",
       "        vertical-align: top;\n",
       "    }\n",
       "\n",
       "    .dataframe thead th {\n",
       "        text-align: right;\n",
       "    }\n",
       "</style>\n",
       "<table border=\"1\" class=\"dataframe\">\n",
       "  <thead>\n",
       "    <tr style=\"text-align: right;\">\n",
       "      <th></th>\n",
       "      <th>Acute_Care_Hospitals</th>\n",
       "      <th>Childrens</th>\n",
       "      <th>Critical_Access_Hospitals</th>\n",
       "    </tr>\n",
       "  </thead>\n",
       "  <tbody>\n",
       "    <tr>\n",
       "      <th>0</th>\n",
       "      <td>1</td>\n",
       "      <td>0</td>\n",
       "      <td>0</td>\n",
       "    </tr>\n",
       "    <tr>\n",
       "      <th>1</th>\n",
       "      <td>1</td>\n",
       "      <td>0</td>\n",
       "      <td>0</td>\n",
       "    </tr>\n",
       "    <tr>\n",
       "      <th>2</th>\n",
       "      <td>1</td>\n",
       "      <td>0</td>\n",
       "      <td>0</td>\n",
       "    </tr>\n",
       "    <tr>\n",
       "      <th>3</th>\n",
       "      <td>1</td>\n",
       "      <td>0</td>\n",
       "      <td>0</td>\n",
       "    </tr>\n",
       "    <tr>\n",
       "      <th>4</th>\n",
       "      <td>1</td>\n",
       "      <td>0</td>\n",
       "      <td>0</td>\n",
       "    </tr>\n",
       "  </tbody>\n",
       "</table>\n",
       "</div>"
      ],
      "text/plain": [
       "   Acute_Care_Hospitals  Childrens  Critical_Access_Hospitals\n",
       "0                     1          0                          0\n",
       "1                     1          0                          0\n",
       "2                     1          0                          0\n",
       "3                     1          0                          0\n",
       "4                     1          0                          0"
      ]
     },
     "execution_count": 114,
     "metadata": {},
     "output_type": "execute_result"
    }
   ],
   "source": [
    "hospital_type_dumm = pd.get_dummies(ratings_df['Hospital_Type'])\n",
    "\n",
    "hospital_type_dumm.columns = hospital_type_dumm.columns.str.replace(' ','_') \n",
    "hospital_type_dumm.head()"
   ]
  },
  {
   "cell_type": "code",
   "execution_count": 115,
   "metadata": {},
   "outputs": [
    {
     "name": "stderr",
     "output_type": "stream",
     "text": [
      "C:\\Users\\srath\\AppData\\Local\\Continuum\\anaconda3\\lib\\site-packages\\pandas\\core\\frame.py:3697: SettingWithCopyWarning: \n",
      "A value is trying to be set on a copy of a slice from a DataFrame\n",
      "\n",
      "See the caveats in the documentation: http://pandas.pydata.org/pandas-docs/stable/indexing.html#indexing-view-versus-copy\n",
      "  errors=errors)\n"
     ]
    }
   ],
   "source": [
    "ratings_df.drop('Hospital_Type', axis= 1, inplace= True)"
   ]
  },
  {
   "cell_type": "code",
   "execution_count": 116,
   "metadata": {},
   "outputs": [],
   "source": [
    "ratings_df =  pd.concat([ratings_df, hospital_type_dumm], axis = 1)"
   ]
  },
  {
   "cell_type": "code",
   "execution_count": 117,
   "metadata": {},
   "outputs": [],
   "source": [
    "ownership_dumms = pd.get_dummies(ratings_df['Hospital_Ownership'])"
   ]
  },
  {
   "cell_type": "code",
   "execution_count": 118,
   "metadata": {},
   "outputs": [
    {
     "data": {
      "text/html": [
       "<div>\n",
       "<style scoped>\n",
       "    .dataframe tbody tr th:only-of-type {\n",
       "        vertical-align: middle;\n",
       "    }\n",
       "\n",
       "    .dataframe tbody tr th {\n",
       "        vertical-align: top;\n",
       "    }\n",
       "\n",
       "    .dataframe thead th {\n",
       "        text-align: right;\n",
       "    }\n",
       "</style>\n",
       "<table border=\"1\" class=\"dataframe\">\n",
       "  <thead>\n",
       "    <tr style=\"text-align: right;\">\n",
       "      <th></th>\n",
       "      <th>government</th>\n",
       "      <th>private</th>\n",
       "      <th>private_non_profit</th>\n",
       "    </tr>\n",
       "  </thead>\n",
       "  <tbody>\n",
       "    <tr>\n",
       "      <th>0</th>\n",
       "      <td>1</td>\n",
       "      <td>0</td>\n",
       "      <td>0</td>\n",
       "    </tr>\n",
       "    <tr>\n",
       "      <th>1</th>\n",
       "      <td>1</td>\n",
       "      <td>0</td>\n",
       "      <td>0</td>\n",
       "    </tr>\n",
       "    <tr>\n",
       "      <th>2</th>\n",
       "      <td>1</td>\n",
       "      <td>0</td>\n",
       "      <td>0</td>\n",
       "    </tr>\n",
       "    <tr>\n",
       "      <th>3</th>\n",
       "      <td>0</td>\n",
       "      <td>0</td>\n",
       "      <td>1</td>\n",
       "    </tr>\n",
       "    <tr>\n",
       "      <th>4</th>\n",
       "      <td>0</td>\n",
       "      <td>1</td>\n",
       "      <td>0</td>\n",
       "    </tr>\n",
       "  </tbody>\n",
       "</table>\n",
       "</div>"
      ],
      "text/plain": [
       "   government  private  private_non_profit\n",
       "0           1        0                   0\n",
       "1           1        0                   0\n",
       "2           1        0                   0\n",
       "3           0        0                   1\n",
       "4           0        1                   0"
      ]
     },
     "execution_count": 118,
     "metadata": {},
     "output_type": "execute_result"
    }
   ],
   "source": [
    "ownership_dumms.head()"
   ]
  },
  {
   "cell_type": "code",
   "execution_count": 119,
   "metadata": {},
   "outputs": [],
   "source": [
    "ratings_df.drop('Hospital_Ownership', axis= 1, inplace= True)"
   ]
  },
  {
   "cell_type": "code",
   "execution_count": 120,
   "metadata": {},
   "outputs": [],
   "source": [
    "ratings_df =  pd.concat([ratings_df, ownership_dumms], axis = 1)"
   ]
  },
  {
   "cell_type": "code",
   "execution_count": 121,
   "metadata": {},
   "outputs": [
    {
     "data": {
      "text/html": [
       "<div>\n",
       "<style scoped>\n",
       "    .dataframe tbody tr th:only-of-type {\n",
       "        vertical-align: middle;\n",
       "    }\n",
       "\n",
       "    .dataframe tbody tr th {\n",
       "        vertical-align: top;\n",
       "    }\n",
       "\n",
       "    .dataframe thead th {\n",
       "        text-align: right;\n",
       "    }\n",
       "</style>\n",
       "<table border=\"1\" class=\"dataframe\">\n",
       "  <thead>\n",
       "    <tr style=\"text-align: right;\">\n",
       "      <th></th>\n",
       "      <th>Provider_ID</th>\n",
       "      <th>Hospital_overall_rating</th>\n",
       "      <th>Acute_Care_Hospitals</th>\n",
       "      <th>Childrens</th>\n",
       "      <th>Critical_Access_Hospitals</th>\n",
       "      <th>government</th>\n",
       "      <th>private</th>\n",
       "      <th>private_non_profit</th>\n",
       "    </tr>\n",
       "  </thead>\n",
       "  <tbody>\n",
       "    <tr>\n",
       "      <th>0</th>\n",
       "      <td>10001</td>\n",
       "      <td>3</td>\n",
       "      <td>1</td>\n",
       "      <td>0</td>\n",
       "      <td>0</td>\n",
       "      <td>1</td>\n",
       "      <td>0</td>\n",
       "      <td>0</td>\n",
       "    </tr>\n",
       "    <tr>\n",
       "      <th>1</th>\n",
       "      <td>10005</td>\n",
       "      <td>3</td>\n",
       "      <td>1</td>\n",
       "      <td>0</td>\n",
       "      <td>0</td>\n",
       "      <td>1</td>\n",
       "      <td>0</td>\n",
       "      <td>0</td>\n",
       "    </tr>\n",
       "    <tr>\n",
       "      <th>2</th>\n",
       "      <td>10006</td>\n",
       "      <td>2</td>\n",
       "      <td>1</td>\n",
       "      <td>0</td>\n",
       "      <td>0</td>\n",
       "      <td>1</td>\n",
       "      <td>0</td>\n",
       "      <td>0</td>\n",
       "    </tr>\n",
       "    <tr>\n",
       "      <th>3</th>\n",
       "      <td>10007</td>\n",
       "      <td>3</td>\n",
       "      <td>1</td>\n",
       "      <td>0</td>\n",
       "      <td>0</td>\n",
       "      <td>0</td>\n",
       "      <td>0</td>\n",
       "      <td>1</td>\n",
       "    </tr>\n",
       "    <tr>\n",
       "      <th>4</th>\n",
       "      <td>10008</td>\n",
       "      <td>3</td>\n",
       "      <td>1</td>\n",
       "      <td>0</td>\n",
       "      <td>0</td>\n",
       "      <td>0</td>\n",
       "      <td>1</td>\n",
       "      <td>0</td>\n",
       "    </tr>\n",
       "  </tbody>\n",
       "</table>\n",
       "</div>"
      ],
      "text/plain": [
       "   Provider_ID Hospital_overall_rating  Acute_Care_Hospitals  Childrens  \\\n",
       "0        10001                       3                     1          0   \n",
       "1        10005                       3                     1          0   \n",
       "2        10006                       2                     1          0   \n",
       "3        10007                       3                     1          0   \n",
       "4        10008                       3                     1          0   \n",
       "\n",
       "   Critical_Access_Hospitals  government  private  private_non_profit  \n",
       "0                          0           1        0                   0  \n",
       "1                          0           1        0                   0  \n",
       "2                          0           1        0                   0  \n",
       "3                          0           0        0                   1  \n",
       "4                          0           0        1                   0  "
      ]
     },
     "execution_count": 121,
     "metadata": {},
     "output_type": "execute_result"
    }
   ],
   "source": [
    "ratings_df.head()"
   ]
  },
  {
   "cell_type": "code",
   "execution_count": 122,
   "metadata": {},
   "outputs": [
    {
     "data": {
      "text/plain": [
       "0"
      ]
     },
     "execution_count": 122,
     "metadata": {},
     "output_type": "execute_result"
    }
   ],
   "source": [
    "ratings_df.isnull().sum().max()"
   ]
  },
  {
   "cell_type": "code",
   "execution_count": 123,
   "metadata": {},
   "outputs": [
    {
     "data": {
      "text/plain": [
       "3                1772\n",
       "Not Available    1170\n",
       "4                 964\n",
       "2                 684\n",
       "1                 117\n",
       "5                 111\n",
       "Name: Hospital_overall_rating, dtype: int64"
      ]
     },
     "execution_count": 123,
     "metadata": {},
     "output_type": "execute_result"
    }
   ],
   "source": [
    "ratings_df.Hospital_overall_rating.astype('category').value_counts()"
   ]
  },
  {
   "cell_type": "code",
   "execution_count": 124,
   "metadata": {},
   "outputs": [],
   "source": [
    "ratings_df =  ratings_df[ratings_df.Hospital_overall_rating != 'Not Available']"
   ]
  },
  {
   "cell_type": "code",
   "execution_count": 125,
   "metadata": {},
   "outputs": [
    {
     "data": {
      "text/plain": [
       "(3648, 8)"
      ]
     },
     "execution_count": 125,
     "metadata": {},
     "output_type": "execute_result"
    }
   ],
   "source": [
    "ratings_df.shape"
   ]
  },
  {
   "cell_type": "markdown",
   "metadata": {},
   "source": [
    "### Adding the new features to the existing dataset"
   ]
  },
  {
   "cell_type": "code",
   "execution_count": 126,
   "metadata": {},
   "outputs": [],
   "source": [
    "final_master_df.columns = final_master_df.columns.str.replace(' ','_')"
   ]
  },
  {
   "cell_type": "code",
   "execution_count": 127,
   "metadata": {},
   "outputs": [
    {
     "data": {
      "text/plain": [
       "(4818, 27)"
      ]
     },
     "execution_count": 127,
     "metadata": {},
     "output_type": "execute_result"
    }
   ],
   "source": [
    "final_master_df.shape"
   ]
  },
  {
   "cell_type": "code",
   "execution_count": 128,
   "metadata": {},
   "outputs": [],
   "source": [
    "final_master_df =  final_master_df.merge(ratings_df, on = \"Provider_ID\", how = \"inner\")"
   ]
  },
  {
   "cell_type": "code",
   "execution_count": 130,
   "metadata": {},
   "outputs": [
    {
     "data": {
      "text/plain": [
       "(3648, 34)"
      ]
     },
     "execution_count": 130,
     "metadata": {},
     "output_type": "execute_result"
    }
   ],
   "source": [
    "final_master_df.shape"
   ]
  },
  {
   "cell_type": "markdown",
   "metadata": {},
   "source": [
    "### Train Test Split"
   ]
  },
  {
   "cell_type": "code",
   "execution_count": 140,
   "metadata": {},
   "outputs": [],
   "source": [
    "from sklearn.model_selection import train_test_split"
   ]
  },
  {
   "cell_type": "code",
   "execution_count": 141,
   "metadata": {},
   "outputs": [],
   "source": [
    "# defining x and y datasets\n",
    "\n",
    "\n",
    "x = final_master_df.drop(['Provider_ID', 'Hospital_overall_rating'], axis= 1)\n",
    "\n",
    "y = final_master_df['Hospital_overall_rating']"
   ]
  },
  {
   "cell_type": "code",
   "execution_count": 142,
   "metadata": {},
   "outputs": [],
   "source": [
    "x_train, x_test, y_train, y_test = train_test_split(x, y, train_size = 0.7, test_size = 0.3, random_state = 100)"
   ]
  },
  {
   "cell_type": "code",
   "execution_count": 143,
   "metadata": {},
   "outputs": [
    {
     "data": {
      "text/html": [
       "<div>\n",
       "<style scoped>\n",
       "    .dataframe tbody tr th:only-of-type {\n",
       "        vertical-align: middle;\n",
       "    }\n",
       "\n",
       "    .dataframe tbody tr th {\n",
       "        vertical-align: top;\n",
       "    }\n",
       "\n",
       "    .dataframe thead th {\n",
       "        text-align: right;\n",
       "    }\n",
       "</style>\n",
       "<table border=\"1\" class=\"dataframe\">\n",
       "  <thead>\n",
       "    <tr style=\"text-align: right;\">\n",
       "      <th></th>\n",
       "      <th>MORT_30_COPD_score</th>\n",
       "      <th>MORT_30_HF_score</th>\n",
       "      <th>MORT_30_PN_score</th>\n",
       "      <th>READM_30_COPD_score</th>\n",
       "      <th>READM_30_HF_score</th>\n",
       "      <th>READM_30_HOSP_WIDE_score</th>\n",
       "      <th>READM_30_PN_score</th>\n",
       "      <th>H_CLEAN_LINEAR_SCORE_mean</th>\n",
       "      <th>H_COMP_1_LINEAR_SCORE_mean</th>\n",
       "      <th>H_COMP_2_LINEAR_SCORE_mean</th>\n",
       "      <th>...</th>\n",
       "      <th>OP_20_score</th>\n",
       "      <th>IMM_2_score</th>\n",
       "      <th>IMM_3_OP_27_FAC_ADHPCT_score</th>\n",
       "      <th>VTE_1_score</th>\n",
       "      <th>Acute_Care_Hospitals</th>\n",
       "      <th>Childrens</th>\n",
       "      <th>Critical_Access_Hospitals</th>\n",
       "      <th>government</th>\n",
       "      <th>private</th>\n",
       "      <th>private_non_profit</th>\n",
       "    </tr>\n",
       "  </thead>\n",
       "  <tbody>\n",
       "    <tr>\n",
       "      <th>3154</th>\n",
       "      <td>7.200000</td>\n",
       "      <td>12.400000</td>\n",
       "      <td>14.1</td>\n",
       "      <td>19.70000</td>\n",
       "      <td>22.000000</td>\n",
       "      <td>14.8</td>\n",
       "      <td>15.2</td>\n",
       "      <td>87.29333</td>\n",
       "      <td>91.327537</td>\n",
       "      <td>91.899373</td>\n",
       "      <td>...</td>\n",
       "      <td>25.0</td>\n",
       "      <td>71.0</td>\n",
       "      <td>66.0</td>\n",
       "      <td>90.0</td>\n",
       "      <td>1</td>\n",
       "      <td>0</td>\n",
       "      <td>0</td>\n",
       "      <td>1</td>\n",
       "      <td>0</td>\n",
       "      <td>0</td>\n",
       "    </tr>\n",
       "    <tr>\n",
       "      <th>3076</th>\n",
       "      <td>8.082818</td>\n",
       "      <td>12.158015</td>\n",
       "      <td>15.8</td>\n",
       "      <td>19.99926</td>\n",
       "      <td>21.954575</td>\n",
       "      <td>15.0</td>\n",
       "      <td>16.5</td>\n",
       "      <td>86.00000</td>\n",
       "      <td>93.000000</td>\n",
       "      <td>95.000000</td>\n",
       "      <td>...</td>\n",
       "      <td>37.0</td>\n",
       "      <td>94.0</td>\n",
       "      <td>79.0</td>\n",
       "      <td>100.0</td>\n",
       "      <td>1</td>\n",
       "      <td>0</td>\n",
       "      <td>0</td>\n",
       "      <td>0</td>\n",
       "      <td>1</td>\n",
       "      <td>0</td>\n",
       "    </tr>\n",
       "    <tr>\n",
       "      <th>3385</th>\n",
       "      <td>8.400000</td>\n",
       "      <td>14.200000</td>\n",
       "      <td>16.1</td>\n",
       "      <td>20.40000</td>\n",
       "      <td>23.200000</td>\n",
       "      <td>15.4</td>\n",
       "      <td>16.9</td>\n",
       "      <td>88.00000</td>\n",
       "      <td>90.000000</td>\n",
       "      <td>90.000000</td>\n",
       "      <td>...</td>\n",
       "      <td>34.0</td>\n",
       "      <td>93.0</td>\n",
       "      <td>73.0</td>\n",
       "      <td>90.0</td>\n",
       "      <td>1</td>\n",
       "      <td>0</td>\n",
       "      <td>0</td>\n",
       "      <td>0</td>\n",
       "      <td>1</td>\n",
       "      <td>0</td>\n",
       "    </tr>\n",
       "    <tr>\n",
       "      <th>3034</th>\n",
       "      <td>10.700000</td>\n",
       "      <td>12.600000</td>\n",
       "      <td>17.8</td>\n",
       "      <td>20.80000</td>\n",
       "      <td>20.100000</td>\n",
       "      <td>14.9</td>\n",
       "      <td>18.1</td>\n",
       "      <td>87.00000</td>\n",
       "      <td>90.000000</td>\n",
       "      <td>92.000000</td>\n",
       "      <td>...</td>\n",
       "      <td>30.0</td>\n",
       "      <td>84.0</td>\n",
       "      <td>80.0</td>\n",
       "      <td>86.0</td>\n",
       "      <td>1</td>\n",
       "      <td>0</td>\n",
       "      <td>0</td>\n",
       "      <td>1</td>\n",
       "      <td>0</td>\n",
       "      <td>0</td>\n",
       "    </tr>\n",
       "    <tr>\n",
       "      <th>104</th>\n",
       "      <td>8.500000</td>\n",
       "      <td>13.300000</td>\n",
       "      <td>16.9</td>\n",
       "      <td>20.30000</td>\n",
       "      <td>22.200000</td>\n",
       "      <td>14.7</td>\n",
       "      <td>15.7</td>\n",
       "      <td>85.00000</td>\n",
       "      <td>88.000000</td>\n",
       "      <td>90.000000</td>\n",
       "      <td>...</td>\n",
       "      <td>44.0</td>\n",
       "      <td>95.0</td>\n",
       "      <td>69.0</td>\n",
       "      <td>97.0</td>\n",
       "      <td>1</td>\n",
       "      <td>0</td>\n",
       "      <td>0</td>\n",
       "      <td>0</td>\n",
       "      <td>1</td>\n",
       "      <td>0</td>\n",
       "    </tr>\n",
       "  </tbody>\n",
       "</table>\n",
       "<p>5 rows × 32 columns</p>\n",
       "</div>"
      ],
      "text/plain": [
       "      MORT_30_COPD_score  MORT_30_HF_score  MORT_30_PN_score  \\\n",
       "3154            7.200000         12.400000              14.1   \n",
       "3076            8.082818         12.158015              15.8   \n",
       "3385            8.400000         14.200000              16.1   \n",
       "3034           10.700000         12.600000              17.8   \n",
       "104             8.500000         13.300000              16.9   \n",
       "\n",
       "      READM_30_COPD_score  READM_30_HF_score  READM_30_HOSP_WIDE_score  \\\n",
       "3154             19.70000          22.000000                      14.8   \n",
       "3076             19.99926          21.954575                      15.0   \n",
       "3385             20.40000          23.200000                      15.4   \n",
       "3034             20.80000          20.100000                      14.9   \n",
       "104              20.30000          22.200000                      14.7   \n",
       "\n",
       "      READM_30_PN_score  H_CLEAN_LINEAR_SCORE_mean  \\\n",
       "3154               15.2                   87.29333   \n",
       "3076               16.5                   86.00000   \n",
       "3385               16.9                   88.00000   \n",
       "3034               18.1                   87.00000   \n",
       "104                15.7                   85.00000   \n",
       "\n",
       "      H_COMP_1_LINEAR_SCORE_mean  H_COMP_2_LINEAR_SCORE_mean  \\\n",
       "3154                   91.327537                   91.899373   \n",
       "3076                   93.000000                   95.000000   \n",
       "3385                   90.000000                   90.000000   \n",
       "3034                   90.000000                   92.000000   \n",
       "104                    88.000000                   90.000000   \n",
       "\n",
       "             ...          OP_20_score  IMM_2_score  \\\n",
       "3154         ...                 25.0         71.0   \n",
       "3076         ...                 37.0         94.0   \n",
       "3385         ...                 34.0         93.0   \n",
       "3034         ...                 30.0         84.0   \n",
       "104          ...                 44.0         95.0   \n",
       "\n",
       "      IMM_3_OP_27_FAC_ADHPCT_score  VTE_1_score  Acute_Care_Hospitals  \\\n",
       "3154                          66.0         90.0                     1   \n",
       "3076                          79.0        100.0                     1   \n",
       "3385                          73.0         90.0                     1   \n",
       "3034                          80.0         86.0                     1   \n",
       "104                           69.0         97.0                     1   \n",
       "\n",
       "      Childrens  Critical_Access_Hospitals  government  private  \\\n",
       "3154          0                          0           1        0   \n",
       "3076          0                          0           0        1   \n",
       "3385          0                          0           0        1   \n",
       "3034          0                          0           1        0   \n",
       "104           0                          0           0        1   \n",
       "\n",
       "      private_non_profit  \n",
       "3154                   0  \n",
       "3076                   0  \n",
       "3385                   0  \n",
       "3034                   0  \n",
       "104                    0  \n",
       "\n",
       "[5 rows x 32 columns]"
      ]
     },
     "execution_count": 143,
     "metadata": {},
     "output_type": "execute_result"
    }
   ],
   "source": [
    "x_train.head()"
   ]
  },
  {
   "cell_type": "code",
   "execution_count": 144,
   "metadata": {},
   "outputs": [
    {
     "name": "stdout",
     "output_type": "stream",
     "text": [
      "['MORT_30_COPD_score', 'MORT_30_HF_score', 'MORT_30_PN_score', 'READM_30_COPD_score', 'READM_30_HF_score', 'READM_30_HOSP_WIDE_score', 'READM_30_PN_score', 'H_CLEAN_LINEAR_SCORE_mean', 'H_COMP_1_LINEAR_SCORE_mean', 'H_COMP_2_LINEAR_SCORE_mean', 'H_COMP_3_LINEAR_SCORE_mean', 'H_COMP_4_LINEAR_SCORE_mean', 'H_COMP_5_LINEAR_SCORE_mean', 'H_COMP_6_LINEAR_SCORE_mean', 'H_COMP_7_LINEAR_SCORE_mean', 'H_HSP_RATING_LINEAR_SCORE_mean', 'H_QUIET_LINEAR_SCORE_mean', 'H_RECMND_LINEAR_SCORE_mean', 'OP_10', 'ED_1b_score', 'ED_2b_score', 'OP_18b_score', 'OP_20_score', 'IMM_2_score', 'IMM_3_OP_27_FAC_ADHPCT_score', 'VTE_1_score']\n"
     ]
    }
   ],
   "source": [
    "allcols = list(x_train.columns)\n",
    "catvars = ['Acute_Care_Hospitals', 'Childrens', 'Critical_Access_Hospitals',\n",
    "       'government', 'private', 'private_non_profit']\n",
    "\n",
    "numvars = [x for x in allcols if x not in catvars]\n",
    "\n",
    "print(numvars)"
   ]
  },
  {
   "cell_type": "code",
   "execution_count": 145,
   "metadata": {},
   "outputs": [
    {
     "data": {
      "text/plain": [
       "(1095, 32)"
      ]
     },
     "execution_count": 145,
     "metadata": {},
     "output_type": "execute_result"
    }
   ],
   "source": [
    "x_test.shape"
   ]
  },
  {
   "cell_type": "code",
   "execution_count": 146,
   "metadata": {
    "scrolled": true
   },
   "outputs": [
    {
     "data": {
      "text/plain": [
       "3154    4\n",
       "3076    4\n",
       "3385    2\n",
       "3034    2\n",
       "104     3\n",
       "Name: Hospital_overall_rating, dtype: object"
      ]
     },
     "execution_count": 146,
     "metadata": {},
     "output_type": "execute_result"
    }
   ],
   "source": [
    "y_train.head()"
   ]
  },
  {
   "cell_type": "markdown",
   "metadata": {},
   "source": [
    "### Feature Scaling using Standard Scaling method"
   ]
  },
  {
   "cell_type": "code",
   "execution_count": 147,
   "metadata": {},
   "outputs": [],
   "source": [
    "from sklearn.preprocessing import StandardScaler\n",
    "\n",
    "scaler = StandardScaler()"
   ]
  },
  {
   "cell_type": "code",
   "execution_count": 148,
   "metadata": {},
   "outputs": [
    {
     "name": "stderr",
     "output_type": "stream",
     "text": [
      "C:\\Users\\srath\\AppData\\Local\\Continuum\\anaconda3\\lib\\site-packages\\ipykernel_launcher.py:1: SettingWithCopyWarning: \n",
      "A value is trying to be set on a copy of a slice from a DataFrame.\n",
      "Try using .loc[row_indexer,col_indexer] = value instead\n",
      "\n",
      "See the caveats in the documentation: http://pandas.pydata.org/pandas-docs/stable/indexing.html#indexing-view-versus-copy\n",
      "  \"\"\"Entry point for launching an IPython kernel.\n",
      "C:\\Users\\srath\\AppData\\Local\\Continuum\\anaconda3\\lib\\site-packages\\pandas\\core\\indexing.py:543: SettingWithCopyWarning: \n",
      "A value is trying to be set on a copy of a slice from a DataFrame.\n",
      "Try using .loc[row_indexer,col_indexer] = value instead\n",
      "\n",
      "See the caveats in the documentation: http://pandas.pydata.org/pandas-docs/stable/indexing.html#indexing-view-versus-copy\n",
      "  self.obj[item] = s\n"
     ]
    }
   ],
   "source": [
    "x_train[numvars] = scaler.fit_transform(x_train[numvars])"
   ]
  },
  {
   "cell_type": "code",
   "execution_count": 149,
   "metadata": {
    "scrolled": true
   },
   "outputs": [
    {
     "name": "stderr",
     "output_type": "stream",
     "text": [
      "C:\\Users\\srath\\AppData\\Local\\Continuum\\anaconda3\\lib\\site-packages\\ipykernel_launcher.py:1: SettingWithCopyWarning: \n",
      "A value is trying to be set on a copy of a slice from a DataFrame.\n",
      "Try using .loc[row_indexer,col_indexer] = value instead\n",
      "\n",
      "See the caveats in the documentation: http://pandas.pydata.org/pandas-docs/stable/indexing.html#indexing-view-versus-copy\n",
      "  \"\"\"Entry point for launching an IPython kernel.\n",
      "C:\\Users\\srath\\AppData\\Local\\Continuum\\anaconda3\\lib\\site-packages\\pandas\\core\\indexing.py:543: SettingWithCopyWarning: \n",
      "A value is trying to be set on a copy of a slice from a DataFrame.\n",
      "Try using .loc[row_indexer,col_indexer] = value instead\n",
      "\n",
      "See the caveats in the documentation: http://pandas.pydata.org/pandas-docs/stable/indexing.html#indexing-view-versus-copy\n",
      "  self.obj[item] = s\n"
     ]
    }
   ],
   "source": [
    "x_test[numvars] = scaler.transform(x_test[numvars])"
   ]
  },
  {
   "cell_type": "markdown",
   "metadata": {},
   "source": [
    "## Transforming to Normal distribution using quantile tranformer"
   ]
  },
  {
   "cell_type": "code",
   "execution_count": 135,
   "metadata": {},
   "outputs": [],
   "source": [
    "from sklearn.preprocessing import QuantileTransformer"
   ]
  },
  {
   "cell_type": "code",
   "execution_count": 136,
   "metadata": {},
   "outputs": [],
   "source": [
    "qnt = QuantileTransformer(output_distribution='normal')"
   ]
  },
  {
   "cell_type": "code",
   "execution_count": 150,
   "metadata": {},
   "outputs": [
    {
     "name": "stderr",
     "output_type": "stream",
     "text": [
      "C:\\Users\\srath\\AppData\\Local\\Continuum\\anaconda3\\lib\\site-packages\\ipykernel_launcher.py:1: SettingWithCopyWarning: \n",
      "A value is trying to be set on a copy of a slice from a DataFrame.\n",
      "Try using .loc[row_indexer,col_indexer] = value instead\n",
      "\n",
      "See the caveats in the documentation: http://pandas.pydata.org/pandas-docs/stable/indexing.html#indexing-view-versus-copy\n",
      "  \"\"\"Entry point for launching an IPython kernel.\n",
      "C:\\Users\\srath\\AppData\\Local\\Continuum\\anaconda3\\lib\\site-packages\\pandas\\core\\indexing.py:543: SettingWithCopyWarning: \n",
      "A value is trying to be set on a copy of a slice from a DataFrame.\n",
      "Try using .loc[row_indexer,col_indexer] = value instead\n",
      "\n",
      "See the caveats in the documentation: http://pandas.pydata.org/pandas-docs/stable/indexing.html#indexing-view-versus-copy\n",
      "  self.obj[item] = s\n",
      "C:\\Users\\srath\\AppData\\Local\\Continuum\\anaconda3\\lib\\site-packages\\ipykernel_launcher.py:2: SettingWithCopyWarning: \n",
      "A value is trying to be set on a copy of a slice from a DataFrame.\n",
      "Try using .loc[row_indexer,col_indexer] = value instead\n",
      "\n",
      "See the caveats in the documentation: http://pandas.pydata.org/pandas-docs/stable/indexing.html#indexing-view-versus-copy\n",
      "  \n",
      "C:\\Users\\srath\\AppData\\Local\\Continuum\\anaconda3\\lib\\site-packages\\pandas\\core\\indexing.py:543: SettingWithCopyWarning: \n",
      "A value is trying to be set on a copy of a slice from a DataFrame.\n",
      "Try using .loc[row_indexer,col_indexer] = value instead\n",
      "\n",
      "See the caveats in the documentation: http://pandas.pydata.org/pandas-docs/stable/indexing.html#indexing-view-versus-copy\n",
      "  self.obj[item] = s\n"
     ]
    }
   ],
   "source": [
    "x_train[numvars] = qnt.fit_transform(x_train[numvars])\n",
    "x_test[numvars] = qnt.fit_transform(x_test[numvars])"
   ]
  },
  {
   "cell_type": "code",
   "execution_count": 151,
   "metadata": {},
   "outputs": [
    {
     "data": {
      "text/html": [
       "<div>\n",
       "<style scoped>\n",
       "    .dataframe tbody tr th:only-of-type {\n",
       "        vertical-align: middle;\n",
       "    }\n",
       "\n",
       "    .dataframe tbody tr th {\n",
       "        vertical-align: top;\n",
       "    }\n",
       "\n",
       "    .dataframe thead th {\n",
       "        text-align: right;\n",
       "    }\n",
       "</style>\n",
       "<table border=\"1\" class=\"dataframe\">\n",
       "  <thead>\n",
       "    <tr style=\"text-align: right;\">\n",
       "      <th></th>\n",
       "      <th>MORT_30_COPD_score</th>\n",
       "      <th>MORT_30_HF_score</th>\n",
       "      <th>MORT_30_PN_score</th>\n",
       "      <th>READM_30_COPD_score</th>\n",
       "      <th>READM_30_HF_score</th>\n",
       "      <th>READM_30_HOSP_WIDE_score</th>\n",
       "      <th>READM_30_PN_score</th>\n",
       "      <th>H_CLEAN_LINEAR_SCORE_mean</th>\n",
       "      <th>H_COMP_1_LINEAR_SCORE_mean</th>\n",
       "      <th>H_COMP_2_LINEAR_SCORE_mean</th>\n",
       "      <th>...</th>\n",
       "      <th>OP_20_score</th>\n",
       "      <th>IMM_2_score</th>\n",
       "      <th>IMM_3_OP_27_FAC_ADHPCT_score</th>\n",
       "      <th>VTE_1_score</th>\n",
       "      <th>Acute_Care_Hospitals</th>\n",
       "      <th>Childrens</th>\n",
       "      <th>Critical_Access_Hospitals</th>\n",
       "      <th>government</th>\n",
       "      <th>private</th>\n",
       "      <th>private_non_profit</th>\n",
       "    </tr>\n",
       "  </thead>\n",
       "  <tbody>\n",
       "    <tr>\n",
       "      <th>3154</th>\n",
       "      <td>-0.916587</td>\n",
       "      <td>0.293986</td>\n",
       "      <td>-1.104747</td>\n",
       "      <td>-0.270485</td>\n",
       "      <td>0.186756</td>\n",
       "      <td>-1.007252</td>\n",
       "      <td>-1.456896</td>\n",
       "      <td>0.027604</td>\n",
       "      <td>-0.013801</td>\n",
       "      <td>-0.198258</td>\n",
       "      <td>...</td>\n",
       "      <td>-0.018820</td>\n",
       "      <td>-1.934489</td>\n",
       "      <td>-1.280981</td>\n",
       "      <td>-1.046576</td>\n",
       "      <td>1</td>\n",
       "      <td>0</td>\n",
       "      <td>0</td>\n",
       "      <td>1</td>\n",
       "      <td>0</td>\n",
       "      <td>0</td>\n",
       "    </tr>\n",
       "    <tr>\n",
       "      <th>3076</th>\n",
       "      <td>0.086674</td>\n",
       "      <td>0.041413</td>\n",
       "      <td>-0.252311</td>\n",
       "      <td>-0.046436</td>\n",
       "      <td>0.072829</td>\n",
       "      <td>-0.728240</td>\n",
       "      <td>-0.412900</td>\n",
       "      <td>-0.439001</td>\n",
       "      <td>0.791884</td>\n",
       "      <td>1.381364</td>\n",
       "      <td>...</td>\n",
       "      <td>0.926176</td>\n",
       "      <td>-0.378977</td>\n",
       "      <td>-0.639462</td>\n",
       "      <td>5.199338</td>\n",
       "      <td>1</td>\n",
       "      <td>0</td>\n",
       "      <td>0</td>\n",
       "      <td>0</td>\n",
       "      <td>1</td>\n",
       "      <td>0</td>\n",
       "    </tr>\n",
       "    <tr>\n",
       "      <th>3385</th>\n",
       "      <td>0.480839</td>\n",
       "      <td>1.464186</td>\n",
       "      <td>-0.115678</td>\n",
       "      <td>0.486480</td>\n",
       "      <td>0.922330</td>\n",
       "      <td>-0.163824</td>\n",
       "      <td>-0.127052</td>\n",
       "      <td>0.209146</td>\n",
       "      <td>-0.749670</td>\n",
       "      <td>-0.924252</td>\n",
       "      <td>...</td>\n",
       "      <td>0.785036</td>\n",
       "      <td>-0.448692</td>\n",
       "      <td>-0.943656</td>\n",
       "      <td>-1.046576</td>\n",
       "      <td>1</td>\n",
       "      <td>0</td>\n",
       "      <td>0</td>\n",
       "      <td>0</td>\n",
       "      <td>1</td>\n",
       "      <td>0</td>\n",
       "    </tr>\n",
       "    <tr>\n",
       "      <th>3034</th>\n",
       "      <td>1.959536</td>\n",
       "      <td>0.426601</td>\n",
       "      <td>0.774833</td>\n",
       "      <td>0.766391</td>\n",
       "      <td>-1.387908</td>\n",
       "      <td>-0.858910</td>\n",
       "      <td>0.778225</td>\n",
       "      <td>-0.195700</td>\n",
       "      <td>-0.749670</td>\n",
       "      <td>0.129582</td>\n",
       "      <td>...</td>\n",
       "      <td>0.574595</td>\n",
       "      <td>-1.421556</td>\n",
       "      <td>-0.592444</td>\n",
       "      <td>-1.384628</td>\n",
       "      <td>1</td>\n",
       "      <td>0</td>\n",
       "      <td>0</td>\n",
       "      <td>1</td>\n",
       "      <td>0</td>\n",
       "      <td>0</td>\n",
       "    </tr>\n",
       "    <tr>\n",
       "      <th>104</th>\n",
       "      <td>0.573115</td>\n",
       "      <td>0.875354</td>\n",
       "      <td>0.341493</td>\n",
       "      <td>0.394525</td>\n",
       "      <td>0.317650</td>\n",
       "      <td>-1.114032</td>\n",
       "      <td>-1.029375</td>\n",
       "      <td>-0.675277</td>\n",
       "      <td>-1.411293</td>\n",
       "      <td>-0.924252</td>\n",
       "      <td>...</td>\n",
       "      <td>1.233962</td>\n",
       "      <td>-0.238089</td>\n",
       "      <td>-1.140077</td>\n",
       "      <td>0.135911</td>\n",
       "      <td>1</td>\n",
       "      <td>0</td>\n",
       "      <td>0</td>\n",
       "      <td>0</td>\n",
       "      <td>1</td>\n",
       "      <td>0</td>\n",
       "    </tr>\n",
       "  </tbody>\n",
       "</table>\n",
       "<p>5 rows × 32 columns</p>\n",
       "</div>"
      ],
      "text/plain": [
       "      MORT_30_COPD_score  MORT_30_HF_score  MORT_30_PN_score  \\\n",
       "3154           -0.916587          0.293986         -1.104747   \n",
       "3076            0.086674          0.041413         -0.252311   \n",
       "3385            0.480839          1.464186         -0.115678   \n",
       "3034            1.959536          0.426601          0.774833   \n",
       "104             0.573115          0.875354          0.341493   \n",
       "\n",
       "      READM_30_COPD_score  READM_30_HF_score  READM_30_HOSP_WIDE_score  \\\n",
       "3154            -0.270485           0.186756                 -1.007252   \n",
       "3076            -0.046436           0.072829                 -0.728240   \n",
       "3385             0.486480           0.922330                 -0.163824   \n",
       "3034             0.766391          -1.387908                 -0.858910   \n",
       "104              0.394525           0.317650                 -1.114032   \n",
       "\n",
       "      READM_30_PN_score  H_CLEAN_LINEAR_SCORE_mean  \\\n",
       "3154          -1.456896                   0.027604   \n",
       "3076          -0.412900                  -0.439001   \n",
       "3385          -0.127052                   0.209146   \n",
       "3034           0.778225                  -0.195700   \n",
       "104           -1.029375                  -0.675277   \n",
       "\n",
       "      H_COMP_1_LINEAR_SCORE_mean  H_COMP_2_LINEAR_SCORE_mean  \\\n",
       "3154                   -0.013801                   -0.198258   \n",
       "3076                    0.791884                    1.381364   \n",
       "3385                   -0.749670                   -0.924252   \n",
       "3034                   -0.749670                    0.129582   \n",
       "104                    -1.411293                   -0.924252   \n",
       "\n",
       "             ...          OP_20_score  IMM_2_score  \\\n",
       "3154         ...            -0.018820    -1.934489   \n",
       "3076         ...             0.926176    -0.378977   \n",
       "3385         ...             0.785036    -0.448692   \n",
       "3034         ...             0.574595    -1.421556   \n",
       "104          ...             1.233962    -0.238089   \n",
       "\n",
       "      IMM_3_OP_27_FAC_ADHPCT_score  VTE_1_score  Acute_Care_Hospitals  \\\n",
       "3154                     -1.280981    -1.046576                     1   \n",
       "3076                     -0.639462     5.199338                     1   \n",
       "3385                     -0.943656    -1.046576                     1   \n",
       "3034                     -0.592444    -1.384628                     1   \n",
       "104                      -1.140077     0.135911                     1   \n",
       "\n",
       "      Childrens  Critical_Access_Hospitals  government  private  \\\n",
       "3154          0                          0           1        0   \n",
       "3076          0                          0           0        1   \n",
       "3385          0                          0           0        1   \n",
       "3034          0                          0           1        0   \n",
       "104           0                          0           0        1   \n",
       "\n",
       "      private_non_profit  \n",
       "3154                   0  \n",
       "3076                   0  \n",
       "3385                   0  \n",
       "3034                   0  \n",
       "104                    0  \n",
       "\n",
       "[5 rows x 32 columns]"
      ]
     },
     "execution_count": 151,
     "metadata": {},
     "output_type": "execute_result"
    }
   ],
   "source": [
    "x_train.head()"
   ]
  },
  {
   "cell_type": "code",
   "execution_count": 152,
   "metadata": {},
   "outputs": [
    {
     "data": {
      "text/html": [
       "<div>\n",
       "<style scoped>\n",
       "    .dataframe tbody tr th:only-of-type {\n",
       "        vertical-align: middle;\n",
       "    }\n",
       "\n",
       "    .dataframe tbody tr th {\n",
       "        vertical-align: top;\n",
       "    }\n",
       "\n",
       "    .dataframe thead th {\n",
       "        text-align: right;\n",
       "    }\n",
       "</style>\n",
       "<table border=\"1\" class=\"dataframe\">\n",
       "  <thead>\n",
       "    <tr style=\"text-align: right;\">\n",
       "      <th></th>\n",
       "      <th>MORT_30_COPD_score</th>\n",
       "      <th>MORT_30_HF_score</th>\n",
       "      <th>MORT_30_PN_score</th>\n",
       "      <th>READM_30_COPD_score</th>\n",
       "      <th>READM_30_HF_score</th>\n",
       "      <th>READM_30_HOSP_WIDE_score</th>\n",
       "      <th>READM_30_PN_score</th>\n",
       "      <th>H_CLEAN_LINEAR_SCORE_mean</th>\n",
       "      <th>H_COMP_1_LINEAR_SCORE_mean</th>\n",
       "      <th>H_COMP_2_LINEAR_SCORE_mean</th>\n",
       "      <th>...</th>\n",
       "      <th>OP_20_score</th>\n",
       "      <th>IMM_2_score</th>\n",
       "      <th>IMM_3_OP_27_FAC_ADHPCT_score</th>\n",
       "      <th>VTE_1_score</th>\n",
       "      <th>Acute_Care_Hospitals</th>\n",
       "      <th>Childrens</th>\n",
       "      <th>Critical_Access_Hospitals</th>\n",
       "      <th>government</th>\n",
       "      <th>private</th>\n",
       "      <th>private_non_profit</th>\n",
       "    </tr>\n",
       "  </thead>\n",
       "  <tbody>\n",
       "    <tr>\n",
       "      <th>1950</th>\n",
       "      <td>0.055229</td>\n",
       "      <td>0.033880</td>\n",
       "      <td>0.457033</td>\n",
       "      <td>0.010037</td>\n",
       "      <td>0.048948</td>\n",
       "      <td>-0.152391</td>\n",
       "      <td>-1.186981</td>\n",
       "      <td>0.080379</td>\n",
       "      <td>0.021329</td>\n",
       "      <td>-0.158740</td>\n",
       "      <td>...</td>\n",
       "      <td>-0.266584</td>\n",
       "      <td>-0.613509</td>\n",
       "      <td>-0.307111</td>\n",
       "      <td>-0.611996</td>\n",
       "      <td>0</td>\n",
       "      <td>0</td>\n",
       "      <td>1</td>\n",
       "      <td>0</td>\n",
       "      <td>0</td>\n",
       "      <td>1</td>\n",
       "    </tr>\n",
       "    <tr>\n",
       "      <th>423</th>\n",
       "      <td>0.055229</td>\n",
       "      <td>0.033880</td>\n",
       "      <td>-0.406079</td>\n",
       "      <td>0.010037</td>\n",
       "      <td>0.048948</td>\n",
       "      <td>-1.018778</td>\n",
       "      <td>-0.003764</td>\n",
       "      <td>0.519225</td>\n",
       "      <td>-0.263985</td>\n",
       "      <td>0.571638</td>\n",
       "      <td>...</td>\n",
       "      <td>0.182290</td>\n",
       "      <td>0.830234</td>\n",
       "      <td>-0.147316</td>\n",
       "      <td>0.421111</td>\n",
       "      <td>1</td>\n",
       "      <td>0</td>\n",
       "      <td>0</td>\n",
       "      <td>0</td>\n",
       "      <td>0</td>\n",
       "      <td>1</td>\n",
       "    </tr>\n",
       "    <tr>\n",
       "      <th>3047</th>\n",
       "      <td>0.296607</td>\n",
       "      <td>0.977487</td>\n",
       "      <td>0.161281</td>\n",
       "      <td>-0.759677</td>\n",
       "      <td>-0.656486</td>\n",
       "      <td>-0.877196</td>\n",
       "      <td>-1.186981</td>\n",
       "      <td>-0.631785</td>\n",
       "      <td>0.333524</td>\n",
       "      <td>0.571638</td>\n",
       "      <td>...</td>\n",
       "      <td>1.053106</td>\n",
       "      <td>-0.035135</td>\n",
       "      <td>-1.295363</td>\n",
       "      <td>-1.411293</td>\n",
       "      <td>1</td>\n",
       "      <td>0</td>\n",
       "      <td>0</td>\n",
       "      <td>1</td>\n",
       "      <td>0</td>\n",
       "      <td>0</td>\n",
       "    </tr>\n",
       "    <tr>\n",
       "      <th>2412</th>\n",
       "      <td>0.583496</td>\n",
       "      <td>-0.631785</td>\n",
       "      <td>-0.018820</td>\n",
       "      <td>-0.170185</td>\n",
       "      <td>0.261387</td>\n",
       "      <td>0.369558</td>\n",
       "      <td>-1.017725</td>\n",
       "      <td>0.749670</td>\n",
       "      <td>-0.642543</td>\n",
       "      <td>-0.860725</td>\n",
       "      <td>...</td>\n",
       "      <td>-0.175278</td>\n",
       "      <td>-0.858910</td>\n",
       "      <td>0.756333</td>\n",
       "      <td>-1.490335</td>\n",
       "      <td>1</td>\n",
       "      <td>0</td>\n",
       "      <td>0</td>\n",
       "      <td>0</td>\n",
       "      <td>0</td>\n",
       "      <td>1</td>\n",
       "    </tr>\n",
       "    <tr>\n",
       "      <th>2975</th>\n",
       "      <td>1.505747</td>\n",
       "      <td>1.716415</td>\n",
       "      <td>1.876881</td>\n",
       "      <td>0.781626</td>\n",
       "      <td>0.318969</td>\n",
       "      <td>-0.593940</td>\n",
       "      <td>-0.003764</td>\n",
       "      <td>-1.097845</td>\n",
       "      <td>-1.025123</td>\n",
       "      <td>0.571638</td>\n",
       "      <td>...</td>\n",
       "      <td>0.726606</td>\n",
       "      <td>-0.388430</td>\n",
       "      <td>-0.868016</td>\n",
       "      <td>-1.286702</td>\n",
       "      <td>1</td>\n",
       "      <td>0</td>\n",
       "      <td>0</td>\n",
       "      <td>0</td>\n",
       "      <td>1</td>\n",
       "      <td>0</td>\n",
       "    </tr>\n",
       "  </tbody>\n",
       "</table>\n",
       "<p>5 rows × 32 columns</p>\n",
       "</div>"
      ],
      "text/plain": [
       "      MORT_30_COPD_score  MORT_30_HF_score  MORT_30_PN_score  \\\n",
       "1950            0.055229          0.033880          0.457033   \n",
       "423             0.055229          0.033880         -0.406079   \n",
       "3047            0.296607          0.977487          0.161281   \n",
       "2412            0.583496         -0.631785         -0.018820   \n",
       "2975            1.505747          1.716415          1.876881   \n",
       "\n",
       "      READM_30_COPD_score  READM_30_HF_score  READM_30_HOSP_WIDE_score  \\\n",
       "1950             0.010037           0.048948                 -0.152391   \n",
       "423              0.010037           0.048948                 -1.018778   \n",
       "3047            -0.759677          -0.656486                 -0.877196   \n",
       "2412            -0.170185           0.261387                  0.369558   \n",
       "2975             0.781626           0.318969                 -0.593940   \n",
       "\n",
       "      READM_30_PN_score  H_CLEAN_LINEAR_SCORE_mean  \\\n",
       "1950          -1.186981                   0.080379   \n",
       "423           -0.003764                   0.519225   \n",
       "3047          -1.186981                  -0.631785   \n",
       "2412          -1.017725                   0.749670   \n",
       "2975          -0.003764                  -1.097845   \n",
       "\n",
       "      H_COMP_1_LINEAR_SCORE_mean  H_COMP_2_LINEAR_SCORE_mean  \\\n",
       "1950                    0.021329                   -0.158740   \n",
       "423                    -0.263985                    0.571638   \n",
       "3047                    0.333524                    0.571638   \n",
       "2412                   -0.642543                   -0.860725   \n",
       "2975                   -1.025123                    0.571638   \n",
       "\n",
       "             ...          OP_20_score  IMM_2_score  \\\n",
       "1950         ...            -0.266584    -0.613509   \n",
       "423          ...             0.182290     0.830234   \n",
       "3047         ...             1.053106    -0.035135   \n",
       "2412         ...            -0.175278    -0.858910   \n",
       "2975         ...             0.726606    -0.388430   \n",
       "\n",
       "      IMM_3_OP_27_FAC_ADHPCT_score  VTE_1_score  Acute_Care_Hospitals  \\\n",
       "1950                     -0.307111    -0.611996                     0   \n",
       "423                      -0.147316     0.421111                     1   \n",
       "3047                     -1.295363    -1.411293                     1   \n",
       "2412                      0.756333    -1.490335                     1   \n",
       "2975                     -0.868016    -1.286702                     1   \n",
       "\n",
       "      Childrens  Critical_Access_Hospitals  government  private  \\\n",
       "1950          0                          1           0        0   \n",
       "423           0                          0           0        0   \n",
       "3047          0                          0           1        0   \n",
       "2412          0                          0           0        0   \n",
       "2975          0                          0           0        1   \n",
       "\n",
       "      private_non_profit  \n",
       "1950                   1  \n",
       "423                    1  \n",
       "3047                   0  \n",
       "2412                   1  \n",
       "2975                   0  \n",
       "\n",
       "[5 rows x 32 columns]"
      ]
     },
     "execution_count": 152,
     "metadata": {},
     "output_type": "execute_result"
    }
   ],
   "source": [
    "x_test.head()"
   ]
  },
  {
   "cell_type": "markdown",
   "metadata": {},
   "source": [
    "### Model Building: Linear Regression with all the features"
   ]
  },
  {
   "cell_type": "code",
   "execution_count": 153,
   "metadata": {},
   "outputs": [],
   "source": [
    "import statsmodels.api as sm"
   ]
  },
  {
   "cell_type": "code",
   "execution_count": null,
   "metadata": {},
   "outputs": [],
   "source": []
  },
  {
   "cell_type": "code",
   "execution_count": 154,
   "metadata": {},
   "outputs": [],
   "source": [
    "x_train_all = sm.add_constant(x_train)"
   ]
  },
  {
   "cell_type": "code",
   "execution_count": 155,
   "metadata": {
    "scrolled": true
   },
   "outputs": [],
   "source": [
    "lr_model_1 = sm.OLS(y_train.astype('float'), x_train_all).fit()"
   ]
  },
  {
   "cell_type": "code",
   "execution_count": 156,
   "metadata": {},
   "outputs": [
    {
     "data": {
      "text/plain": [
       "const                             1.675114e+00\n",
       "MORT_30_COPD_score               -8.123469e-02\n",
       "MORT_30_HF_score                 -1.212847e-01\n",
       "MORT_30_PN_score                 -1.431714e-01\n",
       "READM_30_COPD_score              -2.376980e-02\n",
       "READM_30_HF_score                -1.879801e-02\n",
       "READM_30_HOSP_WIDE_score         -3.431105e-01\n",
       "READM_30_PN_score                -2.285635e-02\n",
       "H_CLEAN_LINEAR_SCORE_mean         4.383931e-02\n",
       "H_COMP_1_LINEAR_SCORE_mean        6.012517e-02\n",
       "H_COMP_2_LINEAR_SCORE_mean       -1.426140e-02\n",
       "H_COMP_3_LINEAR_SCORE_mean        1.045171e-01\n",
       "H_COMP_4_LINEAR_SCORE_mean        5.930645e-02\n",
       "H_COMP_5_LINEAR_SCORE_mean        3.809337e-02\n",
       "H_COMP_6_LINEAR_SCORE_mean        1.522417e-02\n",
       "H_COMP_7_LINEAR_SCORE_mean        8.050673e-02\n",
       "H_HSP_RATING_LINEAR_SCORE_mean    8.443492e-02\n",
       "H_QUIET_LINEAR_SCORE_mean         1.720184e-02\n",
       "H_RECMND_LINEAR_SCORE_mean        4.286724e-03\n",
       "OP_10                            -3.047805e-02\n",
       "ED_1b_score                      -5.413344e-02\n",
       "ED_2b_score                       1.474627e-02\n",
       "OP_18b_score                     -5.408324e-03\n",
       "OP_20_score                      -1.475273e-02\n",
       "IMM_2_score                       1.777278e-02\n",
       "IMM_3_OP_27_FAC_ADHPCT_score      4.250604e-03\n",
       "VTE_1_score                       1.713358e-02\n",
       "Acute_Care_Hospitals              8.356898e-01\n",
       "Childrens                         3.397361e-17\n",
       "Critical_Access_Hospitals         8.394238e-01\n",
       "government                        5.241269e-01\n",
       "private                           5.832189e-01\n",
       "private_non_profit                5.677677e-01\n",
       "dtype: float64"
      ]
     },
     "execution_count": 156,
     "metadata": {},
     "output_type": "execute_result"
    }
   ],
   "source": [
    "lr_model_1.params"
   ]
  },
  {
   "cell_type": "code",
   "execution_count": 157,
   "metadata": {
    "scrolled": true
   },
   "outputs": [
    {
     "data": {
      "text/html": [
       "<table class=\"simpletable\">\n",
       "<caption>OLS Regression Results</caption>\n",
       "<tr>\n",
       "  <th>Dep. Variable:</th>    <td>Hospital_overall_rating</td> <th>  R-squared:         </th> <td>   0.730</td>\n",
       "</tr>\n",
       "<tr>\n",
       "  <th>Model:</th>                      <td>OLS</td>           <th>  Adj. R-squared:    </th> <td>   0.727</td>\n",
       "</tr>\n",
       "<tr>\n",
       "  <th>Method:</th>                <td>Least Squares</td>      <th>  F-statistic:       </th> <td>   235.5</td>\n",
       "</tr>\n",
       "<tr>\n",
       "  <th>Date:</th>                <td>Mon, 23 Dec 2019</td>     <th>  Prob (F-statistic):</th>  <td>  0.00</td> \n",
       "</tr>\n",
       "<tr>\n",
       "  <th>Time:</th>                    <td>22:37:51</td>         <th>  Log-Likelihood:    </th> <td> -1489.6</td>\n",
       "</tr>\n",
       "<tr>\n",
       "  <th>No. Observations:</th>         <td>  2553</td>          <th>  AIC:               </th> <td>   3039.</td>\n",
       "</tr>\n",
       "<tr>\n",
       "  <th>Df Residuals:</th>             <td>  2523</td>          <th>  BIC:               </th> <td>   3215.</td>\n",
       "</tr>\n",
       "<tr>\n",
       "  <th>Df Model:</th>                 <td>    29</td>          <th>                     </th>     <td> </td>   \n",
       "</tr>\n",
       "<tr>\n",
       "  <th>Covariance Type:</th>         <td>nonrobust</td>        <th>                     </th>     <td> </td>   \n",
       "</tr>\n",
       "</table>\n",
       "<table class=\"simpletable\">\n",
       "<tr>\n",
       "                 <td></td>                   <th>coef</th>     <th>std err</th>      <th>t</th>      <th>P>|t|</th>  <th>[0.025</th>    <th>0.975]</th>  \n",
       "</tr>\n",
       "<tr>\n",
       "  <th>const</th>                          <td>    1.6751</td> <td>    0.008</td> <td>  220.741</td> <td> 0.000</td> <td>    1.660</td> <td>    1.690</td>\n",
       "</tr>\n",
       "<tr>\n",
       "  <th>MORT_30_COPD_score</th>             <td>   -0.0812</td> <td>    0.010</td> <td>   -8.354</td> <td> 0.000</td> <td>   -0.100</td> <td>   -0.062</td>\n",
       "</tr>\n",
       "<tr>\n",
       "  <th>MORT_30_HF_score</th>               <td>   -0.1213</td> <td>    0.010</td> <td>  -11.957</td> <td> 0.000</td> <td>   -0.141</td> <td>   -0.101</td>\n",
       "</tr>\n",
       "<tr>\n",
       "  <th>MORT_30_PN_score</th>               <td>   -0.1432</td> <td>    0.010</td> <td>  -14.369</td> <td> 0.000</td> <td>   -0.163</td> <td>   -0.124</td>\n",
       "</tr>\n",
       "<tr>\n",
       "  <th>READM_30_COPD_score</th>            <td>   -0.0238</td> <td>    0.010</td> <td>   -2.368</td> <td> 0.018</td> <td>   -0.043</td> <td>   -0.004</td>\n",
       "</tr>\n",
       "<tr>\n",
       "  <th>READM_30_HF_score</th>              <td>   -0.0188</td> <td>    0.011</td> <td>   -1.749</td> <td> 0.080</td> <td>   -0.040</td> <td>    0.002</td>\n",
       "</tr>\n",
       "<tr>\n",
       "  <th>READM_30_HOSP_WIDE_score</th>       <td>   -0.3431</td> <td>    0.012</td> <td>  -27.769</td> <td> 0.000</td> <td>   -0.367</td> <td>   -0.319</td>\n",
       "</tr>\n",
       "<tr>\n",
       "  <th>READM_30_PN_score</th>              <td>   -0.0229</td> <td>    0.011</td> <td>   -2.120</td> <td> 0.034</td> <td>   -0.044</td> <td>   -0.002</td>\n",
       "</tr>\n",
       "<tr>\n",
       "  <th>H_CLEAN_LINEAR_SCORE_mean</th>      <td>    0.0438</td> <td>    0.013</td> <td>    3.357</td> <td> 0.001</td> <td>    0.018</td> <td>    0.069</td>\n",
       "</tr>\n",
       "<tr>\n",
       "  <th>H_COMP_1_LINEAR_SCORE_mean</th>     <td>    0.0601</td> <td>    0.023</td> <td>    2.569</td> <td> 0.010</td> <td>    0.014</td> <td>    0.106</td>\n",
       "</tr>\n",
       "<tr>\n",
       "  <th>H_COMP_2_LINEAR_SCORE_mean</th>     <td>   -0.0143</td> <td>    0.015</td> <td>   -0.944</td> <td> 0.345</td> <td>   -0.044</td> <td>    0.015</td>\n",
       "</tr>\n",
       "<tr>\n",
       "  <th>H_COMP_3_LINEAR_SCORE_mean</th>     <td>    0.1045</td> <td>    0.019</td> <td>    5.468</td> <td> 0.000</td> <td>    0.067</td> <td>    0.142</td>\n",
       "</tr>\n",
       "<tr>\n",
       "  <th>H_COMP_4_LINEAR_SCORE_mean</th>     <td>    0.0593</td> <td>    0.017</td> <td>    3.456</td> <td> 0.001</td> <td>    0.026</td> <td>    0.093</td>\n",
       "</tr>\n",
       "<tr>\n",
       "  <th>H_COMP_5_LINEAR_SCORE_mean</th>     <td>    0.0381</td> <td>    0.016</td> <td>    2.431</td> <td> 0.015</td> <td>    0.007</td> <td>    0.069</td>\n",
       "</tr>\n",
       "<tr>\n",
       "  <th>H_COMP_6_LINEAR_SCORE_mean</th>     <td>    0.0152</td> <td>    0.013</td> <td>    1.215</td> <td> 0.225</td> <td>   -0.009</td> <td>    0.040</td>\n",
       "</tr>\n",
       "<tr>\n",
       "  <th>H_COMP_7_LINEAR_SCORE_mean</th>     <td>    0.0805</td> <td>    0.019</td> <td>    4.133</td> <td> 0.000</td> <td>    0.042</td> <td>    0.119</td>\n",
       "</tr>\n",
       "<tr>\n",
       "  <th>H_HSP_RATING_LINEAR_SCORE_mean</th> <td>    0.0844</td> <td>    0.030</td> <td>    2.775</td> <td> 0.006</td> <td>    0.025</td> <td>    0.144</td>\n",
       "</tr>\n",
       "<tr>\n",
       "  <th>H_QUIET_LINEAR_SCORE_mean</th>      <td>    0.0172</td> <td>    0.013</td> <td>    1.319</td> <td> 0.187</td> <td>   -0.008</td> <td>    0.043</td>\n",
       "</tr>\n",
       "<tr>\n",
       "  <th>H_RECMND_LINEAR_SCORE_mean</th>     <td>    0.0043</td> <td>    0.025</td> <td>    0.170</td> <td> 0.865</td> <td>   -0.045</td> <td>    0.054</td>\n",
       "</tr>\n",
       "<tr>\n",
       "  <th>OP_10</th>                          <td>   -0.0305</td> <td>    0.008</td> <td>   -3.792</td> <td> 0.000</td> <td>   -0.046</td> <td>   -0.015</td>\n",
       "</tr>\n",
       "<tr>\n",
       "  <th>ED_1b_score</th>                    <td>   -0.0541</td> <td>    0.020</td> <td>   -2.726</td> <td> 0.006</td> <td>   -0.093</td> <td>   -0.015</td>\n",
       "</tr>\n",
       "<tr>\n",
       "  <th>ED_2b_score</th>                    <td>    0.0147</td> <td>    0.017</td> <td>    0.843</td> <td> 0.399</td> <td>   -0.020</td> <td>    0.049</td>\n",
       "</tr>\n",
       "<tr>\n",
       "  <th>OP_18b_score</th>                   <td>   -0.0054</td> <td>    0.013</td> <td>   -0.409</td> <td> 0.682</td> <td>   -0.031</td> <td>    0.021</td>\n",
       "</tr>\n",
       "<tr>\n",
       "  <th>OP_20_score</th>                    <td>   -0.0148</td> <td>    0.010</td> <td>   -1.425</td> <td> 0.154</td> <td>   -0.035</td> <td>    0.006</td>\n",
       "</tr>\n",
       "<tr>\n",
       "  <th>IMM_2_score</th>                    <td>    0.0178</td> <td>    0.005</td> <td>    3.586</td> <td> 0.000</td> <td>    0.008</td> <td>    0.027</td>\n",
       "</tr>\n",
       "<tr>\n",
       "  <th>IMM_3_OP_27_FAC_ADHPCT_score</th>   <td>    0.0043</td> <td>    0.007</td> <td>    0.571</td> <td> 0.568</td> <td>   -0.010</td> <td>    0.019</td>\n",
       "</tr>\n",
       "<tr>\n",
       "  <th>VTE_1_score</th>                    <td>    0.0171</td> <td>    0.005</td> <td>    3.491</td> <td> 0.000</td> <td>    0.008</td> <td>    0.027</td>\n",
       "</tr>\n",
       "<tr>\n",
       "  <th>Acute_Care_Hospitals</th>           <td>    0.8357</td> <td>    0.011</td> <td>   73.508</td> <td> 0.000</td> <td>    0.813</td> <td>    0.858</td>\n",
       "</tr>\n",
       "<tr>\n",
       "  <th>Childrens</th>                      <td> 3.397e-17</td> <td> 3.94e-18</td> <td>    8.625</td> <td> 0.000</td> <td> 2.62e-17</td> <td> 4.17e-17</td>\n",
       "</tr>\n",
       "<tr>\n",
       "  <th>Critical_Access_Hospitals</th>      <td>    0.8394</td> <td>    0.016</td> <td>   52.266</td> <td> 0.000</td> <td>    0.808</td> <td>    0.871</td>\n",
       "</tr>\n",
       "<tr>\n",
       "  <th>government</th>                     <td>    0.5241</td> <td>    0.017</td> <td>   31.206</td> <td> 0.000</td> <td>    0.491</td> <td>    0.557</td>\n",
       "</tr>\n",
       "<tr>\n",
       "  <th>private</th>                        <td>    0.5832</td> <td>    0.018</td> <td>   32.311</td> <td> 0.000</td> <td>    0.548</td> <td>    0.619</td>\n",
       "</tr>\n",
       "<tr>\n",
       "  <th>private_non_profit</th>             <td>    0.5678</td> <td>    0.012</td> <td>   46.925</td> <td> 0.000</td> <td>    0.544</td> <td>    0.591</td>\n",
       "</tr>\n",
       "</table>\n",
       "<table class=\"simpletable\">\n",
       "<tr>\n",
       "  <th>Omnibus:</th>       <td>26.093</td> <th>  Durbin-Watson:     </th> <td>   1.956</td>\n",
       "</tr>\n",
       "<tr>\n",
       "  <th>Prob(Omnibus):</th> <td> 0.000</td> <th>  Jarque-Bera (JB):  </th> <td>  29.510</td>\n",
       "</tr>\n",
       "<tr>\n",
       "  <th>Skew:</th>          <td>-0.192</td> <th>  Prob(JB):          </th> <td>3.91e-07</td>\n",
       "</tr>\n",
       "<tr>\n",
       "  <th>Kurtosis:</th>      <td> 3.360</td> <th>  Cond. No.          </th> <td>2.63e+16</td>\n",
       "</tr>\n",
       "</table><br/><br/>Warnings:<br/>[1] Standard Errors assume that the covariance matrix of the errors is correctly specified.<br/>[2] The smallest eigenvalue is 3.22e-29. This might indicate that there are<br/>strong multicollinearity problems or that the design matrix is singular."
      ],
      "text/plain": [
       "<class 'statsmodels.iolib.summary.Summary'>\n",
       "\"\"\"\n",
       "                               OLS Regression Results                              \n",
       "===================================================================================\n",
       "Dep. Variable:     Hospital_overall_rating   R-squared:                       0.730\n",
       "Model:                                 OLS   Adj. R-squared:                  0.727\n",
       "Method:                      Least Squares   F-statistic:                     235.5\n",
       "Date:                     Mon, 23 Dec 2019   Prob (F-statistic):               0.00\n",
       "Time:                             22:37:51   Log-Likelihood:                -1489.6\n",
       "No. Observations:                     2553   AIC:                             3039.\n",
       "Df Residuals:                         2523   BIC:                             3215.\n",
       "Df Model:                               29                                         \n",
       "Covariance Type:                 nonrobust                                         \n",
       "==================================================================================================\n",
       "                                     coef    std err          t      P>|t|      [0.025      0.975]\n",
       "--------------------------------------------------------------------------------------------------\n",
       "const                              1.6751      0.008    220.741      0.000       1.660       1.690\n",
       "MORT_30_COPD_score                -0.0812      0.010     -8.354      0.000      -0.100      -0.062\n",
       "MORT_30_HF_score                  -0.1213      0.010    -11.957      0.000      -0.141      -0.101\n",
       "MORT_30_PN_score                  -0.1432      0.010    -14.369      0.000      -0.163      -0.124\n",
       "READM_30_COPD_score               -0.0238      0.010     -2.368      0.018      -0.043      -0.004\n",
       "READM_30_HF_score                 -0.0188      0.011     -1.749      0.080      -0.040       0.002\n",
       "READM_30_HOSP_WIDE_score          -0.3431      0.012    -27.769      0.000      -0.367      -0.319\n",
       "READM_30_PN_score                 -0.0229      0.011     -2.120      0.034      -0.044      -0.002\n",
       "H_CLEAN_LINEAR_SCORE_mean          0.0438      0.013      3.357      0.001       0.018       0.069\n",
       "H_COMP_1_LINEAR_SCORE_mean         0.0601      0.023      2.569      0.010       0.014       0.106\n",
       "H_COMP_2_LINEAR_SCORE_mean        -0.0143      0.015     -0.944      0.345      -0.044       0.015\n",
       "H_COMP_3_LINEAR_SCORE_mean         0.1045      0.019      5.468      0.000       0.067       0.142\n",
       "H_COMP_4_LINEAR_SCORE_mean         0.0593      0.017      3.456      0.001       0.026       0.093\n",
       "H_COMP_5_LINEAR_SCORE_mean         0.0381      0.016      2.431      0.015       0.007       0.069\n",
       "H_COMP_6_LINEAR_SCORE_mean         0.0152      0.013      1.215      0.225      -0.009       0.040\n",
       "H_COMP_7_LINEAR_SCORE_mean         0.0805      0.019      4.133      0.000       0.042       0.119\n",
       "H_HSP_RATING_LINEAR_SCORE_mean     0.0844      0.030      2.775      0.006       0.025       0.144\n",
       "H_QUIET_LINEAR_SCORE_mean          0.0172      0.013      1.319      0.187      -0.008       0.043\n",
       "H_RECMND_LINEAR_SCORE_mean         0.0043      0.025      0.170      0.865      -0.045       0.054\n",
       "OP_10                             -0.0305      0.008     -3.792      0.000      -0.046      -0.015\n",
       "ED_1b_score                       -0.0541      0.020     -2.726      0.006      -0.093      -0.015\n",
       "ED_2b_score                        0.0147      0.017      0.843      0.399      -0.020       0.049\n",
       "OP_18b_score                      -0.0054      0.013     -0.409      0.682      -0.031       0.021\n",
       "OP_20_score                       -0.0148      0.010     -1.425      0.154      -0.035       0.006\n",
       "IMM_2_score                        0.0178      0.005      3.586      0.000       0.008       0.027\n",
       "IMM_3_OP_27_FAC_ADHPCT_score       0.0043      0.007      0.571      0.568      -0.010       0.019\n",
       "VTE_1_score                        0.0171      0.005      3.491      0.000       0.008       0.027\n",
       "Acute_Care_Hospitals               0.8357      0.011     73.508      0.000       0.813       0.858\n",
       "Childrens                       3.397e-17   3.94e-18      8.625      0.000    2.62e-17    4.17e-17\n",
       "Critical_Access_Hospitals          0.8394      0.016     52.266      0.000       0.808       0.871\n",
       "government                         0.5241      0.017     31.206      0.000       0.491       0.557\n",
       "private                            0.5832      0.018     32.311      0.000       0.548       0.619\n",
       "private_non_profit                 0.5678      0.012     46.925      0.000       0.544       0.591\n",
       "==============================================================================\n",
       "Omnibus:                       26.093   Durbin-Watson:                   1.956\n",
       "Prob(Omnibus):                  0.000   Jarque-Bera (JB):               29.510\n",
       "Skew:                          -0.192   Prob(JB):                     3.91e-07\n",
       "Kurtosis:                       3.360   Cond. No.                     2.63e+16\n",
       "==============================================================================\n",
       "\n",
       "Warnings:\n",
       "[1] Standard Errors assume that the covariance matrix of the errors is correctly specified.\n",
       "[2] The smallest eigenvalue is 3.22e-29. This might indicate that there are\n",
       "strong multicollinearity problems or that the design matrix is singular.\n",
       "\"\"\""
      ]
     },
     "execution_count": 157,
     "metadata": {},
     "output_type": "execute_result"
    }
   ],
   "source": [
    "lr_model_1.summary()"
   ]
  },
  {
   "cell_type": "markdown",
   "metadata": {},
   "source": [
    "### Feature Selection using RFE"
   ]
  },
  {
   "cell_type": "code",
   "execution_count": 158,
   "metadata": {},
   "outputs": [],
   "source": [
    "from sklearn.feature_selection import RFE\n",
    "from sklearn.linear_model import LinearRegression\n",
    "\n",
    "lm = LinearRegression()"
   ]
  },
  {
   "cell_type": "code",
   "execution_count": 159,
   "metadata": {},
   "outputs": [
    {
     "data": {
      "text/plain": [
       "LinearRegression(copy_X=True, fit_intercept=True, n_jobs=None,\n",
       "         normalize=False)"
      ]
     },
     "execution_count": 159,
     "metadata": {},
     "output_type": "execute_result"
    }
   ],
   "source": [
    "lm.fit(x_train, y_train)"
   ]
  },
  {
   "cell_type": "code",
   "execution_count": 160,
   "metadata": {},
   "outputs": [],
   "source": [
    "rfe = RFE(lm, 15)\n",
    "rfe = rfe.fit(x_train, y_train)"
   ]
  },
  {
   "cell_type": "code",
   "execution_count": 161,
   "metadata": {},
   "outputs": [
    {
     "data": {
      "text/plain": [
       "[('MORT_30_COPD_score', True, 1),\n",
       " ('MORT_30_HF_score', True, 1),\n",
       " ('MORT_30_PN_score', True, 1),\n",
       " ('READM_30_COPD_score', False, 3),\n",
       " ('READM_30_HF_score', False, 4),\n",
       " ('READM_30_HOSP_WIDE_score', True, 1),\n",
       " ('READM_30_PN_score', True, 1),\n",
       " ('H_CLEAN_LINEAR_SCORE_mean', True, 1),\n",
       " ('H_COMP_1_LINEAR_SCORE_mean', True, 1),\n",
       " ('H_COMP_2_LINEAR_SCORE_mean', False, 10),\n",
       " ('H_COMP_3_LINEAR_SCORE_mean', True, 1),\n",
       " ('H_COMP_4_LINEAR_SCORE_mean', True, 1),\n",
       " ('H_COMP_5_LINEAR_SCORE_mean', True, 1),\n",
       " ('H_COMP_6_LINEAR_SCORE_mean', False, 9),\n",
       " ('H_COMP_7_LINEAR_SCORE_mean', True, 1),\n",
       " ('H_HSP_RATING_LINEAR_SCORE_mean', True, 1),\n",
       " ('H_QUIET_LINEAR_SCORE_mean', False, 8),\n",
       " ('H_RECMND_LINEAR_SCORE_mean', False, 15),\n",
       " ('OP_10', True, 1),\n",
       " ('ED_1b_score', True, 1),\n",
       " ('ED_2b_score', False, 7),\n",
       " ('OP_18b_score', False, 13),\n",
       " ('OP_20_score', False, 6),\n",
       " ('IMM_2_score', False, 5),\n",
       " ('IMM_3_OP_27_FAC_ADHPCT_score', False, 14),\n",
       " ('VTE_1_score', False, 2),\n",
       " ('Acute_Care_Hospitals', False, 16),\n",
       " ('Childrens', False, 18),\n",
       " ('Critical_Access_Hospitals', False, 17),\n",
       " ('government', True, 1),\n",
       " ('private', False, 11),\n",
       " ('private_non_profit', False, 12)]"
      ]
     },
     "execution_count": 161,
     "metadata": {},
     "output_type": "execute_result"
    }
   ],
   "source": [
    "list(zip(x_train.columns, rfe.support_, rfe.ranking_))"
   ]
  },
  {
   "cell_type": "code",
   "execution_count": null,
   "metadata": {},
   "outputs": [],
   "source": []
  },
  {
   "cell_type": "code",
   "execution_count": 162,
   "metadata": {},
   "outputs": [
    {
     "data": {
      "text/plain": [
       "Index(['MORT_30_COPD_score', 'MORT_30_HF_score', 'MORT_30_PN_score',\n",
       "       'READM_30_HOSP_WIDE_score', 'READM_30_PN_score',\n",
       "       'H_CLEAN_LINEAR_SCORE_mean', 'H_COMP_1_LINEAR_SCORE_mean',\n",
       "       'H_COMP_3_LINEAR_SCORE_mean', 'H_COMP_4_LINEAR_SCORE_mean',\n",
       "       'H_COMP_5_LINEAR_SCORE_mean', 'H_COMP_7_LINEAR_SCORE_mean',\n",
       "       'H_HSP_RATING_LINEAR_SCORE_mean', 'OP_10', 'ED_1b_score', 'government'],\n",
       "      dtype='object')"
      ]
     },
     "execution_count": 162,
     "metadata": {},
     "output_type": "execute_result"
    }
   ],
   "source": [
    "main_cols = x_train.columns[rfe.support_]\n",
    "main_cols"
   ]
  },
  {
   "cell_type": "markdown",
   "metadata": {},
   "source": [
    "### Build Linear Regression model with RFE features"
   ]
  },
  {
   "cell_type": "code",
   "execution_count": 163,
   "metadata": {},
   "outputs": [],
   "source": [
    "import statsmodels.api as sm"
   ]
  },
  {
   "cell_type": "code",
   "execution_count": 164,
   "metadata": {},
   "outputs": [],
   "source": [
    "rfe_x_train = x_train[main_cols]\n",
    "\n",
    "x_train_all = sm.add_constant(rfe_x_train)"
   ]
  },
  {
   "cell_type": "code",
   "execution_count": 165,
   "metadata": {
    "scrolled": true
   },
   "outputs": [],
   "source": [
    "lr_model_1 = sm.OLS(y_train.astype('float'), x_train_all).fit()"
   ]
  },
  {
   "cell_type": "code",
   "execution_count": 166,
   "metadata": {},
   "outputs": [
    {
     "data": {
      "text/plain": [
       "const                             3.106529\n",
       "MORT_30_COPD_score               -0.082799\n",
       "MORT_30_HF_score                 -0.124542\n",
       "MORT_30_PN_score                 -0.139310\n",
       "READM_30_HOSP_WIDE_score         -0.361969\n",
       "READM_30_PN_score                -0.027527\n",
       "H_CLEAN_LINEAR_SCORE_mean         0.039005\n",
       "H_COMP_1_LINEAR_SCORE_mean        0.049943\n",
       "H_COMP_3_LINEAR_SCORE_mean        0.103440\n",
       "H_COMP_4_LINEAR_SCORE_mean        0.060625\n",
       "H_COMP_5_LINEAR_SCORE_mean        0.048086\n",
       "H_COMP_7_LINEAR_SCORE_mean        0.080997\n",
       "H_HSP_RATING_LINEAR_SCORE_mean    0.105720\n",
       "OP_10                            -0.033125\n",
       "ED_1b_score                      -0.060128\n",
       "government                       -0.077865\n",
       "dtype: float64"
      ]
     },
     "execution_count": 166,
     "metadata": {},
     "output_type": "execute_result"
    }
   ],
   "source": [
    "lr_model_1.params"
   ]
  },
  {
   "cell_type": "code",
   "execution_count": 167,
   "metadata": {},
   "outputs": [
    {
     "data": {
      "text/html": [
       "<table class=\"simpletable\">\n",
       "<caption>OLS Regression Results</caption>\n",
       "<tr>\n",
       "  <th>Dep. Variable:</th>    <td>Hospital_overall_rating</td> <th>  R-squared:         </th> <td>   0.722</td>\n",
       "</tr>\n",
       "<tr>\n",
       "  <th>Model:</th>                      <td>OLS</td>           <th>  Adj. R-squared:    </th> <td>   0.721</td>\n",
       "</tr>\n",
       "<tr>\n",
       "  <th>Method:</th>                <td>Least Squares</td>      <th>  F-statistic:       </th> <td>   439.8</td>\n",
       "</tr>\n",
       "<tr>\n",
       "  <th>Date:</th>                <td>Mon, 23 Dec 2019</td>     <th>  Prob (F-statistic):</th>  <td>  0.00</td> \n",
       "</tr>\n",
       "<tr>\n",
       "  <th>Time:</th>                    <td>22:38:14</td>         <th>  Log-Likelihood:    </th> <td> -1526.8</td>\n",
       "</tr>\n",
       "<tr>\n",
       "  <th>No. Observations:</th>         <td>  2553</td>          <th>  AIC:               </th> <td>   3086.</td>\n",
       "</tr>\n",
       "<tr>\n",
       "  <th>Df Residuals:</th>             <td>  2537</td>          <th>  BIC:               </th> <td>   3179.</td>\n",
       "</tr>\n",
       "<tr>\n",
       "  <th>Df Model:</th>                 <td>    15</td>          <th>                     </th>     <td> </td>   \n",
       "</tr>\n",
       "<tr>\n",
       "  <th>Covariance Type:</th>         <td>nonrobust</td>        <th>                     </th>     <td> </td>   \n",
       "</tr>\n",
       "</table>\n",
       "<table class=\"simpletable\">\n",
       "<tr>\n",
       "                 <td></td>                   <th>coef</th>     <th>std err</th>      <th>t</th>      <th>P>|t|</th>  <th>[0.025</th>    <th>0.975]</th>  \n",
       "</tr>\n",
       "<tr>\n",
       "  <th>const</th>                          <td>    3.1065</td> <td>    0.010</td> <td>  320.502</td> <td> 0.000</td> <td>    3.088</td> <td>    3.126</td>\n",
       "</tr>\n",
       "<tr>\n",
       "  <th>MORT_30_COPD_score</th>             <td>   -0.0828</td> <td>    0.010</td> <td>   -8.458</td> <td> 0.000</td> <td>   -0.102</td> <td>   -0.064</td>\n",
       "</tr>\n",
       "<tr>\n",
       "  <th>MORT_30_HF_score</th>               <td>   -0.1245</td> <td>    0.010</td> <td>  -12.229</td> <td> 0.000</td> <td>   -0.145</td> <td>   -0.105</td>\n",
       "</tr>\n",
       "<tr>\n",
       "  <th>MORT_30_PN_score</th>               <td>   -0.1393</td> <td>    0.010</td> <td>  -13.969</td> <td> 0.000</td> <td>   -0.159</td> <td>   -0.120</td>\n",
       "</tr>\n",
       "<tr>\n",
       "  <th>READM_30_HOSP_WIDE_score</th>       <td>   -0.3620</td> <td>    0.011</td> <td>  -33.256</td> <td> 0.000</td> <td>   -0.383</td> <td>   -0.341</td>\n",
       "</tr>\n",
       "<tr>\n",
       "  <th>READM_30_PN_score</th>              <td>   -0.0275</td> <td>    0.011</td> <td>   -2.592</td> <td> 0.010</td> <td>   -0.048</td> <td>   -0.007</td>\n",
       "</tr>\n",
       "<tr>\n",
       "  <th>H_CLEAN_LINEAR_SCORE_mean</th>      <td>    0.0390</td> <td>    0.013</td> <td>    3.031</td> <td> 0.002</td> <td>    0.014</td> <td>    0.064</td>\n",
       "</tr>\n",
       "<tr>\n",
       "  <th>H_COMP_1_LINEAR_SCORE_mean</th>     <td>    0.0499</td> <td>    0.023</td> <td>    2.155</td> <td> 0.031</td> <td>    0.004</td> <td>    0.095</td>\n",
       "</tr>\n",
       "<tr>\n",
       "  <th>H_COMP_3_LINEAR_SCORE_mean</th>     <td>    0.1034</td> <td>    0.019</td> <td>    5.520</td> <td> 0.000</td> <td>    0.067</td> <td>    0.140</td>\n",
       "</tr>\n",
       "<tr>\n",
       "  <th>H_COMP_4_LINEAR_SCORE_mean</th>     <td>    0.0606</td> <td>    0.017</td> <td>    3.530</td> <td> 0.000</td> <td>    0.027</td> <td>    0.094</td>\n",
       "</tr>\n",
       "<tr>\n",
       "  <th>H_COMP_5_LINEAR_SCORE_mean</th>     <td>    0.0481</td> <td>    0.015</td> <td>    3.174</td> <td> 0.002</td> <td>    0.018</td> <td>    0.078</td>\n",
       "</tr>\n",
       "<tr>\n",
       "  <th>H_COMP_7_LINEAR_SCORE_mean</th>     <td>    0.0810</td> <td>    0.018</td> <td>    4.499</td> <td> 0.000</td> <td>    0.046</td> <td>    0.116</td>\n",
       "</tr>\n",
       "<tr>\n",
       "  <th>H_HSP_RATING_LINEAR_SCORE_mean</th> <td>    0.1057</td> <td>    0.018</td> <td>    5.834</td> <td> 0.000</td> <td>    0.070</td> <td>    0.141</td>\n",
       "</tr>\n",
       "<tr>\n",
       "  <th>OP_10</th>                          <td>   -0.0331</td> <td>    0.008</td> <td>   -4.137</td> <td> 0.000</td> <td>   -0.049</td> <td>   -0.017</td>\n",
       "</tr>\n",
       "<tr>\n",
       "  <th>ED_1b_score</th>                    <td>   -0.0601</td> <td>    0.010</td> <td>   -6.149</td> <td> 0.000</td> <td>   -0.079</td> <td>   -0.041</td>\n",
       "</tr>\n",
       "<tr>\n",
       "  <th>government</th>                     <td>   -0.0779</td> <td>    0.023</td> <td>   -3.377</td> <td> 0.001</td> <td>   -0.123</td> <td>   -0.033</td>\n",
       "</tr>\n",
       "</table>\n",
       "<table class=\"simpletable\">\n",
       "<tr>\n",
       "  <th>Omnibus:</th>       <td>21.655</td> <th>  Durbin-Watson:     </th> <td>   1.964</td>\n",
       "</tr>\n",
       "<tr>\n",
       "  <th>Prob(Omnibus):</th> <td> 0.000</td> <th>  Jarque-Bera (JB):  </th> <td>  24.052</td>\n",
       "</tr>\n",
       "<tr>\n",
       "  <th>Skew:</th>          <td>-0.175</td> <th>  Prob(JB):          </th> <td>5.99e-06</td>\n",
       "</tr>\n",
       "<tr>\n",
       "  <th>Kurtosis:</th>      <td> 3.322</td> <th>  Cond. No.          </th> <td>    7.26</td>\n",
       "</tr>\n",
       "</table><br/><br/>Warnings:<br/>[1] Standard Errors assume that the covariance matrix of the errors is correctly specified."
      ],
      "text/plain": [
       "<class 'statsmodels.iolib.summary.Summary'>\n",
       "\"\"\"\n",
       "                               OLS Regression Results                              \n",
       "===================================================================================\n",
       "Dep. Variable:     Hospital_overall_rating   R-squared:                       0.722\n",
       "Model:                                 OLS   Adj. R-squared:                  0.721\n",
       "Method:                      Least Squares   F-statistic:                     439.8\n",
       "Date:                     Mon, 23 Dec 2019   Prob (F-statistic):               0.00\n",
       "Time:                             22:38:14   Log-Likelihood:                -1526.8\n",
       "No. Observations:                     2553   AIC:                             3086.\n",
       "Df Residuals:                         2537   BIC:                             3179.\n",
       "Df Model:                               15                                         \n",
       "Covariance Type:                 nonrobust                                         \n",
       "==================================================================================================\n",
       "                                     coef    std err          t      P>|t|      [0.025      0.975]\n",
       "--------------------------------------------------------------------------------------------------\n",
       "const                              3.1065      0.010    320.502      0.000       3.088       3.126\n",
       "MORT_30_COPD_score                -0.0828      0.010     -8.458      0.000      -0.102      -0.064\n",
       "MORT_30_HF_score                  -0.1245      0.010    -12.229      0.000      -0.145      -0.105\n",
       "MORT_30_PN_score                  -0.1393      0.010    -13.969      0.000      -0.159      -0.120\n",
       "READM_30_HOSP_WIDE_score          -0.3620      0.011    -33.256      0.000      -0.383      -0.341\n",
       "READM_30_PN_score                 -0.0275      0.011     -2.592      0.010      -0.048      -0.007\n",
       "H_CLEAN_LINEAR_SCORE_mean          0.0390      0.013      3.031      0.002       0.014       0.064\n",
       "H_COMP_1_LINEAR_SCORE_mean         0.0499      0.023      2.155      0.031       0.004       0.095\n",
       "H_COMP_3_LINEAR_SCORE_mean         0.1034      0.019      5.520      0.000       0.067       0.140\n",
       "H_COMP_4_LINEAR_SCORE_mean         0.0606      0.017      3.530      0.000       0.027       0.094\n",
       "H_COMP_5_LINEAR_SCORE_mean         0.0481      0.015      3.174      0.002       0.018       0.078\n",
       "H_COMP_7_LINEAR_SCORE_mean         0.0810      0.018      4.499      0.000       0.046       0.116\n",
       "H_HSP_RATING_LINEAR_SCORE_mean     0.1057      0.018      5.834      0.000       0.070       0.141\n",
       "OP_10                             -0.0331      0.008     -4.137      0.000      -0.049      -0.017\n",
       "ED_1b_score                       -0.0601      0.010     -6.149      0.000      -0.079      -0.041\n",
       "government                        -0.0779      0.023     -3.377      0.001      -0.123      -0.033\n",
       "==============================================================================\n",
       "Omnibus:                       21.655   Durbin-Watson:                   1.964\n",
       "Prob(Omnibus):                  0.000   Jarque-Bera (JB):               24.052\n",
       "Skew:                          -0.175   Prob(JB):                     5.99e-06\n",
       "Kurtosis:                       3.322   Cond. No.                         7.26\n",
       "==============================================================================\n",
       "\n",
       "Warnings:\n",
       "[1] Standard Errors assume that the covariance matrix of the errors is correctly specified.\n",
       "\"\"\""
      ]
     },
     "execution_count": 167,
     "metadata": {},
     "output_type": "execute_result"
    }
   ],
   "source": [
    "lr_model_1.summary()"
   ]
  },
  {
   "cell_type": "markdown",
   "metadata": {},
   "source": [
    "### Removing \"H_COMP_1_LINEAR_SCORE_mean\" due to high p-value"
   ]
  },
  {
   "cell_type": "code",
   "execution_count": 168,
   "metadata": {},
   "outputs": [
    {
     "name": "stderr",
     "output_type": "stream",
     "text": [
      "C:\\Users\\srath\\AppData\\Local\\Continuum\\anaconda3\\lib\\site-packages\\pandas\\core\\frame.py:3697: SettingWithCopyWarning: \n",
      "A value is trying to be set on a copy of a slice from a DataFrame\n",
      "\n",
      "See the caveats in the documentation: http://pandas.pydata.org/pandas-docs/stable/indexing.html#indexing-view-versus-copy\n",
      "  errors=errors)\n"
     ]
    }
   ],
   "source": [
    "rfe_x_train.drop('H_COMP_1_LINEAR_SCORE_mean', axis= 1, inplace=True)"
   ]
  },
  {
   "cell_type": "markdown",
   "metadata": {},
   "source": [
    "### Rebuild the model after removing least significant feature"
   ]
  },
  {
   "cell_type": "code",
   "execution_count": null,
   "metadata": {},
   "outputs": [],
   "source": []
  },
  {
   "cell_type": "code",
   "execution_count": 169,
   "metadata": {},
   "outputs": [],
   "source": [
    "import statsmodels.api as sm"
   ]
  },
  {
   "cell_type": "code",
   "execution_count": 170,
   "metadata": {},
   "outputs": [],
   "source": [
    "x_train_all = sm.add_constant(rfe_x_train)"
   ]
  },
  {
   "cell_type": "code",
   "execution_count": 171,
   "metadata": {
    "scrolled": true
   },
   "outputs": [],
   "source": [
    "lr_model_3 = sm.OLS(y_train.astype('float'), x_train_all).fit()"
   ]
  },
  {
   "cell_type": "code",
   "execution_count": 172,
   "metadata": {},
   "outputs": [
    {
     "data": {
      "text/plain": [
       "const                             3.106534\n",
       "MORT_30_COPD_score               -0.083848\n",
       "MORT_30_HF_score                 -0.124062\n",
       "MORT_30_PN_score                 -0.139536\n",
       "READM_30_HOSP_WIDE_score         -0.360535\n",
       "READM_30_PN_score                -0.026465\n",
       "H_CLEAN_LINEAR_SCORE_mean         0.041878\n",
       "H_COMP_3_LINEAR_SCORE_mean        0.119411\n",
       "H_COMP_4_LINEAR_SCORE_mean        0.073746\n",
       "H_COMP_5_LINEAR_SCORE_mean        0.054477\n",
       "H_COMP_7_LINEAR_SCORE_mean        0.089516\n",
       "H_HSP_RATING_LINEAR_SCORE_mean    0.111234\n",
       "OP_10                            -0.032905\n",
       "ED_1b_score                      -0.058984\n",
       "government                       -0.078709\n",
       "dtype: float64"
      ]
     },
     "execution_count": 172,
     "metadata": {},
     "output_type": "execute_result"
    }
   ],
   "source": [
    "lr_model_3.params"
   ]
  },
  {
   "cell_type": "code",
   "execution_count": 173,
   "metadata": {},
   "outputs": [
    {
     "data": {
      "text/html": [
       "<table class=\"simpletable\">\n",
       "<caption>OLS Regression Results</caption>\n",
       "<tr>\n",
       "  <th>Dep. Variable:</th>    <td>Hospital_overall_rating</td> <th>  R-squared:         </th> <td>   0.722</td>\n",
       "</tr>\n",
       "<tr>\n",
       "  <th>Model:</th>                      <td>OLS</td>           <th>  Adj. R-squared:    </th> <td>   0.720</td>\n",
       "</tr>\n",
       "<tr>\n",
       "  <th>Method:</th>                <td>Least Squares</td>      <th>  F-statistic:       </th> <td>   470.2</td>\n",
       "</tr>\n",
       "<tr>\n",
       "  <th>Date:</th>                <td>Mon, 23 Dec 2019</td>     <th>  Prob (F-statistic):</th>  <td>  0.00</td> \n",
       "</tr>\n",
       "<tr>\n",
       "  <th>Time:</th>                    <td>22:39:00</td>         <th>  Log-Likelihood:    </th> <td> -1529.1</td>\n",
       "</tr>\n",
       "<tr>\n",
       "  <th>No. Observations:</th>         <td>  2553</td>          <th>  AIC:               </th> <td>   3088.</td>\n",
       "</tr>\n",
       "<tr>\n",
       "  <th>Df Residuals:</th>             <td>  2538</td>          <th>  BIC:               </th> <td>   3176.</td>\n",
       "</tr>\n",
       "<tr>\n",
       "  <th>Df Model:</th>                 <td>    14</td>          <th>                     </th>     <td> </td>   \n",
       "</tr>\n",
       "<tr>\n",
       "  <th>Covariance Type:</th>         <td>nonrobust</td>        <th>                     </th>     <td> </td>   \n",
       "</tr>\n",
       "</table>\n",
       "<table class=\"simpletable\">\n",
       "<tr>\n",
       "                 <td></td>                   <th>coef</th>     <th>std err</th>      <th>t</th>      <th>P>|t|</th>  <th>[0.025</th>    <th>0.975]</th>  \n",
       "</tr>\n",
       "<tr>\n",
       "  <th>const</th>                          <td>    3.1065</td> <td>    0.010</td> <td>  320.273</td> <td> 0.000</td> <td>    3.088</td> <td>    3.126</td>\n",
       "</tr>\n",
       "<tr>\n",
       "  <th>MORT_30_COPD_score</th>             <td>   -0.0838</td> <td>    0.010</td> <td>   -8.569</td> <td> 0.000</td> <td>   -0.103</td> <td>   -0.065</td>\n",
       "</tr>\n",
       "<tr>\n",
       "  <th>MORT_30_HF_score</th>               <td>   -0.1241</td> <td>    0.010</td> <td>  -12.176</td> <td> 0.000</td> <td>   -0.144</td> <td>   -0.104</td>\n",
       "</tr>\n",
       "<tr>\n",
       "  <th>MORT_30_PN_score</th>               <td>   -0.1395</td> <td>    0.010</td> <td>  -13.982</td> <td> 0.000</td> <td>   -0.159</td> <td>   -0.120</td>\n",
       "</tr>\n",
       "<tr>\n",
       "  <th>READM_30_HOSP_WIDE_score</th>       <td>   -0.3605</td> <td>    0.011</td> <td>  -33.163</td> <td> 0.000</td> <td>   -0.382</td> <td>   -0.339</td>\n",
       "</tr>\n",
       "<tr>\n",
       "  <th>READM_30_PN_score</th>              <td>   -0.0265</td> <td>    0.011</td> <td>   -2.493</td> <td> 0.013</td> <td>   -0.047</td> <td>   -0.006</td>\n",
       "</tr>\n",
       "<tr>\n",
       "  <th>H_CLEAN_LINEAR_SCORE_mean</th>      <td>    0.0419</td> <td>    0.013</td> <td>    3.270</td> <td> 0.001</td> <td>    0.017</td> <td>    0.067</td>\n",
       "</tr>\n",
       "<tr>\n",
       "  <th>H_COMP_3_LINEAR_SCORE_mean</th>     <td>    0.1194</td> <td>    0.017</td> <td>    6.933</td> <td> 0.000</td> <td>    0.086</td> <td>    0.153</td>\n",
       "</tr>\n",
       "<tr>\n",
       "  <th>H_COMP_4_LINEAR_SCORE_mean</th>     <td>    0.0737</td> <td>    0.016</td> <td>    4.590</td> <td> 0.000</td> <td>    0.042</td> <td>    0.105</td>\n",
       "</tr>\n",
       "<tr>\n",
       "  <th>H_COMP_5_LINEAR_SCORE_mean</th>     <td>    0.0545</td> <td>    0.015</td> <td>    3.664</td> <td> 0.000</td> <td>    0.025</td> <td>    0.084</td>\n",
       "</tr>\n",
       "<tr>\n",
       "  <th>H_COMP_7_LINEAR_SCORE_mean</th>     <td>    0.0895</td> <td>    0.018</td> <td>    5.093</td> <td> 0.000</td> <td>    0.055</td> <td>    0.124</td>\n",
       "</tr>\n",
       "<tr>\n",
       "  <th>H_HSP_RATING_LINEAR_SCORE_mean</th> <td>    0.1112</td> <td>    0.018</td> <td>    6.196</td> <td> 0.000</td> <td>    0.076</td> <td>    0.146</td>\n",
       "</tr>\n",
       "<tr>\n",
       "  <th>OP_10</th>                          <td>   -0.0329</td> <td>    0.008</td> <td>   -4.106</td> <td> 0.000</td> <td>   -0.049</td> <td>   -0.017</td>\n",
       "</tr>\n",
       "<tr>\n",
       "  <th>ED_1b_score</th>                    <td>   -0.0590</td> <td>    0.010</td> <td>   -6.037</td> <td> 0.000</td> <td>   -0.078</td> <td>   -0.040</td>\n",
       "</tr>\n",
       "<tr>\n",
       "  <th>government</th>                     <td>   -0.0787</td> <td>    0.023</td> <td>   -3.412</td> <td> 0.001</td> <td>   -0.124</td> <td>   -0.033</td>\n",
       "</tr>\n",
       "</table>\n",
       "<table class=\"simpletable\">\n",
       "<tr>\n",
       "  <th>Omnibus:</th>       <td>20.597</td> <th>  Durbin-Watson:     </th> <td>   1.962</td>\n",
       "</tr>\n",
       "<tr>\n",
       "  <th>Prob(Omnibus):</th> <td> 0.000</td> <th>  Jarque-Bera (JB):  </th> <td>  22.906</td>\n",
       "</tr>\n",
       "<tr>\n",
       "  <th>Skew:</th>          <td>-0.169</td> <th>  Prob(JB):          </th> <td>1.06e-05</td>\n",
       "</tr>\n",
       "<tr>\n",
       "  <th>Kurtosis:</th>      <td> 3.319</td> <th>  Cond. No.          </th> <td>    6.08</td>\n",
       "</tr>\n",
       "</table><br/><br/>Warnings:<br/>[1] Standard Errors assume that the covariance matrix of the errors is correctly specified."
      ],
      "text/plain": [
       "<class 'statsmodels.iolib.summary.Summary'>\n",
       "\"\"\"\n",
       "                               OLS Regression Results                              \n",
       "===================================================================================\n",
       "Dep. Variable:     Hospital_overall_rating   R-squared:                       0.722\n",
       "Model:                                 OLS   Adj. R-squared:                  0.720\n",
       "Method:                      Least Squares   F-statistic:                     470.2\n",
       "Date:                     Mon, 23 Dec 2019   Prob (F-statistic):               0.00\n",
       "Time:                             22:39:00   Log-Likelihood:                -1529.1\n",
       "No. Observations:                     2553   AIC:                             3088.\n",
       "Df Residuals:                         2538   BIC:                             3176.\n",
       "Df Model:                               14                                         \n",
       "Covariance Type:                 nonrobust                                         \n",
       "==================================================================================================\n",
       "                                     coef    std err          t      P>|t|      [0.025      0.975]\n",
       "--------------------------------------------------------------------------------------------------\n",
       "const                              3.1065      0.010    320.273      0.000       3.088       3.126\n",
       "MORT_30_COPD_score                -0.0838      0.010     -8.569      0.000      -0.103      -0.065\n",
       "MORT_30_HF_score                  -0.1241      0.010    -12.176      0.000      -0.144      -0.104\n",
       "MORT_30_PN_score                  -0.1395      0.010    -13.982      0.000      -0.159      -0.120\n",
       "READM_30_HOSP_WIDE_score          -0.3605      0.011    -33.163      0.000      -0.382      -0.339\n",
       "READM_30_PN_score                 -0.0265      0.011     -2.493      0.013      -0.047      -0.006\n",
       "H_CLEAN_LINEAR_SCORE_mean          0.0419      0.013      3.270      0.001       0.017       0.067\n",
       "H_COMP_3_LINEAR_SCORE_mean         0.1194      0.017      6.933      0.000       0.086       0.153\n",
       "H_COMP_4_LINEAR_SCORE_mean         0.0737      0.016      4.590      0.000       0.042       0.105\n",
       "H_COMP_5_LINEAR_SCORE_mean         0.0545      0.015      3.664      0.000       0.025       0.084\n",
       "H_COMP_7_LINEAR_SCORE_mean         0.0895      0.018      5.093      0.000       0.055       0.124\n",
       "H_HSP_RATING_LINEAR_SCORE_mean     0.1112      0.018      6.196      0.000       0.076       0.146\n",
       "OP_10                             -0.0329      0.008     -4.106      0.000      -0.049      -0.017\n",
       "ED_1b_score                       -0.0590      0.010     -6.037      0.000      -0.078      -0.040\n",
       "government                        -0.0787      0.023     -3.412      0.001      -0.124      -0.033\n",
       "==============================================================================\n",
       "Omnibus:                       20.597   Durbin-Watson:                   1.962\n",
       "Prob(Omnibus):                  0.000   Jarque-Bera (JB):               22.906\n",
       "Skew:                          -0.169   Prob(JB):                     1.06e-05\n",
       "Kurtosis:                       3.319   Cond. No.                         6.08\n",
       "==============================================================================\n",
       "\n",
       "Warnings:\n",
       "[1] Standard Errors assume that the covariance matrix of the errors is correctly specified.\n",
       "\"\"\""
      ]
     },
     "execution_count": 173,
     "metadata": {},
     "output_type": "execute_result"
    }
   ],
   "source": [
    "lr_model_3.summary()"
   ]
  },
  {
   "cell_type": "markdown",
   "metadata": {},
   "source": [
    "### VIF's calculation"
   ]
  },
  {
   "cell_type": "code",
   "execution_count": 174,
   "metadata": {},
   "outputs": [],
   "source": [
    "from statsmodels.stats.outliers_influence  import variance_inflation_factor"
   ]
  },
  {
   "cell_type": "code",
   "execution_count": 175,
   "metadata": {},
   "outputs": [
    {
     "data": {
      "text/html": [
       "<div>\n",
       "<style scoped>\n",
       "    .dataframe tbody tr th:only-of-type {\n",
       "        vertical-align: middle;\n",
       "    }\n",
       "\n",
       "    .dataframe tbody tr th {\n",
       "        vertical-align: top;\n",
       "    }\n",
       "\n",
       "    .dataframe thead th {\n",
       "        text-align: right;\n",
       "    }\n",
       "</style>\n",
       "<table border=\"1\" class=\"dataframe\">\n",
       "  <thead>\n",
       "    <tr style=\"text-align: right;\">\n",
       "      <th></th>\n",
       "      <th>features</th>\n",
       "      <th>VIF</th>\n",
       "    </tr>\n",
       "  </thead>\n",
       "  <tbody>\n",
       "    <tr>\n",
       "      <th>10</th>\n",
       "      <td>H_HSP_RATING_LINEAR_SCORE_mean</td>\n",
       "      <td>4.18</td>\n",
       "    </tr>\n",
       "    <tr>\n",
       "      <th>9</th>\n",
       "      <td>H_COMP_7_LINEAR_SCORE_mean</td>\n",
       "      <td>4.05</td>\n",
       "    </tr>\n",
       "    <tr>\n",
       "      <th>6</th>\n",
       "      <td>H_COMP_3_LINEAR_SCORE_mean</td>\n",
       "      <td>3.94</td>\n",
       "    </tr>\n",
       "    <tr>\n",
       "      <th>7</th>\n",
       "      <td>H_COMP_4_LINEAR_SCORE_mean</td>\n",
       "      <td>3.35</td>\n",
       "    </tr>\n",
       "    <tr>\n",
       "      <th>8</th>\n",
       "      <td>H_COMP_5_LINEAR_SCORE_mean</td>\n",
       "      <td>2.90</td>\n",
       "    </tr>\n",
       "    <tr>\n",
       "      <th>5</th>\n",
       "      <td>H_CLEAN_LINEAR_SCORE_mean</td>\n",
       "      <td>2.16</td>\n",
       "    </tr>\n",
       "    <tr>\n",
       "      <th>3</th>\n",
       "      <td>READM_30_HOSP_WIDE_score</td>\n",
       "      <td>1.57</td>\n",
       "    </tr>\n",
       "    <tr>\n",
       "      <th>4</th>\n",
       "      <td>READM_30_PN_score</td>\n",
       "      <td>1.49</td>\n",
       "    </tr>\n",
       "    <tr>\n",
       "      <th>1</th>\n",
       "      <td>MORT_30_HF_score</td>\n",
       "      <td>1.38</td>\n",
       "    </tr>\n",
       "    <tr>\n",
       "      <th>2</th>\n",
       "      <td>MORT_30_PN_score</td>\n",
       "      <td>1.32</td>\n",
       "    </tr>\n",
       "    <tr>\n",
       "      <th>0</th>\n",
       "      <td>MORT_30_COPD_score</td>\n",
       "      <td>1.27</td>\n",
       "    </tr>\n",
       "    <tr>\n",
       "      <th>12</th>\n",
       "      <td>ED_1b_score</td>\n",
       "      <td>1.27</td>\n",
       "    </tr>\n",
       "    <tr>\n",
       "      <th>11</th>\n",
       "      <td>OP_10</td>\n",
       "      <td>1.02</td>\n",
       "    </tr>\n",
       "    <tr>\n",
       "      <th>13</th>\n",
       "      <td>government</td>\n",
       "      <td>1.02</td>\n",
       "    </tr>\n",
       "  </tbody>\n",
       "</table>\n",
       "</div>"
      ],
      "text/plain": [
       "                          features   VIF\n",
       "10  H_HSP_RATING_LINEAR_SCORE_mean  4.18\n",
       "9       H_COMP_7_LINEAR_SCORE_mean  4.05\n",
       "6       H_COMP_3_LINEAR_SCORE_mean  3.94\n",
       "7       H_COMP_4_LINEAR_SCORE_mean  3.35\n",
       "8       H_COMP_5_LINEAR_SCORE_mean  2.90\n",
       "5        H_CLEAN_LINEAR_SCORE_mean  2.16\n",
       "3         READM_30_HOSP_WIDE_score  1.57\n",
       "4                READM_30_PN_score  1.49\n",
       "1                 MORT_30_HF_score  1.38\n",
       "2                 MORT_30_PN_score  1.32\n",
       "0               MORT_30_COPD_score  1.27\n",
       "12                     ED_1b_score  1.27\n",
       "11                           OP_10  1.02\n",
       "13                      government  1.02"
      ]
     },
     "execution_count": 175,
     "metadata": {},
     "output_type": "execute_result"
    }
   ],
   "source": [
    "vif = pd.DataFrame()\n",
    "vif['features'] =  rfe_x_train.columns\n",
    "vif['VIF'] = [variance_inflation_factor(rfe_x_train.values, i)  for i in range(rfe_x_train.shape[1])]\n",
    "\n",
    "vif['VIF'] = round(vif['VIF'], 2)\n",
    "vif = vif.sort_values(by = 'VIF', ascending = False)\n",
    "\n",
    "vif"
   ]
  },
  {
   "cell_type": "markdown",
   "metadata": {},
   "source": [
    "#### All VIF's are less than 5."
   ]
  },
  {
   "cell_type": "markdown",
   "metadata": {},
   "source": [
    "### Residual Analysis and Predictions"
   ]
  },
  {
   "cell_type": "code",
   "execution_count": 176,
   "metadata": {},
   "outputs": [],
   "source": [
    "y_train_pred = lr_model_3.predict(x_train_all)"
   ]
  },
  {
   "cell_type": "code",
   "execution_count": 177,
   "metadata": {
    "scrolled": true
   },
   "outputs": [
    {
     "name": "stderr",
     "output_type": "stream",
     "text": [
      "C:\\Users\\srath\\AppData\\Local\\Continuum\\anaconda3\\lib\\site-packages\\scipy\\stats\\stats.py:1713: FutureWarning: Using a non-tuple sequence for multidimensional indexing is deprecated; use `arr[tuple(seq)]` instead of `arr[seq]`. In the future this will be interpreted as an array index, `arr[np.array(seq)]`, which will result either in an error or a different result.\n",
      "  return np.add.reduce(sorted[indexer] * weights, axis=axis) / sumval\n"
     ]
    },
    {
     "data": {
      "text/plain": [
       "Text(0.5, 0, 'Errors')"
      ]
     },
     "execution_count": 177,
     "metadata": {},
     "output_type": "execute_result"
    },
    {
     "data": {
      "image/png": "[encoded data removed]",
      "text/plain": [
       "<Figure size 432x288 with 1 Axes>"
      ]
     },
     "metadata": {
      "needs_background": "light"
     },
     "output_type": "display_data"
    }
   ],
   "source": [
    "sns.distplot((y_train.astype('int') - y_train_pred.astype('int')), bins = 15)\n",
    "plt.xlabel('Errors', fontsize = 18)    "
   ]
  },
  {
   "cell_type": "markdown",
   "metadata": {},
   "source": [
    "### Making predictions on test data"
   ]
  },
  {
   "cell_type": "code",
   "execution_count": 178,
   "metadata": {},
   "outputs": [],
   "source": [
    "x_test = x_test[rfe_x_train.columns]"
   ]
  },
  {
   "cell_type": "code",
   "execution_count": 179,
   "metadata": {},
   "outputs": [
    {
     "data": {
      "text/plain": [
       "14"
      ]
     },
     "execution_count": 179,
     "metadata": {},
     "output_type": "execute_result"
    }
   ],
   "source": [
    "len(x_test.columns)"
   ]
  },
  {
   "cell_type": "code",
   "execution_count": 180,
   "metadata": {},
   "outputs": [],
   "source": [
    "x_test_final = sm.add_constant(x_test)"
   ]
  },
  {
   "cell_type": "code",
   "execution_count": 181,
   "metadata": {},
   "outputs": [],
   "source": [
    "y_pred_test = lr_model_3.predict(x_test_final)"
   ]
  },
  {
   "cell_type": "markdown",
   "metadata": {},
   "source": [
    "### Model Evaluation"
   ]
  },
  {
   "cell_type": "code",
   "execution_count": 182,
   "metadata": {},
   "outputs": [
    {
     "data": {
      "text/plain": [
       "<matplotlib.collections.PathCollection at 0x10883d209b0>"
      ]
     },
     "execution_count": 182,
     "metadata": {},
     "output_type": "execute_result"
    },
    {
     "data": {
      "image/png": "[encoded data removed]",
      "text/plain": [
       "<Figure size 432x288 with 1 Axes>"
      ]
     },
     "metadata": {
      "needs_background": "light"
     },
     "output_type": "display_data"
    }
   ],
   "source": [
    "plt.scatter(y_test,y_pred_test)"
   ]
  },
  {
   "cell_type": "markdown",
   "metadata": {},
   "source": [
    "# Part 3: Factor Analysis"
   ]
  },
  {
   "cell_type": "code",
   "execution_count": 183,
   "metadata": {},
   "outputs": [
    {
     "name": "stdout",
     "output_type": "stream",
     "text": [
      "Requirement already satisfied: eli5 in c:\\users\\srath\\appdata\\local\\continuum\\anaconda3\\lib\\site-packages (0.10.1)\n",
      "Requirement already satisfied: numpy>=1.9.0 in c:\\users\\srath\\appdata\\local\\continuum\\anaconda3\\lib\\site-packages (from eli5) (1.15.4)\n",
      "Requirement already satisfied: six in c:\\users\\srath\\appdata\\local\\continuum\\anaconda3\\lib\\site-packages (from eli5) (1.12.0)\n",
      "Requirement already satisfied: scipy in c:\\users\\srath\\appdata\\local\\continuum\\anaconda3\\lib\\site-packages (from eli5) (1.1.0)\n",
      "Requirement already satisfied: scikit-learn>=0.18 in c:\\users\\srath\\appdata\\local\\continuum\\anaconda3\\lib\\site-packages (from eli5) (0.21.3)\n",
      "Requirement already satisfied: jinja2 in c:\\users\\srath\\appdata\\local\\continuum\\anaconda3\\lib\\site-packages (from eli5) (2.10)\n",
      "Requirement already satisfied: attrs>16.0.0 in c:\\users\\srath\\appdata\\local\\continuum\\anaconda3\\lib\\site-packages (from eli5) (18.2.0)\n",
      "Requirement already satisfied: tabulate>=0.7.7 in c:\\users\\srath\\appdata\\local\\continuum\\anaconda3\\lib\\site-packages (from eli5) (0.8.6)\n",
      "Requirement already satisfied: graphviz in c:\\users\\srath\\appdata\\local\\continuum\\anaconda3\\lib\\site-packages (from eli5) (0.11.1)\n",
      "Requirement already satisfied: joblib>=0.11 in c:\\users\\srath\\appdata\\local\\continuum\\anaconda3\\lib\\site-packages (from scikit-learn>=0.18->eli5) (0.13.2)\n",
      "Requirement already satisfied: MarkupSafe>=0.23 in c:\\users\\srath\\appdata\\local\\continuum\\anaconda3\\lib\\site-packages (from jinja2->eli5) (1.1.0)\n"
     ]
    }
   ],
   "source": [
    "!pip install eli5"
   ]
  },
  {
   "cell_type": "code",
   "execution_count": null,
   "metadata": {},
   "outputs": [],
   "source": []
  },
  {
   "cell_type": "code",
   "execution_count": 185,
   "metadata": {},
   "outputs": [],
   "source": [
    "import eli5"
   ]
  },
  {
   "cell_type": "code",
   "execution_count": 189,
   "metadata": {},
   "outputs": [],
   "source": [
    "#eli5.show_weights(lr_model_3)"
   ]
  },
  {
   "cell_type": "code",
   "execution_count": 190,
   "metadata": {},
   "outputs": [
    {
     "data": {
      "text/plain": [
       "Text(0, 0.5, 'y_pred')"
      ]
     },
     "execution_count": 190,
     "metadata": {},
     "output_type": "execute_result"
    },
    {
     "data": {
      "image/png": "[encoded data removed]",
      "text/plain": [
       "<Figure size 432x288 with 1 Axes>"
      ]
     },
     "metadata": {
      "needs_background": "light"
     },
     "output_type": "display_data"
    }
   ],
   "source": [
    "# Plotting y_test and y_pred to understand the spread\n",
    "\n",
    "fig = plt.figure()\n",
    "plt.scatter(y_test, y_pred_test)\n",
    "fig.suptitle('y_test vs y_pred', fontsize = 20)              # Plot heading \n",
    "plt.xlabel('y_test', fontsize = 18)                          # X-label\n",
    "plt.ylabel('y_pred', fontsize = 16)  "
   ]
  },
  {
   "cell_type": "code",
   "execution_count": 188,
   "metadata": {},
   "outputs": [
    {
     "data": {
      "text/plain": [
       "0.6761977854105893"
      ]
     },
     "execution_count": 188,
     "metadata": {},
     "output_type": "execute_result"
    }
   ],
   "source": [
    "from sklearn.metrics import r2_score\n",
    "\n",
    "r2_score(y_test, y_pred_test)"
   ]
  },
  {
   "cell_type": "code",
   "execution_count": 191,
   "metadata": {},
   "outputs": [
    {
     "ename": "ValueError",
     "evalue": "x and y must be the same size",
     "output_type": "error",
     "traceback": [
      "\u001b[1;31m---------------------------------------------------------------------------\u001b[0m",
      "\u001b[1;31mValueError\u001b[0m                                Traceback (most recent call last)",
      "\u001b[1;32m<ipython-input-191-985d58263b5e>\u001b[0m in \u001b[0;36m<module>\u001b[1;34m\u001b[0m\n\u001b[1;32m----> 1\u001b[1;33m \u001b[0mplt\u001b[0m\u001b[1;33m.\u001b[0m\u001b[0mscatter\u001b[0m\u001b[1;33m(\u001b[0m\u001b[0mrfe_x_train\u001b[0m\u001b[1;33m,\u001b[0m \u001b[0my_train\u001b[0m\u001b[1;33m,\u001b[0m \u001b[0mcolor\u001b[0m \u001b[1;33m=\u001b[0m \u001b[1;34m\"red\"\u001b[0m\u001b[1;33m)\u001b[0m\u001b[1;33m\u001b[0m\u001b[1;33m\u001b[0m\u001b[0m\n\u001b[0m\u001b[0;32m      2\u001b[0m \u001b[0mplt\u001b[0m\u001b[1;33m.\u001b[0m\u001b[0mplot\u001b[0m\u001b[1;33m(\u001b[0m\u001b[0mrfe_x_train\u001b[0m\u001b[1;33m,\u001b[0m \u001b[0my_train_pred\u001b[0m\u001b[1;33m,\u001b[0m \u001b[0mcolor\u001b[0m \u001b[1;33m=\u001b[0m \u001b[1;34m\"green\"\u001b[0m\u001b[1;33m)\u001b[0m\u001b[1;33m\u001b[0m\u001b[1;33m\u001b[0m\u001b[0m\n\u001b[0;32m      3\u001b[0m \u001b[1;33m\u001b[0m\u001b[0m\n\u001b[0;32m      4\u001b[0m \u001b[0mplt\u001b[0m\u001b[1;33m.\u001b[0m\u001b[0mshow\u001b[0m\u001b[1;33m(\u001b[0m\u001b[1;33m)\u001b[0m\u001b[1;33m\u001b[0m\u001b[1;33m\u001b[0m\u001b[0m\n",
      "\u001b[1;32m~\\AppData\\Local\\Continuum\\anaconda3\\lib\\site-packages\\matplotlib\\pyplot.py\u001b[0m in \u001b[0;36mscatter\u001b[1;34m(x, y, s, c, marker, cmap, norm, vmin, vmax, alpha, linewidths, verts, edgecolors, data, **kwargs)\u001b[0m\n\u001b[0;32m   2862\u001b[0m         \u001b[0mvmin\u001b[0m\u001b[1;33m=\u001b[0m\u001b[0mvmin\u001b[0m\u001b[1;33m,\u001b[0m \u001b[0mvmax\u001b[0m\u001b[1;33m=\u001b[0m\u001b[0mvmax\u001b[0m\u001b[1;33m,\u001b[0m \u001b[0malpha\u001b[0m\u001b[1;33m=\u001b[0m\u001b[0malpha\u001b[0m\u001b[1;33m,\u001b[0m \u001b[0mlinewidths\u001b[0m\u001b[1;33m=\u001b[0m\u001b[0mlinewidths\u001b[0m\u001b[1;33m,\u001b[0m\u001b[1;33m\u001b[0m\u001b[1;33m\u001b[0m\u001b[0m\n\u001b[0;32m   2863\u001b[0m         verts=verts, edgecolors=edgecolors, **({\"data\": data} if data\n\u001b[1;32m-> 2864\u001b[1;33m         is not None else {}), **kwargs)\n\u001b[0m\u001b[0;32m   2865\u001b[0m     \u001b[0msci\u001b[0m\u001b[1;33m(\u001b[0m\u001b[0m__ret\u001b[0m\u001b[1;33m)\u001b[0m\u001b[1;33m\u001b[0m\u001b[1;33m\u001b[0m\u001b[0m\n\u001b[0;32m   2866\u001b[0m     \u001b[1;32mreturn\u001b[0m \u001b[0m__ret\u001b[0m\u001b[1;33m\u001b[0m\u001b[1;33m\u001b[0m\u001b[0m\n",
      "\u001b[1;32m~\\AppData\\Local\\Continuum\\anaconda3\\lib\\site-packages\\matplotlib\\__init__.py\u001b[0m in \u001b[0;36minner\u001b[1;34m(ax, data, *args, **kwargs)\u001b[0m\n\u001b[0;32m   1808\u001b[0m                         \u001b[1;34m\"the Matplotlib list!)\"\u001b[0m \u001b[1;33m%\u001b[0m \u001b[1;33m(\u001b[0m\u001b[0mlabel_namer\u001b[0m\u001b[1;33m,\u001b[0m \u001b[0mfunc\u001b[0m\u001b[1;33m.\u001b[0m\u001b[0m__name__\u001b[0m\u001b[1;33m)\u001b[0m\u001b[1;33m,\u001b[0m\u001b[1;33m\u001b[0m\u001b[1;33m\u001b[0m\u001b[0m\n\u001b[0;32m   1809\u001b[0m                         RuntimeWarning, stacklevel=2)\n\u001b[1;32m-> 1810\u001b[1;33m             \u001b[1;32mreturn\u001b[0m \u001b[0mfunc\u001b[0m\u001b[1;33m(\u001b[0m\u001b[0max\u001b[0m\u001b[1;33m,\u001b[0m \u001b[1;33m*\u001b[0m\u001b[0margs\u001b[0m\u001b[1;33m,\u001b[0m \u001b[1;33m**\u001b[0m\u001b[0mkwargs\u001b[0m\u001b[1;33m)\u001b[0m\u001b[1;33m\u001b[0m\u001b[1;33m\u001b[0m\u001b[0m\n\u001b[0m\u001b[0;32m   1811\u001b[0m \u001b[1;33m\u001b[0m\u001b[0m\n\u001b[0;32m   1812\u001b[0m         inner.__doc__ = _add_data_doc(inner.__doc__,\n",
      "\u001b[1;32m~\\AppData\\Local\\Continuum\\anaconda3\\lib\\site-packages\\matplotlib\\axes\\_axes.py\u001b[0m in \u001b[0;36mscatter\u001b[1;34m(self, x, y, s, c, marker, cmap, norm, vmin, vmax, alpha, linewidths, verts, edgecolors, **kwargs)\u001b[0m\n\u001b[0;32m   4180\u001b[0m         \u001b[0my\u001b[0m \u001b[1;33m=\u001b[0m \u001b[0mnp\u001b[0m\u001b[1;33m.\u001b[0m\u001b[0mma\u001b[0m\u001b[1;33m.\u001b[0m\u001b[0mravel\u001b[0m\u001b[1;33m(\u001b[0m\u001b[0my\u001b[0m\u001b[1;33m)\u001b[0m\u001b[1;33m\u001b[0m\u001b[1;33m\u001b[0m\u001b[0m\n\u001b[0;32m   4181\u001b[0m         \u001b[1;32mif\u001b[0m \u001b[0mx\u001b[0m\u001b[1;33m.\u001b[0m\u001b[0msize\u001b[0m \u001b[1;33m!=\u001b[0m \u001b[0my\u001b[0m\u001b[1;33m.\u001b[0m\u001b[0msize\u001b[0m\u001b[1;33m:\u001b[0m\u001b[1;33m\u001b[0m\u001b[1;33m\u001b[0m\u001b[0m\n\u001b[1;32m-> 4182\u001b[1;33m             \u001b[1;32mraise\u001b[0m \u001b[0mValueError\u001b[0m\u001b[1;33m(\u001b[0m\u001b[1;34m\"x and y must be the same size\"\u001b[0m\u001b[1;33m)\u001b[0m\u001b[1;33m\u001b[0m\u001b[1;33m\u001b[0m\u001b[0m\n\u001b[0m\u001b[0;32m   4183\u001b[0m \u001b[1;33m\u001b[0m\u001b[0m\n\u001b[0;32m   4184\u001b[0m         \u001b[1;32mif\u001b[0m \u001b[0ms\u001b[0m \u001b[1;32mis\u001b[0m \u001b[1;32mNone\u001b[0m\u001b[1;33m:\u001b[0m\u001b[1;33m\u001b[0m\u001b[1;33m\u001b[0m\u001b[0m\n",
      "\u001b[1;31mValueError\u001b[0m: x and y must be the same size"
     ]
    },
    {
     "data": {
      "image/png": "[encoded data removed]",
      "text/plain": [
       "<Figure size 432x288 with 1 Axes>"
      ]
     },
     "metadata": {
      "needs_background": "light"
     },
     "output_type": "display_data"
    }
   ],
   "source": [
    "plt.scatter(rfe_x_train, y_train, color = \"red\")\n",
    "plt.plot(rfe_x_train, y_train_pred, color = \"green\")\n",
    "\n",
    "plt.show()"
   ]
  },
  {
   "cell_type": "code",
   "execution_count": 192,
   "metadata": {},
   "outputs": [
    {
     "data": {
      "text/plain": [
       "(1095, 14)"
      ]
     },
     "execution_count": 192,
     "metadata": {},
     "output_type": "execute_result"
    }
   ],
   "source": [
    "x_test.shape"
   ]
  },
  {
   "cell_type": "code",
   "execution_count": 193,
   "metadata": {},
   "outputs": [
    {
     "data": {
      "text/plain": [
       "(1095,)"
      ]
     },
     "execution_count": 193,
     "metadata": {},
     "output_type": "execute_result"
    }
   ],
   "source": [
    "y_test.shape"
   ]
  },
  {
   "cell_type": "code",
   "execution_count": 194,
   "metadata": {},
   "outputs": [
    {
     "data": {
      "text/plain": [
       "(1095,)"
      ]
     },
     "execution_count": 194,
     "metadata": {},
     "output_type": "execute_result"
    }
   ],
   "source": [
    "y_pred_test.shape"
   ]
  },
  {
   "cell_type": "code",
   "execution_count": 195,
   "metadata": {},
   "outputs": [],
   "source": [
    "final_pred_df = pd.concat([x_test, y_test,y_pred_test], axis= 1)"
   ]
  },
  {
   "cell_type": "code",
   "execution_count": 196,
   "metadata": {},
   "outputs": [],
   "source": [
    "final_pred_df.to_csv(path + 'final_pred_df.csv')"
   ]
  },
  {
   "cell_type": "code",
   "execution_count": null,
   "metadata": {},
   "outputs": [],
   "source": []
  },
  {
   "cell_type": "code",
   "execution_count": null,
   "metadata": {},
   "outputs": [],
   "source": []
  },
  {
   "cell_type": "code",
   "execution_count": null,
   "metadata": {},
   "outputs": [],
   "source": []
  },
  {
   "cell_type": "code",
   "execution_count": 197,
   "metadata": {},
   "outputs": [],
   "source": [
    "from sklearn.linear_model import LinearRegression\n",
    "\n",
    "lr = LinearRegression()"
   ]
  },
  {
   "cell_type": "code",
   "execution_count": 198,
   "metadata": {},
   "outputs": [
    {
     "data": {
      "text/plain": [
       "LinearRegression(copy_X=True, fit_intercept=True, n_jobs=None,\n",
       "         normalize=False)"
      ]
     },
     "execution_count": 198,
     "metadata": {},
     "output_type": "execute_result"
    }
   ],
   "source": [
    "lr.fit(rfe_x_train, y_train.astype('float'))"
   ]
  },
  {
   "cell_type": "code",
   "execution_count": 202,
   "metadata": {},
   "outputs": [
    {
     "data": {
      "text/html": [
       "\n",
       "    <style>\n",
       "    table.eli5-weights tr:hover {\n",
       "        filter: brightness(85%);\n",
       "    }\n",
       "</style>\n",
       "\n",
       "\n",
       "\n",
       "    \n",
       "\n",
       "    \n",
       "\n",
       "    \n",
       "\n",
       "    \n",
       "\n",
       "    \n",
       "\n",
       "    \n",
       "\n",
       "\n",
       "    \n",
       "\n",
       "    \n",
       "\n",
       "    \n",
       "\n",
       "    \n",
       "        \n",
       "\n",
       "    \n",
       "\n",
       "        \n",
       "            \n",
       "                \n",
       "                \n",
       "    \n",
       "        <p style=\"margin-bottom: 0.5em; margin-top: 0em\">\n",
       "            <b>\n",
       "    \n",
       "        y\n",
       "    \n",
       "</b>\n",
       "\n",
       "top features\n",
       "        </p>\n",
       "    \n",
       "    <table class=\"eli5-weights\"\n",
       "           style=\"border-collapse: collapse; border: none; margin-top: 0em; table-layout: auto; margin-bottom: 2em;\">\n",
       "        <thead>\n",
       "        <tr style=\"border: none;\">\n",
       "            \n",
       "                <th style=\"padding: 0 1em 0 0.5em; text-align: right; border: none;\" title=\"Feature weights. Note that weights do not account for feature value scales, so if feature values have different scales, features with highest weights might not be the most important.\">\n",
       "                    Weight<sup>?</sup>\n",
       "                </th>\n",
       "            \n",
       "            <th style=\"padding: 0 0.5em 0 0.5em; text-align: left; border: none;\">Feature</th>\n",
       "            \n",
       "        </tr>\n",
       "        </thead>\n",
       "        <tbody>\n",
       "        \n",
       "            <tr style=\"background-color: hsl(120, 100.00%, 80.00%); border: none;\">\n",
       "    <td style=\"padding: 0 1em 0 0.5em; text-align: right; border: none;\">\n",
       "        +3.107\n",
       "    </td>\n",
       "    <td style=\"padding: 0 0.5em 0 0.5em; text-align: left; border: none;\">\n",
       "        &lt;BIAS&gt;\n",
       "    </td>\n",
       "    \n",
       "</tr>\n",
       "        \n",
       "            <tr style=\"background-color: hsl(120, 100.00%, 97.96%); border: none;\">\n",
       "    <td style=\"padding: 0 1em 0 0.5em; text-align: right; border: none;\">\n",
       "        +0.119\n",
       "    </td>\n",
       "    <td style=\"padding: 0 0.5em 0 0.5em; text-align: left; border: none;\">\n",
       "        H_COMP_3_LINEAR_SCORE_mean\n",
       "    </td>\n",
       "    \n",
       "</tr>\n",
       "        \n",
       "            <tr style=\"background-color: hsl(120, 100.00%, 98.06%); border: none;\">\n",
       "    <td style=\"padding: 0 1em 0 0.5em; text-align: right; border: none;\">\n",
       "        +0.111\n",
       "    </td>\n",
       "    <td style=\"padding: 0 0.5em 0 0.5em; text-align: left; border: none;\">\n",
       "        H_HSP_RATING_LINEAR_SCORE_mean\n",
       "    </td>\n",
       "    \n",
       "</tr>\n",
       "        \n",
       "            <tr style=\"background-color: hsl(120, 100.00%, 98.33%); border: none;\">\n",
       "    <td style=\"padding: 0 1em 0 0.5em; text-align: right; border: none;\">\n",
       "        +0.090\n",
       "    </td>\n",
       "    <td style=\"padding: 0 0.5em 0 0.5em; text-align: left; border: none;\">\n",
       "        H_COMP_7_LINEAR_SCORE_mean\n",
       "    </td>\n",
       "    \n",
       "</tr>\n",
       "        \n",
       "            <tr style=\"background-color: hsl(120, 100.00%, 98.54%); border: none;\">\n",
       "    <td style=\"padding: 0 1em 0 0.5em; text-align: right; border: none;\">\n",
       "        +0.074\n",
       "    </td>\n",
       "    <td style=\"padding: 0 0.5em 0 0.5em; text-align: left; border: none;\">\n",
       "        H_COMP_4_LINEAR_SCORE_mean\n",
       "    </td>\n",
       "    \n",
       "</tr>\n",
       "        \n",
       "            <tr style=\"background-color: hsl(120, 100.00%, 98.82%); border: none;\">\n",
       "    <td style=\"padding: 0 1em 0 0.5em; text-align: right; border: none;\">\n",
       "        +0.054\n",
       "    </td>\n",
       "    <td style=\"padding: 0 0.5em 0 0.5em; text-align: left; border: none;\">\n",
       "        H_COMP_5_LINEAR_SCORE_mean\n",
       "    </td>\n",
       "    \n",
       "</tr>\n",
       "        \n",
       "            <tr style=\"background-color: hsl(120, 100.00%, 99.02%); border: none;\">\n",
       "    <td style=\"padding: 0 1em 0 0.5em; text-align: right; border: none;\">\n",
       "        +0.042\n",
       "    </td>\n",
       "    <td style=\"padding: 0 0.5em 0 0.5em; text-align: left; border: none;\">\n",
       "        H_CLEAN_LINEAR_SCORE_mean\n",
       "    </td>\n",
       "    \n",
       "</tr>\n",
       "        \n",
       "        \n",
       "\n",
       "        \n",
       "        \n",
       "            <tr style=\"background-color: hsl(0, 100.00%, 99.29%); border: none;\">\n",
       "    <td style=\"padding: 0 1em 0 0.5em; text-align: right; border: none;\">\n",
       "        -0.026\n",
       "    </td>\n",
       "    <td style=\"padding: 0 0.5em 0 0.5em; text-align: left; border: none;\">\n",
       "        READM_30_PN_score\n",
       "    </td>\n",
       "    \n",
       "</tr>\n",
       "        \n",
       "            <tr style=\"background-color: hsl(0, 100.00%, 99.17%); border: none;\">\n",
       "    <td style=\"padding: 0 1em 0 0.5em; text-align: right; border: none;\">\n",
       "        -0.033\n",
       "    </td>\n",
       "    <td style=\"padding: 0 0.5em 0 0.5em; text-align: left; border: none;\">\n",
       "        OP_10\n",
       "    </td>\n",
       "    \n",
       "</tr>\n",
       "        \n",
       "            <tr style=\"background-color: hsl(0, 100.00%, 98.75%); border: none;\">\n",
       "    <td style=\"padding: 0 1em 0 0.5em; text-align: right; border: none;\">\n",
       "        -0.059\n",
       "    </td>\n",
       "    <td style=\"padding: 0 0.5em 0 0.5em; text-align: left; border: none;\">\n",
       "        ED_1b_score\n",
       "    </td>\n",
       "    \n",
       "</tr>\n",
       "        \n",
       "            <tr style=\"background-color: hsl(0, 100.00%, 98.47%); border: none;\">\n",
       "    <td style=\"padding: 0 1em 0 0.5em; text-align: right; border: none;\">\n",
       "        -0.079\n",
       "    </td>\n",
       "    <td style=\"padding: 0 0.5em 0 0.5em; text-align: left; border: none;\">\n",
       "        government\n",
       "    </td>\n",
       "    \n",
       "</tr>\n",
       "        \n",
       "            <tr style=\"background-color: hsl(0, 100.00%, 98.40%); border: none;\">\n",
       "    <td style=\"padding: 0 1em 0 0.5em; text-align: right; border: none;\">\n",
       "        -0.084\n",
       "    </td>\n",
       "    <td style=\"padding: 0 0.5em 0 0.5em; text-align: left; border: none;\">\n",
       "        MORT_30_COPD_score\n",
       "    </td>\n",
       "    \n",
       "</tr>\n",
       "        \n",
       "            <tr style=\"background-color: hsl(0, 100.00%, 97.90%); border: none;\">\n",
       "    <td style=\"padding: 0 1em 0 0.5em; text-align: right; border: none;\">\n",
       "        -0.124\n",
       "    </td>\n",
       "    <td style=\"padding: 0 0.5em 0 0.5em; text-align: left; border: none;\">\n",
       "        MORT_30_HF_score\n",
       "    </td>\n",
       "    \n",
       "</tr>\n",
       "        \n",
       "            <tr style=\"background-color: hsl(0, 100.00%, 97.72%); border: none;\">\n",
       "    <td style=\"padding: 0 1em 0 0.5em; text-align: right; border: none;\">\n",
       "        -0.140\n",
       "    </td>\n",
       "    <td style=\"padding: 0 0.5em 0 0.5em; text-align: left; border: none;\">\n",
       "        MORT_30_PN_score\n",
       "    </td>\n",
       "    \n",
       "</tr>\n",
       "        \n",
       "            <tr style=\"background-color: hsl(0, 100.00%, 95.57%); border: none;\">\n",
       "    <td style=\"padding: 0 1em 0 0.5em; text-align: right; border: none;\">\n",
       "        -0.361\n",
       "    </td>\n",
       "    <td style=\"padding: 0 0.5em 0 0.5em; text-align: left; border: none;\">\n",
       "        READM_30_HOSP_WIDE_score\n",
       "    </td>\n",
       "    \n",
       "</tr>\n",
       "        \n",
       "\n",
       "        </tbody>\n",
       "    </table>\n",
       "\n",
       "            \n",
       "        \n",
       "\n",
       "        \n",
       "\n",
       "\n",
       "\n",
       "    \n",
       "\n",
       "    \n",
       "\n",
       "    \n",
       "\n",
       "    \n",
       "\n",
       "\n",
       "    \n",
       "\n",
       "    \n",
       "\n",
       "    \n",
       "\n",
       "    \n",
       "\n",
       "    \n",
       "\n",
       "    \n",
       "\n",
       "\n",
       "    \n",
       "\n",
       "    \n",
       "\n",
       "    \n",
       "\n",
       "    \n",
       "\n",
       "    \n",
       "\n",
       "    \n",
       "\n",
       "\n",
       "\n"
      ],
      "text/plain": [
       "<IPython.core.display.HTML object>"
      ]
     },
     "execution_count": 202,
     "metadata": {},
     "output_type": "execute_result"
    }
   ],
   "source": [
    "eli5.show_weights(lr, feature_names = list(rfe_x_train.columns))"
   ]
  },
  {
   "cell_type": "code",
   "execution_count": 203,
   "metadata": {},
   "outputs": [
    {
     "data": {
      "text/html": [
       "<table class=\"simpletable\">\n",
       "<caption>OLS Regression Results</caption>\n",
       "<tr>\n",
       "  <th>Dep. Variable:</th>    <td>Hospital_overall_rating</td> <th>  R-squared:         </th> <td>   0.722</td>\n",
       "</tr>\n",
       "<tr>\n",
       "  <th>Model:</th>                      <td>OLS</td>           <th>  Adj. R-squared:    </th> <td>   0.720</td>\n",
       "</tr>\n",
       "<tr>\n",
       "  <th>Method:</th>                <td>Least Squares</td>      <th>  F-statistic:       </th> <td>   470.2</td>\n",
       "</tr>\n",
       "<tr>\n",
       "  <th>Date:</th>                <td>Wed, 25 Dec 2019</td>     <th>  Prob (F-statistic):</th>  <td>  0.00</td> \n",
       "</tr>\n",
       "<tr>\n",
       "  <th>Time:</th>                    <td>21:48:08</td>         <th>  Log-Likelihood:    </th> <td> -1529.1</td>\n",
       "</tr>\n",
       "<tr>\n",
       "  <th>No. Observations:</th>         <td>  2553</td>          <th>  AIC:               </th> <td>   3088.</td>\n",
       "</tr>\n",
       "<tr>\n",
       "  <th>Df Residuals:</th>             <td>  2538</td>          <th>  BIC:               </th> <td>   3176.</td>\n",
       "</tr>\n",
       "<tr>\n",
       "  <th>Df Model:</th>                 <td>    14</td>          <th>                     </th>     <td> </td>   \n",
       "</tr>\n",
       "<tr>\n",
       "  <th>Covariance Type:</th>         <td>nonrobust</td>        <th>                     </th>     <td> </td>   \n",
       "</tr>\n",
       "</table>\n",
       "<table class=\"simpletable\">\n",
       "<tr>\n",
       "                 <td></td>                   <th>coef</th>     <th>std err</th>      <th>t</th>      <th>P>|t|</th>  <th>[0.025</th>    <th>0.975]</th>  \n",
       "</tr>\n",
       "<tr>\n",
       "  <th>const</th>                          <td>    3.1065</td> <td>    0.010</td> <td>  320.273</td> <td> 0.000</td> <td>    3.088</td> <td>    3.126</td>\n",
       "</tr>\n",
       "<tr>\n",
       "  <th>MORT_30_COPD_score</th>             <td>   -0.0838</td> <td>    0.010</td> <td>   -8.569</td> <td> 0.000</td> <td>   -0.103</td> <td>   -0.065</td>\n",
       "</tr>\n",
       "<tr>\n",
       "  <th>MORT_30_HF_score</th>               <td>   -0.1241</td> <td>    0.010</td> <td>  -12.176</td> <td> 0.000</td> <td>   -0.144</td> <td>   -0.104</td>\n",
       "</tr>\n",
       "<tr>\n",
       "  <th>MORT_30_PN_score</th>               <td>   -0.1395</td> <td>    0.010</td> <td>  -13.982</td> <td> 0.000</td> <td>   -0.159</td> <td>   -0.120</td>\n",
       "</tr>\n",
       "<tr>\n",
       "  <th>READM_30_HOSP_WIDE_score</th>       <td>   -0.3605</td> <td>    0.011</td> <td>  -33.163</td> <td> 0.000</td> <td>   -0.382</td> <td>   -0.339</td>\n",
       "</tr>\n",
       "<tr>\n",
       "  <th>READM_30_PN_score</th>              <td>   -0.0265</td> <td>    0.011</td> <td>   -2.493</td> <td> 0.013</td> <td>   -0.047</td> <td>   -0.006</td>\n",
       "</tr>\n",
       "<tr>\n",
       "  <th>H_CLEAN_LINEAR_SCORE_mean</th>      <td>    0.0419</td> <td>    0.013</td> <td>    3.270</td> <td> 0.001</td> <td>    0.017</td> <td>    0.067</td>\n",
       "</tr>\n",
       "<tr>\n",
       "  <th>H_COMP_3_LINEAR_SCORE_mean</th>     <td>    0.1194</td> <td>    0.017</td> <td>    6.933</td> <td> 0.000</td> <td>    0.086</td> <td>    0.153</td>\n",
       "</tr>\n",
       "<tr>\n",
       "  <th>H_COMP_4_LINEAR_SCORE_mean</th>     <td>    0.0737</td> <td>    0.016</td> <td>    4.590</td> <td> 0.000</td> <td>    0.042</td> <td>    0.105</td>\n",
       "</tr>\n",
       "<tr>\n",
       "  <th>H_COMP_5_LINEAR_SCORE_mean</th>     <td>    0.0545</td> <td>    0.015</td> <td>    3.664</td> <td> 0.000</td> <td>    0.025</td> <td>    0.084</td>\n",
       "</tr>\n",
       "<tr>\n",
       "  <th>H_COMP_7_LINEAR_SCORE_mean</th>     <td>    0.0895</td> <td>    0.018</td> <td>    5.093</td> <td> 0.000</td> <td>    0.055</td> <td>    0.124</td>\n",
       "</tr>\n",
       "<tr>\n",
       "  <th>H_HSP_RATING_LINEAR_SCORE_mean</th> <td>    0.1112</td> <td>    0.018</td> <td>    6.196</td> <td> 0.000</td> <td>    0.076</td> <td>    0.146</td>\n",
       "</tr>\n",
       "<tr>\n",
       "  <th>OP_10</th>                          <td>   -0.0329</td> <td>    0.008</td> <td>   -4.106</td> <td> 0.000</td> <td>   -0.049</td> <td>   -0.017</td>\n",
       "</tr>\n",
       "<tr>\n",
       "  <th>ED_1b_score</th>                    <td>   -0.0590</td> <td>    0.010</td> <td>   -6.037</td> <td> 0.000</td> <td>   -0.078</td> <td>   -0.040</td>\n",
       "</tr>\n",
       "<tr>\n",
       "  <th>government</th>                     <td>   -0.0787</td> <td>    0.023</td> <td>   -3.412</td> <td> 0.001</td> <td>   -0.124</td> <td>   -0.033</td>\n",
       "</tr>\n",
       "</table>\n",
       "<table class=\"simpletable\">\n",
       "<tr>\n",
       "  <th>Omnibus:</th>       <td>20.597</td> <th>  Durbin-Watson:     </th> <td>   1.962</td>\n",
       "</tr>\n",
       "<tr>\n",
       "  <th>Prob(Omnibus):</th> <td> 0.000</td> <th>  Jarque-Bera (JB):  </th> <td>  22.906</td>\n",
       "</tr>\n",
       "<tr>\n",
       "  <th>Skew:</th>          <td>-0.169</td> <th>  Prob(JB):          </th> <td>1.06e-05</td>\n",
       "</tr>\n",
       "<tr>\n",
       "  <th>Kurtosis:</th>      <td> 3.319</td> <th>  Cond. No.          </th> <td>    6.08</td>\n",
       "</tr>\n",
       "</table><br/><br/>Warnings:<br/>[1] Standard Errors assume that the covariance matrix of the errors is correctly specified."
      ],
      "text/plain": [
       "<class 'statsmodels.iolib.summary.Summary'>\n",
       "\"\"\"\n",
       "                               OLS Regression Results                              \n",
       "===================================================================================\n",
       "Dep. Variable:     Hospital_overall_rating   R-squared:                       0.722\n",
       "Model:                                 OLS   Adj. R-squared:                  0.720\n",
       "Method:                      Least Squares   F-statistic:                     470.2\n",
       "Date:                     Wed, 25 Dec 2019   Prob (F-statistic):               0.00\n",
       "Time:                             21:48:08   Log-Likelihood:                -1529.1\n",
       "No. Observations:                     2553   AIC:                             3088.\n",
       "Df Residuals:                         2538   BIC:                             3176.\n",
       "Df Model:                               14                                         \n",
       "Covariance Type:                 nonrobust                                         \n",
       "==================================================================================================\n",
       "                                     coef    std err          t      P>|t|      [0.025      0.975]\n",
       "--------------------------------------------------------------------------------------------------\n",
       "const                              3.1065      0.010    320.273      0.000       3.088       3.126\n",
       "MORT_30_COPD_score                -0.0838      0.010     -8.569      0.000      -0.103      -0.065\n",
       "MORT_30_HF_score                  -0.1241      0.010    -12.176      0.000      -0.144      -0.104\n",
       "MORT_30_PN_score                  -0.1395      0.010    -13.982      0.000      -0.159      -0.120\n",
       "READM_30_HOSP_WIDE_score          -0.3605      0.011    -33.163      0.000      -0.382      -0.339\n",
       "READM_30_PN_score                 -0.0265      0.011     -2.493      0.013      -0.047      -0.006\n",
       "H_CLEAN_LINEAR_SCORE_mean          0.0419      0.013      3.270      0.001       0.017       0.067\n",
       "H_COMP_3_LINEAR_SCORE_mean         0.1194      0.017      6.933      0.000       0.086       0.153\n",
       "H_COMP_4_LINEAR_SCORE_mean         0.0737      0.016      4.590      0.000       0.042       0.105\n",
       "H_COMP_5_LINEAR_SCORE_mean         0.0545      0.015      3.664      0.000       0.025       0.084\n",
       "H_COMP_7_LINEAR_SCORE_mean         0.0895      0.018      5.093      0.000       0.055       0.124\n",
       "H_HSP_RATING_LINEAR_SCORE_mean     0.1112      0.018      6.196      0.000       0.076       0.146\n",
       "OP_10                             -0.0329      0.008     -4.106      0.000      -0.049      -0.017\n",
       "ED_1b_score                       -0.0590      0.010     -6.037      0.000      -0.078      -0.040\n",
       "government                        -0.0787      0.023     -3.412      0.001      -0.124      -0.033\n",
       "==============================================================================\n",
       "Omnibus:                       20.597   Durbin-Watson:                   1.962\n",
       "Prob(Omnibus):                  0.000   Jarque-Bera (JB):               22.906\n",
       "Skew:                          -0.169   Prob(JB):                     1.06e-05\n",
       "Kurtosis:                       3.319   Cond. No.                         6.08\n",
       "==============================================================================\n",
       "\n",
       "Warnings:\n",
       "[1] Standard Errors assume that the covariance matrix of the errors is correctly specified.\n",
       "\"\"\""
      ]
     },
     "execution_count": 203,
     "metadata": {},
     "output_type": "execute_result"
    }
   ],
   "source": [
    "lr_model_3.summary()"
   ]
  },
  {
   "cell_type": "code",
   "execution_count": null,
   "metadata": {},
   "outputs": [],
   "source": []
  }
 ],
 "metadata": {
  "kernelspec": {
   "display_name": "Python 3",
   "language": "python",
   "name": "python3"
  },
  "language_info": {
   "codemirror_mode": {
    "name": "ipython",
    "version": 3
   },
   "file_extension": ".py",
   "mimetype": "text/x-python",
   "name": "python",
   "nbconvert_exporter": "python",
   "pygments_lexer": "ipython3",
   "version": "3.7.1"
  }
 },
 "nbformat": 4,
 "nbformat_minor": 2
}
